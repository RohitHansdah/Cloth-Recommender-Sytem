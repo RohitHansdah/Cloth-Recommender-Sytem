{
  "nbformat": 4,
  "nbformat_minor": 5,
  "metadata": {
    "kernelspec": {
      "display_name": "Python 3",
      "language": "python",
      "name": "python3"
    },
    "language_info": {
      "codemirror_mode": {
        "name": "ipython",
        "version": 3
      },
      "file_extension": ".py",
      "mimetype": "text/x-python",
      "name": "python",
      "nbconvert_exporter": "python",
      "pygments_lexer": "ipython3",
      "version": "3.6.8"
    },
    "colab": {
      "name": "Model Train.ipynb",
      "provenance": [],
      "collapsed_sections": [
        "36d41366",
        "7543a7fb",
        "30622de6",
        "c909dc70",
        "41fa80b6",
        "d5522e59"
      ]
    }
  },
  "cells": [
    {
      "cell_type": "markdown",
      "metadata": {
        "id": "17f047ff"
      },
      "source": [
        "# Importing Libraries"
      ],
      "id": "17f047ff"
    },
    {
      "cell_type": "code",
      "metadata": {
        "colab": {
          "base_uri": "https://localhost:8080/",
          "height": 1000
        },
        "id": "mMG6RxeaxI7k",
        "outputId": "c1fd4fcd-e92b-447f-df04-2bb58d613604"
      },
      "source": [
        "!pip install turicreate"
      ],
      "id": "mMG6RxeaxI7k",
      "execution_count": 1,
      "outputs": [
        {
          "output_type": "stream",
          "text": [
            "Collecting turicreate\n",
            "  Downloading turicreate-6.4.1-cp37-cp37m-manylinux1_x86_64.whl (92.0 MB)\n",
            "\u001b[K     |████████████████████████████████| 92.0 MB 1.3 MB/s \n",
            "\u001b[?25hCollecting prettytable==0.7.2\n",
            "  Downloading prettytable-0.7.2.zip (28 kB)\n",
            "Collecting coremltools==3.3\n",
            "  Downloading coremltools-3.3-cp37-none-manylinux1_x86_64.whl (3.5 MB)\n",
            "\u001b[K     |████████████████████████████████| 3.5 MB 37.5 MB/s \n",
            "\u001b[?25hRequirement already satisfied: pandas>=0.23.2 in /usr/local/lib/python3.7/dist-packages (from turicreate) (1.1.5)\n",
            "Collecting numba<0.51.0\n",
            "  Downloading numba-0.50.1-cp37-cp37m-manylinux2014_x86_64.whl (3.6 MB)\n",
            "\u001b[K     |████████████████████████████████| 3.6 MB 46.7 MB/s \n",
            "\u001b[?25hRequirement already satisfied: decorator>=4.0.9 in /usr/local/lib/python3.7/dist-packages (from turicreate) (4.4.2)\n",
            "Requirement already satisfied: numpy in /usr/local/lib/python3.7/dist-packages (from turicreate) (1.19.5)\n",
            "Requirement already satisfied: requests>=2.9.1 in /usr/local/lib/python3.7/dist-packages (from turicreate) (2.23.0)\n",
            "Collecting resampy==0.2.1\n",
            "  Downloading resampy-0.2.1.tar.gz (322 kB)\n",
            "\u001b[K     |████████████████████████████████| 322 kB 45.6 MB/s \n",
            "\u001b[?25hRequirement already satisfied: six>=1.10.0 in /usr/local/lib/python3.7/dist-packages (from turicreate) (1.15.0)\n",
            "Requirement already satisfied: scipy>=1.1.0 in /usr/local/lib/python3.7/dist-packages (from turicreate) (1.4.1)\n",
            "Collecting tensorflow<2.1.0,>=2.0.0\n",
            "  Downloading tensorflow-2.0.4-cp37-cp37m-manylinux2010_x86_64.whl (86.4 MB)\n",
            "\u001b[K     |████████████████████████████████| 86.4 MB 18 kB/s \n",
            "\u001b[?25hRequirement already satisfied: pillow>=5.2.0 in /usr/local/lib/python3.7/dist-packages (from turicreate) (7.1.2)\n",
            "Requirement already satisfied: protobuf>=3.1.0 in /usr/local/lib/python3.7/dist-packages (from coremltools==3.3->turicreate) (3.17.3)\n",
            "Requirement already satisfied: setuptools in /usr/local/lib/python3.7/dist-packages (from numba<0.51.0->turicreate) (57.2.0)\n",
            "Collecting llvmlite<0.34,>=0.33.0.dev0\n",
            "  Downloading llvmlite-0.33.0-cp37-cp37m-manylinux1_x86_64.whl (18.3 MB)\n",
            "\u001b[K     |████████████████████████████████| 18.3 MB 1.2 MB/s \n",
            "\u001b[?25hRequirement already satisfied: pytz>=2017.2 in /usr/local/lib/python3.7/dist-packages (from pandas>=0.23.2->turicreate) (2018.9)\n",
            "Requirement already satisfied: python-dateutil>=2.7.3 in /usr/local/lib/python3.7/dist-packages (from pandas>=0.23.2->turicreate) (2.8.1)\n",
            "Requirement already satisfied: certifi>=2017.4.17 in /usr/local/lib/python3.7/dist-packages (from requests>=2.9.1->turicreate) (2021.5.30)\n",
            "Requirement already satisfied: chardet<4,>=3.0.2 in /usr/local/lib/python3.7/dist-packages (from requests>=2.9.1->turicreate) (3.0.4)\n",
            "Requirement already satisfied: idna<3,>=2.5 in /usr/local/lib/python3.7/dist-packages (from requests>=2.9.1->turicreate) (2.10)\n",
            "Requirement already satisfied: urllib3!=1.25.0,!=1.25.1,<1.26,>=1.21.1 in /usr/local/lib/python3.7/dist-packages (from requests>=2.9.1->turicreate) (1.24.3)\n",
            "Collecting numpy\n",
            "  Downloading numpy-1.18.5-cp37-cp37m-manylinux1_x86_64.whl (20.1 MB)\n",
            "\u001b[K     |████████████████████████████████| 20.1 MB 1.4 MB/s \n",
            "\u001b[?25hCollecting h5py<=2.10.0\n",
            "  Downloading h5py-2.10.0-cp37-cp37m-manylinux1_x86_64.whl (2.9 MB)\n",
            "\u001b[K     |████████████████████████████████| 2.9 MB 59.6 MB/s \n",
            "\u001b[?25hRequirement already satisfied: keras-preprocessing>=1.0.5 in /usr/local/lib/python3.7/dist-packages (from tensorflow<2.1.0,>=2.0.0->turicreate) (1.1.2)\n",
            "Requirement already satisfied: wrapt>=1.11.1 in /usr/local/lib/python3.7/dist-packages (from tensorflow<2.1.0,>=2.0.0->turicreate) (1.12.1)\n",
            "Collecting keras-applications>=1.0.8\n",
            "  Downloading Keras_Applications-1.0.8-py3-none-any.whl (50 kB)\n",
            "\u001b[K     |████████████████████████████████| 50 kB 7.6 MB/s \n",
            "\u001b[?25hRequirement already satisfied: wheel>=0.26 in /usr/local/lib/python3.7/dist-packages (from tensorflow<2.1.0,>=2.0.0->turicreate) (0.36.2)\n",
            "Requirement already satisfied: google-pasta>=0.1.6 in /usr/local/lib/python3.7/dist-packages (from tensorflow<2.1.0,>=2.0.0->turicreate) (0.2.0)\n",
            "Requirement already satisfied: grpcio>=1.8.6 in /usr/local/lib/python3.7/dist-packages (from tensorflow<2.1.0,>=2.0.0->turicreate) (1.34.1)\n",
            "Requirement already satisfied: termcolor>=1.1.0 in /usr/local/lib/python3.7/dist-packages (from tensorflow<2.1.0,>=2.0.0->turicreate) (1.1.0)\n",
            "Collecting tensorboard<2.1.0,>=2.0.0\n",
            "  Downloading tensorboard-2.0.2-py3-none-any.whl (3.8 MB)\n",
            "\u001b[K     |████████████████████████████████| 3.8 MB 40.0 MB/s \n",
            "\u001b[?25hCollecting gast==0.2.2\n",
            "  Downloading gast-0.2.2.tar.gz (10 kB)\n",
            "Collecting tensorflow-estimator<2.1.0,>=2.0.0\n",
            "  Downloading tensorflow_estimator-2.0.1-py2.py3-none-any.whl (449 kB)\n",
            "\u001b[K     |████████████████████████████████| 449 kB 54.2 MB/s \n",
            "\u001b[?25hRequirement already satisfied: opt-einsum>=2.3.2 in /usr/local/lib/python3.7/dist-packages (from tensorflow<2.1.0,>=2.0.0->turicreate) (3.3.0)\n",
            "Requirement already satisfied: absl-py>=0.7.0 in /usr/local/lib/python3.7/dist-packages (from tensorflow<2.1.0,>=2.0.0->turicreate) (0.12.0)\n",
            "Requirement already satisfied: astor>=0.6.0 in /usr/local/lib/python3.7/dist-packages (from tensorflow<2.1.0,>=2.0.0->turicreate) (0.8.1)\n",
            "Requirement already satisfied: google-auth<2,>=1.6.3 in /usr/local/lib/python3.7/dist-packages (from tensorboard<2.1.0,>=2.0.0->tensorflow<2.1.0,>=2.0.0->turicreate) (1.32.1)\n",
            "Requirement already satisfied: werkzeug>=0.11.15 in /usr/local/lib/python3.7/dist-packages (from tensorboard<2.1.0,>=2.0.0->tensorflow<2.1.0,>=2.0.0->turicreate) (1.0.1)\n",
            "Requirement already satisfied: markdown>=2.6.8 in /usr/local/lib/python3.7/dist-packages (from tensorboard<2.1.0,>=2.0.0->tensorflow<2.1.0,>=2.0.0->turicreate) (3.3.4)\n",
            "Requirement already satisfied: google-auth-oauthlib<0.5,>=0.4.1 in /usr/local/lib/python3.7/dist-packages (from tensorboard<2.1.0,>=2.0.0->tensorflow<2.1.0,>=2.0.0->turicreate) (0.4.4)\n",
            "Requirement already satisfied: rsa<5,>=3.1.4 in /usr/local/lib/python3.7/dist-packages (from google-auth<2,>=1.6.3->tensorboard<2.1.0,>=2.0.0->tensorflow<2.1.0,>=2.0.0->turicreate) (4.7.2)\n",
            "Requirement already satisfied: pyasn1-modules>=0.2.1 in /usr/local/lib/python3.7/dist-packages (from google-auth<2,>=1.6.3->tensorboard<2.1.0,>=2.0.0->tensorflow<2.1.0,>=2.0.0->turicreate) (0.2.8)\n",
            "Requirement already satisfied: cachetools<5.0,>=2.0.0 in /usr/local/lib/python3.7/dist-packages (from google-auth<2,>=1.6.3->tensorboard<2.1.0,>=2.0.0->tensorflow<2.1.0,>=2.0.0->turicreate) (4.2.2)\n",
            "Requirement already satisfied: requests-oauthlib>=0.7.0 in /usr/local/lib/python3.7/dist-packages (from google-auth-oauthlib<0.5,>=0.4.1->tensorboard<2.1.0,>=2.0.0->tensorflow<2.1.0,>=2.0.0->turicreate) (1.3.0)\n",
            "Requirement already satisfied: importlib-metadata in /usr/local/lib/python3.7/dist-packages (from markdown>=2.6.8->tensorboard<2.1.0,>=2.0.0->tensorflow<2.1.0,>=2.0.0->turicreate) (4.6.1)\n",
            "Requirement already satisfied: pyasn1<0.5.0,>=0.4.6 in /usr/local/lib/python3.7/dist-packages (from pyasn1-modules>=0.2.1->google-auth<2,>=1.6.3->tensorboard<2.1.0,>=2.0.0->tensorflow<2.1.0,>=2.0.0->turicreate) (0.4.8)\n",
            "Requirement already satisfied: oauthlib>=3.0.0 in /usr/local/lib/python3.7/dist-packages (from requests-oauthlib>=0.7.0->google-auth-oauthlib<0.5,>=0.4.1->tensorboard<2.1.0,>=2.0.0->tensorflow<2.1.0,>=2.0.0->turicreate) (3.1.1)\n",
            "Requirement already satisfied: typing-extensions>=3.6.4 in /usr/local/lib/python3.7/dist-packages (from importlib-metadata->markdown>=2.6.8->tensorboard<2.1.0,>=2.0.0->tensorflow<2.1.0,>=2.0.0->turicreate) (3.7.4.3)\n",
            "Requirement already satisfied: zipp>=0.5 in /usr/local/lib/python3.7/dist-packages (from importlib-metadata->markdown>=2.6.8->tensorboard<2.1.0,>=2.0.0->tensorflow<2.1.0,>=2.0.0->turicreate) (3.5.0)\n",
            "Building wheels for collected packages: prettytable, resampy, gast\n",
            "  Building wheel for prettytable (setup.py) ... \u001b[?25l\u001b[?25hdone\n",
            "  Created wheel for prettytable: filename=prettytable-0.7.2-py3-none-any.whl size=13714 sha256=409fdb1cf2db906de06d9d4dd0fbbc3a69b9046f2e349f53e71af0f8bb50f8db\n",
            "  Stored in directory: /root/.cache/pip/wheels/b2/7f/f6/f180315b584f00445045ff1699b550fa895d09471337ce21c6\n",
            "  Building wheel for resampy (setup.py) ... \u001b[?25l\u001b[?25hdone\n",
            "  Created wheel for resampy: filename=resampy-0.2.1-py3-none-any.whl size=320860 sha256=470a656cb17ea1d6add2db46a24894e63ba21a135e8ecfd4c5bb8cda97660083\n",
            "  Stored in directory: /root/.cache/pip/wheels/71/74/53/d5ceb7c5ee7a168c7d106041863e71ac3273f4a4677743a284\n",
            "  Building wheel for gast (setup.py) ... \u001b[?25l\u001b[?25hdone\n",
            "  Created wheel for gast: filename=gast-0.2.2-py3-none-any.whl size=7553 sha256=1e42dbf75cedea36ca119d5e005388252aee1d8184d1b250f14ee3ea05c5d906\n",
            "  Stored in directory: /root/.cache/pip/wheels/21/7f/02/420f32a803f7d0967b48dd823da3f558c5166991bfd204eef3\n",
            "Successfully built prettytable resampy gast\n",
            "Installing collected packages: numpy, llvmlite, h5py, tensorflow-estimator, tensorboard, numba, keras-applications, gast, tensorflow, resampy, prettytable, coremltools, turicreate\n",
            "  Attempting uninstall: numpy\n",
            "    Found existing installation: numpy 1.19.5\n",
            "    Uninstalling numpy-1.19.5:\n",
            "      Successfully uninstalled numpy-1.19.5\n",
            "  Attempting uninstall: llvmlite\n",
            "    Found existing installation: llvmlite 0.34.0\n",
            "    Uninstalling llvmlite-0.34.0:\n",
            "      Successfully uninstalled llvmlite-0.34.0\n",
            "  Attempting uninstall: h5py\n",
            "    Found existing installation: h5py 3.1.0\n",
            "    Uninstalling h5py-3.1.0:\n",
            "      Successfully uninstalled h5py-3.1.0\n",
            "  Attempting uninstall: tensorflow-estimator\n",
            "    Found existing installation: tensorflow-estimator 2.5.0\n",
            "    Uninstalling tensorflow-estimator-2.5.0:\n",
            "      Successfully uninstalled tensorflow-estimator-2.5.0\n",
            "  Attempting uninstall: tensorboard\n",
            "    Found existing installation: tensorboard 2.5.0\n",
            "    Uninstalling tensorboard-2.5.0:\n",
            "      Successfully uninstalled tensorboard-2.5.0\n",
            "  Attempting uninstall: numba\n",
            "    Found existing installation: numba 0.51.2\n",
            "    Uninstalling numba-0.51.2:\n",
            "      Successfully uninstalled numba-0.51.2\n",
            "  Attempting uninstall: gast\n",
            "    Found existing installation: gast 0.4.0\n",
            "    Uninstalling gast-0.4.0:\n",
            "      Successfully uninstalled gast-0.4.0\n",
            "  Attempting uninstall: tensorflow\n",
            "    Found existing installation: tensorflow 2.5.0\n",
            "    Uninstalling tensorflow-2.5.0:\n",
            "      Successfully uninstalled tensorflow-2.5.0\n",
            "  Attempting uninstall: resampy\n",
            "    Found existing installation: resampy 0.2.2\n",
            "    Uninstalling resampy-0.2.2:\n",
            "      Successfully uninstalled resampy-0.2.2\n",
            "  Attempting uninstall: prettytable\n",
            "    Found existing installation: prettytable 2.1.0\n",
            "    Uninstalling prettytable-2.1.0:\n",
            "      Successfully uninstalled prettytable-2.1.0\n",
            "\u001b[31mERROR: pip's dependency resolver does not currently take into account all the packages that are installed. This behaviour is the source of the following dependency conflicts.\n",
            "tensorflow-probability 0.13.0 requires gast>=0.3.2, but you have gast 0.2.2 which is incompatible.\n",
            "librosa 0.8.1 requires resampy>=0.2.2, but you have resampy 0.2.1 which is incompatible.\n",
            "datascience 0.10.6 requires folium==0.2.1, but you have folium 0.8.3 which is incompatible.\n",
            "albumentations 0.1.12 requires imgaug<0.2.7,>=0.2.5, but you have imgaug 0.2.9 which is incompatible.\u001b[0m\n",
            "Successfully installed coremltools-3.3 gast-0.2.2 h5py-2.10.0 keras-applications-1.0.8 llvmlite-0.33.0 numba-0.50.1 numpy-1.18.5 prettytable-0.7.2 resampy-0.2.1 tensorboard-2.0.2 tensorflow-2.0.4 tensorflow-estimator-2.0.1 turicreate-6.4.1\n"
          ],
          "name": "stdout"
        },
        {
          "output_type": "display_data",
          "data": {
            "application/vnd.colab-display-data+json": {
              "pip_warning": {
                "packages": [
                  "numpy"
                ]
              }
            }
          },
          "metadata": {
            "tags": []
          }
        }
      ]
    },
    {
      "cell_type": "code",
      "metadata": {
        "id": "1bd2b7ae"
      },
      "source": [
        "import pickle\n",
        "import numpy as np\n",
        "import pandas as pd\n",
        "import seaborn as sns\n",
        "import turicreate as tc\n",
        "import matplotlib.pyplot as plt\n",
        "from sklearn.cluster import KMeans\n",
        "from sklearn.metrics import f1_score\n",
        "from sklearn.metrics import recall_score\n",
        "from sklearn.metrics import precision_score\n",
        "from sklearn.metrics import confusion_matrix\n",
        "from sklearn.preprocessing import LabelEncoder\n",
        "from sklearn.preprocessing import OneHotEncoder\n",
        "from sklearn.ensemble import RandomForestClassifier\n",
        "from sklearn.model_selection import train_test_split"
      ],
      "id": "1bd2b7ae",
      "execution_count": 2,
      "outputs": []
    },
    {
      "cell_type": "markdown",
      "metadata": {
        "id": "532ac1c1"
      },
      "source": [
        "# Importing Data"
      ],
      "id": "532ac1c1"
    },
    {
      "cell_type": "code",
      "metadata": {
        "scrolled": true,
        "colab": {
          "base_uri": "https://localhost:8080/",
          "height": 949
        },
        "id": "2bc054b4",
        "outputId": "d6436c79-79e6-4d58-989a-48ba7850e3f7"
      },
      "source": [
        "# Exception Handeling for Data Sorting in pandas\n",
        "pd.options.mode.chained_assignment = None\n",
        "ori_data = pd.read_csv('fashion_data.csv')\n",
        "ori_data"
      ],
      "id": "2bc054b4",
      "execution_count": 3,
      "outputs": [
        {
          "output_type": "execute_result",
          "data": {
            "text/html": [
              "<div>\n",
              "<style scoped>\n",
              "    .dataframe tbody tr th:only-of-type {\n",
              "        vertical-align: middle;\n",
              "    }\n",
              "\n",
              "    .dataframe tbody tr th {\n",
              "        vertical-align: top;\n",
              "    }\n",
              "\n",
              "    .dataframe thead th {\n",
              "        text-align: right;\n",
              "    }\n",
              "</style>\n",
              "<table border=\"1\" class=\"dataframe\">\n",
              "  <thead>\n",
              "    <tr style=\"text-align: right;\">\n",
              "      <th></th>\n",
              "      <th>fit</th>\n",
              "      <th>user_id</th>\n",
              "      <th>bust size</th>\n",
              "      <th>item_id</th>\n",
              "      <th>weight</th>\n",
              "      <th>rating</th>\n",
              "      <th>rented for</th>\n",
              "      <th>review_text</th>\n",
              "      <th>body type</th>\n",
              "      <th>review_summary</th>\n",
              "      <th>category</th>\n",
              "      <th>height</th>\n",
              "      <th>size</th>\n",
              "      <th>age</th>\n",
              "      <th>review_date</th>\n",
              "    </tr>\n",
              "  </thead>\n",
              "  <tbody>\n",
              "    <tr>\n",
              "      <th>0</th>\n",
              "      <td>fit</td>\n",
              "      <td>420272</td>\n",
              "      <td>34d</td>\n",
              "      <td>2260466</td>\n",
              "      <td>137lbs</td>\n",
              "      <td>10.0</td>\n",
              "      <td>vacation</td>\n",
              "      <td>An adorable romper! Belt and zipper were a lit...</td>\n",
              "      <td>hourglass</td>\n",
              "      <td>So many compliments!</td>\n",
              "      <td>romper</td>\n",
              "      <td>5' 8\"</td>\n",
              "      <td>14</td>\n",
              "      <td>28.0</td>\n",
              "      <td>April 20, 2016</td>\n",
              "    </tr>\n",
              "    <tr>\n",
              "      <th>1</th>\n",
              "      <td>fit</td>\n",
              "      <td>273551</td>\n",
              "      <td>34b</td>\n",
              "      <td>153475</td>\n",
              "      <td>132lbs</td>\n",
              "      <td>10.0</td>\n",
              "      <td>other</td>\n",
              "      <td>I rented this dress for a photo shoot. The the...</td>\n",
              "      <td>straight &amp; narrow</td>\n",
              "      <td>I felt so glamourous!!!</td>\n",
              "      <td>gown</td>\n",
              "      <td>5' 6\"</td>\n",
              "      <td>12</td>\n",
              "      <td>36.0</td>\n",
              "      <td>June 18, 2013</td>\n",
              "    </tr>\n",
              "    <tr>\n",
              "      <th>2</th>\n",
              "      <td>fit</td>\n",
              "      <td>360448</td>\n",
              "      <td>NaN</td>\n",
              "      <td>1063761</td>\n",
              "      <td>NaN</td>\n",
              "      <td>10.0</td>\n",
              "      <td>party</td>\n",
              "      <td>This hugged in all the right places! It was a ...</td>\n",
              "      <td>NaN</td>\n",
              "      <td>It was a great time to celebrate the (almost) ...</td>\n",
              "      <td>sheath</td>\n",
              "      <td>5' 4\"</td>\n",
              "      <td>4</td>\n",
              "      <td>116.0</td>\n",
              "      <td>December 14, 2015</td>\n",
              "    </tr>\n",
              "    <tr>\n",
              "      <th>3</th>\n",
              "      <td>fit</td>\n",
              "      <td>909926</td>\n",
              "      <td>34c</td>\n",
              "      <td>126335</td>\n",
              "      <td>135lbs</td>\n",
              "      <td>8.0</td>\n",
              "      <td>formal affair</td>\n",
              "      <td>I rented this for my company's black tie award...</td>\n",
              "      <td>pear</td>\n",
              "      <td>Dress arrived on time and in perfect condition.</td>\n",
              "      <td>dress</td>\n",
              "      <td>5' 5\"</td>\n",
              "      <td>8</td>\n",
              "      <td>34.0</td>\n",
              "      <td>February 12, 2014</td>\n",
              "    </tr>\n",
              "    <tr>\n",
              "      <th>4</th>\n",
              "      <td>fit</td>\n",
              "      <td>151944</td>\n",
              "      <td>34b</td>\n",
              "      <td>616682</td>\n",
              "      <td>145lbs</td>\n",
              "      <td>10.0</td>\n",
              "      <td>wedding</td>\n",
              "      <td>I have always been petite in my upper body and...</td>\n",
              "      <td>athletic</td>\n",
              "      <td>Was in love with this dress !!!</td>\n",
              "      <td>gown</td>\n",
              "      <td>5' 9\"</td>\n",
              "      <td>12</td>\n",
              "      <td>27.0</td>\n",
              "      <td>September 26, 2016</td>\n",
              "    </tr>\n",
              "    <tr>\n",
              "      <th>...</th>\n",
              "      <td>...</td>\n",
              "      <td>...</td>\n",
              "      <td>...</td>\n",
              "      <td>...</td>\n",
              "      <td>...</td>\n",
              "      <td>...</td>\n",
              "      <td>...</td>\n",
              "      <td>...</td>\n",
              "      <td>...</td>\n",
              "      <td>...</td>\n",
              "      <td>...</td>\n",
              "      <td>...</td>\n",
              "      <td>...</td>\n",
              "      <td>...</td>\n",
              "      <td>...</td>\n",
              "    </tr>\n",
              "    <tr>\n",
              "      <th>192539</th>\n",
              "      <td>fit</td>\n",
              "      <td>66386</td>\n",
              "      <td>34dd</td>\n",
              "      <td>2252812</td>\n",
              "      <td>140lbs</td>\n",
              "      <td>10.0</td>\n",
              "      <td>work</td>\n",
              "      <td>Fit like a glove!</td>\n",
              "      <td>hourglass</td>\n",
              "      <td>LOVE IT!!! First Item Im thinking of buying!</td>\n",
              "      <td>jumpsuit</td>\n",
              "      <td>5' 9\"</td>\n",
              "      <td>8</td>\n",
              "      <td>42.0</td>\n",
              "      <td>May 18, 2016</td>\n",
              "    </tr>\n",
              "    <tr>\n",
              "      <th>192540</th>\n",
              "      <td>fit</td>\n",
              "      <td>118398</td>\n",
              "      <td>32c</td>\n",
              "      <td>682043</td>\n",
              "      <td>100lbs</td>\n",
              "      <td>10.0</td>\n",
              "      <td>work</td>\n",
              "      <td>The pattern contrast on this dress is really s...</td>\n",
              "      <td>petite</td>\n",
              "      <td>LOVE it!</td>\n",
              "      <td>dress</td>\n",
              "      <td>5' 1\"</td>\n",
              "      <td>4</td>\n",
              "      <td>29.0</td>\n",
              "      <td>September 30, 2016</td>\n",
              "    </tr>\n",
              "    <tr>\n",
              "      <th>192541</th>\n",
              "      <td>fit</td>\n",
              "      <td>47002</td>\n",
              "      <td>36a</td>\n",
              "      <td>683251</td>\n",
              "      <td>135lbs</td>\n",
              "      <td>6.0</td>\n",
              "      <td>everyday</td>\n",
              "      <td>Like the other DVF wraps, the fit on this is f...</td>\n",
              "      <td>straight &amp; narrow</td>\n",
              "      <td>Loud patterning, flattering fit</td>\n",
              "      <td>dress</td>\n",
              "      <td>5' 8\"</td>\n",
              "      <td>8</td>\n",
              "      <td>31.0</td>\n",
              "      <td>March 4, 2016</td>\n",
              "    </tr>\n",
              "    <tr>\n",
              "      <th>192542</th>\n",
              "      <td>fit</td>\n",
              "      <td>961120</td>\n",
              "      <td>36c</td>\n",
              "      <td>126335</td>\n",
              "      <td>165lbs</td>\n",
              "      <td>10.0</td>\n",
              "      <td>wedding</td>\n",
              "      <td>This dress was PERFECTION.  it looked incredib...</td>\n",
              "      <td>pear</td>\n",
              "      <td>loved this dress it was comfortable and photog...</td>\n",
              "      <td>dress</td>\n",
              "      <td>5' 6\"</td>\n",
              "      <td>16</td>\n",
              "      <td>31.0</td>\n",
              "      <td>November 25, 2015</td>\n",
              "    </tr>\n",
              "    <tr>\n",
              "      <th>192543</th>\n",
              "      <td>fit</td>\n",
              "      <td>123612</td>\n",
              "      <td>36b</td>\n",
              "      <td>127865</td>\n",
              "      <td>155lbs</td>\n",
              "      <td>10.0</td>\n",
              "      <td>wedding</td>\n",
              "      <td>This dress was wonderful! I had originally pla...</td>\n",
              "      <td>athletic</td>\n",
              "      <td>I wore this to a beautiful black tie optional ...</td>\n",
              "      <td>gown</td>\n",
              "      <td>5' 6\"</td>\n",
              "      <td>16</td>\n",
              "      <td>30.0</td>\n",
              "      <td>August 29, 2017</td>\n",
              "    </tr>\n",
              "  </tbody>\n",
              "</table>\n",
              "<p>192544 rows × 15 columns</p>\n",
              "</div>"
            ],
            "text/plain": [
              "        fit  user_id bust size  item_id  ... height  size    age         review_date\n",
              "0       fit   420272       34d  2260466  ...  5' 8\"    14   28.0      April 20, 2016\n",
              "1       fit   273551       34b   153475  ...  5' 6\"    12   36.0       June 18, 2013\n",
              "2       fit   360448       NaN  1063761  ...  5' 4\"     4  116.0   December 14, 2015\n",
              "3       fit   909926       34c   126335  ...  5' 5\"     8   34.0   February 12, 2014\n",
              "4       fit   151944       34b   616682  ...  5' 9\"    12   27.0  September 26, 2016\n",
              "...     ...      ...       ...      ...  ...    ...   ...    ...                 ...\n",
              "192539  fit    66386      34dd  2252812  ...  5' 9\"     8   42.0        May 18, 2016\n",
              "192540  fit   118398       32c   682043  ...  5' 1\"     4   29.0  September 30, 2016\n",
              "192541  fit    47002       36a   683251  ...  5' 8\"     8   31.0       March 4, 2016\n",
              "192542  fit   961120       36c   126335  ...  5' 6\"    16   31.0   November 25, 2015\n",
              "192543  fit   123612       36b   127865  ...  5' 6\"    16   30.0     August 29, 2017\n",
              "\n",
              "[192544 rows x 15 columns]"
            ]
          },
          "metadata": {
            "tags": []
          },
          "execution_count": 3
        }
      ]
    },
    {
      "cell_type": "code",
      "metadata": {
        "colab": {
          "base_uri": "https://localhost:8080/"
        },
        "id": "ef4e5f02",
        "outputId": "e5e2198b-0ded-4228-8bac-e2ae45a13215"
      },
      "source": [
        "ori_data.info()"
      ],
      "id": "ef4e5f02",
      "execution_count": 4,
      "outputs": [
        {
          "output_type": "stream",
          "text": [
            "<class 'pandas.core.frame.DataFrame'>\n",
            "RangeIndex: 192544 entries, 0 to 192543\n",
            "Data columns (total 15 columns):\n",
            " #   Column          Non-Null Count   Dtype  \n",
            "---  ------          --------------   -----  \n",
            " 0   fit             192544 non-null  object \n",
            " 1   user_id         192544 non-null  int64  \n",
            " 2   bust size       174133 non-null  object \n",
            " 3   item_id         192544 non-null  int64  \n",
            " 4   weight          162562 non-null  object \n",
            " 5   rating          192462 non-null  float64\n",
            " 6   rented for      192534 non-null  object \n",
            " 7   review_text     192482 non-null  object \n",
            " 8   body type       177907 non-null  object \n",
            " 9   review_summary  192199 non-null  object \n",
            " 10  category        192544 non-null  object \n",
            " 11  height          191867 non-null  object \n",
            " 12  size            192544 non-null  int64  \n",
            " 13  age             191584 non-null  float64\n",
            " 14  review_date     192544 non-null  object \n",
            "dtypes: float64(2), int64(3), object(10)\n",
            "memory usage: 22.0+ MB\n"
          ],
          "name": "stdout"
        }
      ]
    },
    {
      "cell_type": "code",
      "metadata": {
        "colab": {
          "base_uri": "https://localhost:8080/",
          "height": 297
        },
        "id": "60ef9f1b",
        "outputId": "d7f56612-65c6-4fb9-ead8-56df6bc31e7f"
      },
      "source": [
        "ori_data.describe()"
      ],
      "id": "60ef9f1b",
      "execution_count": 5,
      "outputs": [
        {
          "output_type": "execute_result",
          "data": {
            "text/html": [
              "<div>\n",
              "<style scoped>\n",
              "    .dataframe tbody tr th:only-of-type {\n",
              "        vertical-align: middle;\n",
              "    }\n",
              "\n",
              "    .dataframe tbody tr th {\n",
              "        vertical-align: top;\n",
              "    }\n",
              "\n",
              "    .dataframe thead th {\n",
              "        text-align: right;\n",
              "    }\n",
              "</style>\n",
              "<table border=\"1\" class=\"dataframe\">\n",
              "  <thead>\n",
              "    <tr style=\"text-align: right;\">\n",
              "      <th></th>\n",
              "      <th>user_id</th>\n",
              "      <th>item_id</th>\n",
              "      <th>rating</th>\n",
              "      <th>size</th>\n",
              "      <th>age</th>\n",
              "    </tr>\n",
              "  </thead>\n",
              "  <tbody>\n",
              "    <tr>\n",
              "      <th>count</th>\n",
              "      <td>192544.000000</td>\n",
              "      <td>1.925440e+05</td>\n",
              "      <td>192462.000000</td>\n",
              "      <td>192544.000000</td>\n",
              "      <td>191584.000000</td>\n",
              "    </tr>\n",
              "    <tr>\n",
              "      <th>mean</th>\n",
              "      <td>499494.100149</td>\n",
              "      <td>1.045684e+06</td>\n",
              "      <td>9.092371</td>\n",
              "      <td>12.245175</td>\n",
              "      <td>33.871017</td>\n",
              "    </tr>\n",
              "    <tr>\n",
              "      <th>std</th>\n",
              "      <td>289059.719328</td>\n",
              "      <td>8.053148e+05</td>\n",
              "      <td>1.430044</td>\n",
              "      <td>8.494877</td>\n",
              "      <td>8.058083</td>\n",
              "    </tr>\n",
              "    <tr>\n",
              "      <th>min</th>\n",
              "      <td>9.000000</td>\n",
              "      <td>1.233730e+05</td>\n",
              "      <td>2.000000</td>\n",
              "      <td>0.000000</td>\n",
              "      <td>0.000000</td>\n",
              "    </tr>\n",
              "    <tr>\n",
              "      <th>25%</th>\n",
              "      <td>250654.250000</td>\n",
              "      <td>1.950760e+05</td>\n",
              "      <td>8.000000</td>\n",
              "      <td>8.000000</td>\n",
              "      <td>29.000000</td>\n",
              "    </tr>\n",
              "    <tr>\n",
              "      <th>50%</th>\n",
              "      <td>499419.000000</td>\n",
              "      <td>9.483960e+05</td>\n",
              "      <td>10.000000</td>\n",
              "      <td>12.000000</td>\n",
              "      <td>32.000000</td>\n",
              "    </tr>\n",
              "    <tr>\n",
              "      <th>75%</th>\n",
              "      <td>750974.000000</td>\n",
              "      <td>1.678888e+06</td>\n",
              "      <td>10.000000</td>\n",
              "      <td>16.000000</td>\n",
              "      <td>37.000000</td>\n",
              "    </tr>\n",
              "    <tr>\n",
              "      <th>max</th>\n",
              "      <td>999997.000000</td>\n",
              "      <td>2.966087e+06</td>\n",
              "      <td>10.000000</td>\n",
              "      <td>58.000000</td>\n",
              "      <td>117.000000</td>\n",
              "    </tr>\n",
              "  </tbody>\n",
              "</table>\n",
              "</div>"
            ],
            "text/plain": [
              "             user_id       item_id         rating           size            age\n",
              "count  192544.000000  1.925440e+05  192462.000000  192544.000000  191584.000000\n",
              "mean   499494.100149  1.045684e+06       9.092371      12.245175      33.871017\n",
              "std    289059.719328  8.053148e+05       1.430044       8.494877       8.058083\n",
              "min         9.000000  1.233730e+05       2.000000       0.000000       0.000000\n",
              "25%    250654.250000  1.950760e+05       8.000000       8.000000      29.000000\n",
              "50%    499419.000000  9.483960e+05      10.000000      12.000000      32.000000\n",
              "75%    750974.000000  1.678888e+06      10.000000      16.000000      37.000000\n",
              "max    999997.000000  2.966087e+06      10.000000      58.000000     117.000000"
            ]
          },
          "metadata": {
            "tags": []
          },
          "execution_count": 5
        }
      ]
    },
    {
      "cell_type": "markdown",
      "metadata": {
        "id": "712b68ed"
      },
      "source": [
        "# Data Preprocessing"
      ],
      "id": "712b68ed"
    },
    {
      "cell_type": "markdown",
      "metadata": {
        "id": "7ef98b31"
      },
      "source": [
        "# Looking for missing values"
      ],
      "id": "7ef98b31"
    },
    {
      "cell_type": "code",
      "metadata": {
        "colab": {
          "base_uri": "https://localhost:8080/"
        },
        "id": "7ef45b95",
        "outputId": "f4f3d580-a232-44fc-f022-bed0599fcc0d"
      },
      "source": [
        "df=ori_data\n",
        "df.isna().sum()"
      ],
      "id": "7ef45b95",
      "execution_count": 6,
      "outputs": [
        {
          "output_type": "execute_result",
          "data": {
            "text/plain": [
              "fit                   0\n",
              "user_id               0\n",
              "bust size         18411\n",
              "item_id               0\n",
              "weight            29982\n",
              "rating               82\n",
              "rented for           10\n",
              "review_text          62\n",
              "body type         14637\n",
              "review_summary      345\n",
              "category              0\n",
              "height              677\n",
              "size                  0\n",
              "age                 960\n",
              "review_date           0\n",
              "dtype: int64"
            ]
          },
          "metadata": {
            "tags": []
          },
          "execution_count": 6
        }
      ]
    },
    {
      "cell_type": "markdown",
      "metadata": {
        "id": "c577d5e9"
      },
      "source": [
        "# Remove unwanted columns"
      ],
      "id": "c577d5e9"
    },
    {
      "cell_type": "code",
      "metadata": {
        "id": "f08a3e54"
      },
      "source": [
        "df=df.drop(columns=['review_date','review_summary','review_text'],axis=1)"
      ],
      "id": "f08a3e54",
      "execution_count": 7,
      "outputs": []
    },
    {
      "cell_type": "markdown",
      "metadata": {
        "id": "ae0eff96"
      },
      "source": [
        "# Exploratory Data Analysis"
      ],
      "id": "ae0eff96"
    },
    {
      "cell_type": "markdown",
      "metadata": {
        "id": "9b296910"
      },
      "source": [
        "# Feature Engineering"
      ],
      "id": "9b296910"
    },
    {
      "cell_type": "markdown",
      "metadata": {
        "id": "3b0d1de6"
      },
      "source": [
        "# Age "
      ],
      "id": "3b0d1de6"
    },
    {
      "cell_type": "code",
      "metadata": {
        "colab": {
          "base_uri": "https://localhost:8080/",
          "height": 316
        },
        "id": "10445619",
        "outputId": "4fd5e75c-8d76-4e83-f02f-90f5c37022df"
      },
      "source": [
        "sns.histplot(x=df['age'],data=df)\n",
        "print(\"People between the Age 25-35 have higher concentration in the histogram so more importance should be given to this age group\")"
      ],
      "id": "10445619",
      "execution_count": 8,
      "outputs": [
        {
          "output_type": "stream",
          "text": [
            "People between the Age 25-35 have higher concentration in the histogram so more importance should be given to this age group\n"
          ],
          "name": "stdout"
        },
        {
          "output_type": "display_data",
          "data": {
            "image/png": "[encoded data removed]",
            "text/plain": [
              "<Figure size 432x288 with 1 Axes>"
            ]
          },
          "metadata": {
            "tags": [],
            "needs_background": "light"
          }
        }
      ]
    },
    {
      "cell_type": "code",
      "metadata": {
        "id": "ba770318"
      },
      "source": [
        "df['age_percentiles'] = pd.qcut(df['age'], 5, labels=False)\n",
        "df = df[~df['age_percentiles'].isnull()]\n",
        "df=df.drop(columns=['age'],axis=1)"
      ],
      "id": "ba770318",
      "execution_count": 9,
      "outputs": []
    },
    {
      "cell_type": "markdown",
      "metadata": {
        "id": "8d52494c"
      },
      "source": [
        "# Weight"
      ],
      "id": "8d52494c"
    },
    {
      "cell_type": "code",
      "metadata": {
        "id": "4c0a85e4"
      },
      "source": [
        "df['weight'] = df['weight'].apply(lambda x : int(x[:-3]) if type(x) == str else x)\n",
        "df['weight'].fillna((df['weight'].mean()), inplace=True)"
      ],
      "id": "4c0a85e4",
      "execution_count": 10,
      "outputs": []
    },
    {
      "cell_type": "markdown",
      "metadata": {
        "id": "36d41366"
      },
      "source": [
        "# Height "
      ],
      "id": "36d41366"
    },
    {
      "cell_type": "markdown",
      "metadata": {
        "id": "044eb9c8"
      },
      "source": [
        "#  Converting Feet to cm and inch to cm"
      ],
      "id": "044eb9c8"
    },
    {
      "cell_type": "code",
      "metadata": {
        "id": "15efccac"
      },
      "source": [
        "df['height'] = df['height'].apply(lambda x : (int(x.split(\"\\'\")[0]) * 30.48) + (int(x.split(\"\\'\")[1][:-1]) * 2.54) if type(x) == str else x)\n",
        "df['height'].fillna((df['height'].mean()), inplace=True)"
      ],
      "id": "15efccac",
      "execution_count": 11,
      "outputs": []
    },
    {
      "cell_type": "markdown",
      "metadata": {
        "id": "4b1d30b1"
      },
      "source": [
        "# Rented For"
      ],
      "id": "4b1d30b1"
    },
    {
      "cell_type": "code",
      "metadata": {
        "id": "5d7ee32c"
      },
      "source": [
        "df['rented for'].fillna('other', inplace=True)"
      ],
      "id": "5d7ee32c",
      "execution_count": 12,
      "outputs": []
    },
    {
      "cell_type": "markdown",
      "metadata": {
        "id": "3d2cedbc"
      },
      "source": [
        "# Rating"
      ],
      "id": "3d2cedbc"
    },
    {
      "cell_type": "code",
      "metadata": {
        "id": "0d6817b5"
      },
      "source": [
        "df['rating'].fillna((df['rating'].mean()), inplace=True)"
      ],
      "id": "0d6817b5",
      "execution_count": 13,
      "outputs": []
    },
    {
      "cell_type": "markdown",
      "metadata": {
        "id": "7543a7fb"
      },
      "source": [
        "# Bust Size"
      ],
      "id": "7543a7fb"
    },
    {
      "cell_type": "markdown",
      "metadata": {
        "id": "f73394e8"
      },
      "source": [
        "# Filling missing values of bust size using  most used size in that particular age_group "
      ],
      "id": "f73394e8"
    },
    {
      "cell_type": "code",
      "metadata": {
        "scrolled": true,
        "id": "d8a9f1d8"
      },
      "source": [
        "def preprocessBustsize(age_Preprocessed_data):\n",
        "    data_bust_size_not_null = df[~df['bust size'].isnull()]\n",
        "    data_bust_size_not_null['bust size'] = data_bust_size_not_null['bust size'].apply(lambda x : (int(x[:2]), x[2:]))\n",
        "    data_bust_size_not_null[['bust Size1', 'bust']] = pd.DataFrame(data_bust_size_not_null['bust size'].tolist(), index=data_bust_size_not_null.index)\n",
        "    bustDict = {'a': 1, 'aa': 1, 'b': 2, 'c': 3, 'd': 4, \n",
        "                'd+': 5, 'dd': 5, 'ddd/e': 6,\n",
        "               'f':7 , 'g': 8, 'h': 9, 'i': 10, 'j': 11}\n",
        "    data_bust_size_not_null['bust1'] = data_bust_size_not_null['bust'].map(bustDict)\n",
        "    # Calculating model of bust size based on age grp.\n",
        "    def funct(df):\n",
        "        return df.mode()\n",
        "    x = data_bust_size_not_null[['age_percentiles','bust Size1','bust1']].groupby('age_percentiles').apply(funct)\n",
        "    x.reset_index(inplace= True, drop = True)\n",
        "    data_bust_size_null = df[df['bust size'].isnull()]\n",
        "    data_bust_size_null = pd.merge(data_bust_size_null, x, how ='left', left_on = 'age_percentiles', right_on = 'age_percentiles')\n",
        "    data_bust_size_cleansed = data_bust_size_not_null.append(data_bust_size_null)\n",
        "    del x, data_bust_size_not_null , data_bust_size_null , bustDict\n",
        "    return data_bust_size_cleansed"
      ],
      "id": "d8a9f1d8",
      "execution_count": 14,
      "outputs": []
    },
    {
      "cell_type": "code",
      "metadata": {
        "colab": {
          "base_uri": "https://localhost:8080/",
          "height": 487
        },
        "id": "f854e438",
        "outputId": "b3fe3d6f-1082-4dcd-e130-793d3806ff55"
      },
      "source": [
        "df=preprocessBustsize(df)\n",
        "df=df.drop(columns=['bust size','bust'])\n",
        "df"
      ],
      "id": "f854e438",
      "execution_count": 15,
      "outputs": [
        {
          "output_type": "execute_result",
          "data": {
            "text/html": [
              "<div>\n",
              "<style scoped>\n",
              "    .dataframe tbody tr th:only-of-type {\n",
              "        vertical-align: middle;\n",
              "    }\n",
              "\n",
              "    .dataframe tbody tr th {\n",
              "        vertical-align: top;\n",
              "    }\n",
              "\n",
              "    .dataframe thead th {\n",
              "        text-align: right;\n",
              "    }\n",
              "</style>\n",
              "<table border=\"1\" class=\"dataframe\">\n",
              "  <thead>\n",
              "    <tr style=\"text-align: right;\">\n",
              "      <th></th>\n",
              "      <th>fit</th>\n",
              "      <th>user_id</th>\n",
              "      <th>item_id</th>\n",
              "      <th>weight</th>\n",
              "      <th>rating</th>\n",
              "      <th>rented for</th>\n",
              "      <th>body type</th>\n",
              "      <th>category</th>\n",
              "      <th>height</th>\n",
              "      <th>size</th>\n",
              "      <th>age_percentiles</th>\n",
              "      <th>bust Size1</th>\n",
              "      <th>bust1</th>\n",
              "    </tr>\n",
              "  </thead>\n",
              "  <tbody>\n",
              "    <tr>\n",
              "      <th>0</th>\n",
              "      <td>fit</td>\n",
              "      <td>420272</td>\n",
              "      <td>2260466</td>\n",
              "      <td>137.000000</td>\n",
              "      <td>10.0</td>\n",
              "      <td>vacation</td>\n",
              "      <td>hourglass</td>\n",
              "      <td>romper</td>\n",
              "      <td>172.72</td>\n",
              "      <td>14</td>\n",
              "      <td>0.0</td>\n",
              "      <td>34</td>\n",
              "      <td>4</td>\n",
              "    </tr>\n",
              "    <tr>\n",
              "      <th>1</th>\n",
              "      <td>fit</td>\n",
              "      <td>273551</td>\n",
              "      <td>153475</td>\n",
              "      <td>132.000000</td>\n",
              "      <td>10.0</td>\n",
              "      <td>other</td>\n",
              "      <td>straight &amp; narrow</td>\n",
              "      <td>gown</td>\n",
              "      <td>167.64</td>\n",
              "      <td>12</td>\n",
              "      <td>3.0</td>\n",
              "      <td>34</td>\n",
              "      <td>2</td>\n",
              "    </tr>\n",
              "    <tr>\n",
              "      <th>3</th>\n",
              "      <td>fit</td>\n",
              "      <td>909926</td>\n",
              "      <td>126335</td>\n",
              "      <td>135.000000</td>\n",
              "      <td>8.0</td>\n",
              "      <td>formal affair</td>\n",
              "      <td>pear</td>\n",
              "      <td>dress</td>\n",
              "      <td>165.10</td>\n",
              "      <td>8</td>\n",
              "      <td>2.0</td>\n",
              "      <td>34</td>\n",
              "      <td>3</td>\n",
              "    </tr>\n",
              "    <tr>\n",
              "      <th>4</th>\n",
              "      <td>fit</td>\n",
              "      <td>151944</td>\n",
              "      <td>616682</td>\n",
              "      <td>145.000000</td>\n",
              "      <td>10.0</td>\n",
              "      <td>wedding</td>\n",
              "      <td>athletic</td>\n",
              "      <td>gown</td>\n",
              "      <td>175.26</td>\n",
              "      <td>12</td>\n",
              "      <td>0.0</td>\n",
              "      <td>34</td>\n",
              "      <td>2</td>\n",
              "    </tr>\n",
              "    <tr>\n",
              "      <th>5</th>\n",
              "      <td>fit</td>\n",
              "      <td>734848</td>\n",
              "      <td>364092</td>\n",
              "      <td>138.000000</td>\n",
              "      <td>8.0</td>\n",
              "      <td>date</td>\n",
              "      <td>athletic</td>\n",
              "      <td>dress</td>\n",
              "      <td>172.72</td>\n",
              "      <td>8</td>\n",
              "      <td>4.0</td>\n",
              "      <td>32</td>\n",
              "      <td>2</td>\n",
              "    </tr>\n",
              "    <tr>\n",
              "      <th>...</th>\n",
              "      <td>...</td>\n",
              "      <td>...</td>\n",
              "      <td>...</td>\n",
              "      <td>...</td>\n",
              "      <td>...</td>\n",
              "      <td>...</td>\n",
              "      <td>...</td>\n",
              "      <td>...</td>\n",
              "      <td>...</td>\n",
              "      <td>...</td>\n",
              "      <td>...</td>\n",
              "      <td>...</td>\n",
              "      <td>...</td>\n",
              "    </tr>\n",
              "    <tr>\n",
              "      <th>18367</th>\n",
              "      <td>fit</td>\n",
              "      <td>639521</td>\n",
              "      <td>1578743</td>\n",
              "      <td>170.000000</td>\n",
              "      <td>8.0</td>\n",
              "      <td>vacation</td>\n",
              "      <td>NaN</td>\n",
              "      <td>shirtdress</td>\n",
              "      <td>165.10</td>\n",
              "      <td>35</td>\n",
              "      <td>4.0</td>\n",
              "      <td>34</td>\n",
              "      <td>3</td>\n",
              "    </tr>\n",
              "    <tr>\n",
              "      <th>18368</th>\n",
              "      <td>fit</td>\n",
              "      <td>78599</td>\n",
              "      <td>672419</td>\n",
              "      <td>136.000000</td>\n",
              "      <td>10.0</td>\n",
              "      <td>party</td>\n",
              "      <td>hourglass</td>\n",
              "      <td>gown</td>\n",
              "      <td>160.02</td>\n",
              "      <td>12</td>\n",
              "      <td>3.0</td>\n",
              "      <td>34</td>\n",
              "      <td>3</td>\n",
              "    </tr>\n",
              "    <tr>\n",
              "      <th>18369</th>\n",
              "      <td>fit</td>\n",
              "      <td>483983</td>\n",
              "      <td>2316191</td>\n",
              "      <td>125.000000</td>\n",
              "      <td>6.0</td>\n",
              "      <td>work</td>\n",
              "      <td>NaN</td>\n",
              "      <td>top</td>\n",
              "      <td>157.48</td>\n",
              "      <td>12</td>\n",
              "      <td>4.0</td>\n",
              "      <td>34</td>\n",
              "      <td>3</td>\n",
              "    </tr>\n",
              "    <tr>\n",
              "      <th>18370</th>\n",
              "      <td>small</td>\n",
              "      <td>449110</td>\n",
              "      <td>914136</td>\n",
              "      <td>137.389208</td>\n",
              "      <td>8.0</td>\n",
              "      <td>wedding</td>\n",
              "      <td>full bust</td>\n",
              "      <td>dress</td>\n",
              "      <td>157.48</td>\n",
              "      <td>16</td>\n",
              "      <td>1.0</td>\n",
              "      <td>34</td>\n",
              "      <td>3</td>\n",
              "    </tr>\n",
              "    <tr>\n",
              "      <th>18371</th>\n",
              "      <td>small</td>\n",
              "      <td>391237</td>\n",
              "      <td>1695279</td>\n",
              "      <td>245.000000</td>\n",
              "      <td>8.0</td>\n",
              "      <td>wedding</td>\n",
              "      <td>straight &amp; narrow</td>\n",
              "      <td>sheath</td>\n",
              "      <td>172.72</td>\n",
              "      <td>57</td>\n",
              "      <td>2.0</td>\n",
              "      <td>34</td>\n",
              "      <td>2</td>\n",
              "    </tr>\n",
              "  </tbody>\n",
              "</table>\n",
              "<p>191584 rows × 13 columns</p>\n",
              "</div>"
            ],
            "text/plain": [
              "         fit  user_id  item_id  ...  age_percentiles  bust Size1 bust1\n",
              "0        fit   420272  2260466  ...              0.0          34     4\n",
              "1        fit   273551   153475  ...              3.0          34     2\n",
              "3        fit   909926   126335  ...              2.0          34     3\n",
              "4        fit   151944   616682  ...              0.0          34     2\n",
              "5        fit   734848   364092  ...              4.0          32     2\n",
              "...      ...      ...      ...  ...              ...         ...   ...\n",
              "18367    fit   639521  1578743  ...              4.0          34     3\n",
              "18368    fit    78599   672419  ...              3.0          34     3\n",
              "18369    fit   483983  2316191  ...              4.0          34     3\n",
              "18370  small   449110   914136  ...              1.0          34     3\n",
              "18371  small   391237  1695279  ...              2.0          34     2\n",
              "\n",
              "[191584 rows x 13 columns]"
            ]
          },
          "metadata": {
            "tags": []
          },
          "execution_count": 15
        }
      ]
    },
    {
      "cell_type": "markdown",
      "metadata": {
        "id": "30622de6"
      },
      "source": [
        "# Body type"
      ],
      "id": "30622de6"
    },
    {
      "cell_type": "markdown",
      "metadata": {
        "id": "531784f6"
      },
      "source": [
        "# Classifier to predict body type"
      ],
      "id": "531784f6"
    },
    {
      "cell_type": "code",
      "metadata": {
        "colab": {
          "base_uri": "https://localhost:8080/",
          "height": 350
        },
        "id": "0cc156d6",
        "outputId": "2c302d42-94b5-4ec9-ab81-011ad4bb0492"
      },
      "source": [
        "sns.countplot(df['body type'])"
      ],
      "id": "0cc156d6",
      "execution_count": 16,
      "outputs": [
        {
          "output_type": "stream",
          "text": [
            "/usr/local/lib/python3.7/dist-packages/seaborn/_decorators.py:43: FutureWarning: Pass the following variable as a keyword arg: x. From version 0.12, the only valid positional argument will be `data`, and passing other arguments without an explicit keyword will result in an error or misinterpretation.\n",
            "  FutureWarning\n"
          ],
          "name": "stderr"
        },
        {
          "output_type": "execute_result",
          "data": {
            "text/plain": [
              "<matplotlib.axes._subplots.AxesSubplot at 0x7fbcf803e850>"
            ]
          },
          "metadata": {
            "tags": []
          },
          "execution_count": 16
        },
        {
          "output_type": "display_data",
          "data": {
            "image/png": "[encoded data removed]",
            "text/plain": [
              "<Figure size 432x288 with 1 Axes>"
            ]
          },
          "metadata": {
            "tags": [],
            "needs_background": "light"
          }
        }
      ]
    },
    {
      "cell_type": "markdown",
      "metadata": {
        "id": "497bf9da"
      },
      "source": [
        "# Splitting the data into train and test set"
      ],
      "id": "497bf9da"
    },
    {
      "cell_type": "code",
      "metadata": {
        "id": "3840c68d"
      },
      "source": [
        "feature_names = ['age_percentiles', 'bust Size1','bust1','size','height','weight']\n",
        "data_body_type_not_null = df[~df['body type'].isnull()]\n",
        "data_body_type_null = df[df['body type'].isnull()]\n",
        "X=data_body_type_not_null[feature_names]\n",
        "y=data_body_type_not_null['body type']\n",
        "X_train, X_test, y_train, y_test = train_test_split(X, y, random_state=42)"
      ],
      "id": "3840c68d",
      "execution_count": 17,
      "outputs": []
    },
    {
      "cell_type": "markdown",
      "metadata": {
        "id": "82e3b65a"
      },
      "source": [
        "# Training Random Forest Classifier"
      ],
      "id": "82e3b65a"
    },
    {
      "cell_type": "code",
      "metadata": {
        "colab": {
          "base_uri": "https://localhost:8080/"
        },
        "id": "2750ace1",
        "outputId": "62c5ad71-4913-482d-e237-c4a11115fa0e"
      },
      "source": [
        "rf = RandomForestClassifier(n_estimators=100, bootstrap = True,max_features = 'sqrt')\n",
        "rf.fit(X_train,y_train)"
      ],
      "id": "2750ace1",
      "execution_count": 18,
      "outputs": [
        {
          "output_type": "execute_result",
          "data": {
            "text/plain": [
              "RandomForestClassifier(bootstrap=True, ccp_alpha=0.0, class_weight=None,\n",
              "                       criterion='gini', max_depth=None, max_features='sqrt',\n",
              "                       max_leaf_nodes=None, max_samples=None,\n",
              "                       min_impurity_decrease=0.0, min_impurity_split=None,\n",
              "                       min_samples_leaf=1, min_samples_split=2,\n",
              "                       min_weight_fraction_leaf=0.0, n_estimators=100,\n",
              "                       n_jobs=None, oob_score=False, random_state=None,\n",
              "                       verbose=0, warm_start=False)"
            ]
          },
          "metadata": {
            "tags": []
          },
          "execution_count": 18
        }
      ]
    },
    {
      "cell_type": "markdown",
      "metadata": {
        "id": "c909dc70"
      },
      "source": [
        "# Model Performance"
      ],
      "id": "c909dc70"
    },
    {
      "cell_type": "markdown",
      "metadata": {
        "id": "47430f27"
      },
      "source": [
        "# Precision"
      ],
      "id": "47430f27"
    },
    {
      "cell_type": "code",
      "metadata": {
        "colab": {
          "base_uri": "https://localhost:8080/"
        },
        "id": "c64e7309",
        "outputId": "add1aee9-1373-40c6-b982-f93f05c7e99b"
      },
      "source": [
        "y_pred=rf.predict(X_test)\n",
        "precision_score(y_test, y_pred,average='weighted')"
      ],
      "id": "c64e7309",
      "execution_count": 19,
      "outputs": [
        {
          "output_type": "execute_result",
          "data": {
            "text/plain": [
              "0.5392372083323451"
            ]
          },
          "metadata": {
            "tags": []
          },
          "execution_count": 19
        }
      ]
    },
    {
      "cell_type": "markdown",
      "metadata": {
        "id": "ba612edd"
      },
      "source": [
        "# Recall"
      ],
      "id": "ba612edd"
    },
    {
      "cell_type": "code",
      "metadata": {
        "colab": {
          "base_uri": "https://localhost:8080/"
        },
        "id": "d54260d9",
        "outputId": "c273f611-995b-42c2-c05d-ad77a1d37cfd"
      },
      "source": [
        "recall_score(y_test, y_pred,average='weighted')"
      ],
      "id": "d54260d9",
      "execution_count": 20,
      "outputs": [
        {
          "output_type": "execute_result",
          "data": {
            "text/plain": [
              "0.5425680548043987"
            ]
          },
          "metadata": {
            "tags": []
          },
          "execution_count": 20
        }
      ]
    },
    {
      "cell_type": "markdown",
      "metadata": {
        "id": "6a0ff3ae"
      },
      "source": [
        "# F1 Score"
      ],
      "id": "6a0ff3ae"
    },
    {
      "cell_type": "code",
      "metadata": {
        "colab": {
          "base_uri": "https://localhost:8080/"
        },
        "id": "6ccb1912",
        "outputId": "f15d823a-b500-4fbf-e724-9fc1d191e512"
      },
      "source": [
        "f1_score(y_test, y_pred,average='weighted')"
      ],
      "id": "6ccb1912",
      "execution_count": 21,
      "outputs": [
        {
          "output_type": "execute_result",
          "data": {
            "text/plain": [
              "0.5391121526416416"
            ]
          },
          "metadata": {
            "tags": []
          },
          "execution_count": 21
        }
      ]
    },
    {
      "cell_type": "markdown",
      "metadata": {
        "id": "19818b7f"
      },
      "source": [
        "# Confusion Matrix"
      ],
      "id": "19818b7f"
    },
    {
      "cell_type": "code",
      "metadata": {
        "colab": {
          "base_uri": "https://localhost:8080/"
        },
        "id": "d3e27e5d",
        "outputId": "4129b08e-ae37-44f0-b80c-eb52db70259e"
      },
      "source": [
        "confusion_matrix(y_test, y_pred)"
      ],
      "id": "d3e27e5d",
      "execution_count": 22,
      "outputs": [
        {
          "output_type": "execute_result",
          "data": {
            "text/plain": [
              "array([[ 320,  147,  104,  397,  131,   28,    6],\n",
              "       [  56, 5788,  287, 2559,  922,  747,  635],\n",
              "       [  74,  266, 1722, 1435,  123,   95,   44],\n",
              "       [ 188, 2352,  828, 8430,  867,  735,  387],\n",
              "       [  73, 1330,  149, 1293, 2167,  303,  189],\n",
              "       [  24,  621,   93,  612,  207, 3803,  165],\n",
              "       [   9,  888,   45,  479,  182,  224, 1847]])"
            ]
          },
          "metadata": {
            "tags": []
          },
          "execution_count": 22
        }
      ]
    },
    {
      "cell_type": "code",
      "metadata": {
        "colab": {
          "base_uri": "https://localhost:8080/",
          "height": 487
        },
        "id": "de396ec8",
        "outputId": "2b5ddf27-bfe2-46fe-8ae0-650ae5b8d630"
      },
      "source": [
        "data_body_type_null['body type']=rf.predict(data_body_type_null[feature_names])\n",
        "df=data_body_type_not_null\n",
        "df.append(data_body_type_null)\n",
        "del X_train, X_test, y_train, y_test , y_pred , data_body_type_not_null , data_body_type_null , X , y \n",
        "df"
      ],
      "id": "de396ec8",
      "execution_count": 23,
      "outputs": [
        {
          "output_type": "execute_result",
          "data": {
            "text/html": [
              "<div>\n",
              "<style scoped>\n",
              "    .dataframe tbody tr th:only-of-type {\n",
              "        vertical-align: middle;\n",
              "    }\n",
              "\n",
              "    .dataframe tbody tr th {\n",
              "        vertical-align: top;\n",
              "    }\n",
              "\n",
              "    .dataframe thead th {\n",
              "        text-align: right;\n",
              "    }\n",
              "</style>\n",
              "<table border=\"1\" class=\"dataframe\">\n",
              "  <thead>\n",
              "    <tr style=\"text-align: right;\">\n",
              "      <th></th>\n",
              "      <th>fit</th>\n",
              "      <th>user_id</th>\n",
              "      <th>item_id</th>\n",
              "      <th>weight</th>\n",
              "      <th>rating</th>\n",
              "      <th>rented for</th>\n",
              "      <th>body type</th>\n",
              "      <th>category</th>\n",
              "      <th>height</th>\n",
              "      <th>size</th>\n",
              "      <th>age_percentiles</th>\n",
              "      <th>bust Size1</th>\n",
              "      <th>bust1</th>\n",
              "    </tr>\n",
              "  </thead>\n",
              "  <tbody>\n",
              "    <tr>\n",
              "      <th>0</th>\n",
              "      <td>fit</td>\n",
              "      <td>420272</td>\n",
              "      <td>2260466</td>\n",
              "      <td>137.000000</td>\n",
              "      <td>10.0</td>\n",
              "      <td>vacation</td>\n",
              "      <td>hourglass</td>\n",
              "      <td>romper</td>\n",
              "      <td>172.72</td>\n",
              "      <td>14</td>\n",
              "      <td>0.0</td>\n",
              "      <td>34</td>\n",
              "      <td>4</td>\n",
              "    </tr>\n",
              "    <tr>\n",
              "      <th>1</th>\n",
              "      <td>fit</td>\n",
              "      <td>273551</td>\n",
              "      <td>153475</td>\n",
              "      <td>132.000000</td>\n",
              "      <td>10.0</td>\n",
              "      <td>other</td>\n",
              "      <td>straight &amp; narrow</td>\n",
              "      <td>gown</td>\n",
              "      <td>167.64</td>\n",
              "      <td>12</td>\n",
              "      <td>3.0</td>\n",
              "      <td>34</td>\n",
              "      <td>2</td>\n",
              "    </tr>\n",
              "    <tr>\n",
              "      <th>3</th>\n",
              "      <td>fit</td>\n",
              "      <td>909926</td>\n",
              "      <td>126335</td>\n",
              "      <td>135.000000</td>\n",
              "      <td>8.0</td>\n",
              "      <td>formal affair</td>\n",
              "      <td>pear</td>\n",
              "      <td>dress</td>\n",
              "      <td>165.10</td>\n",
              "      <td>8</td>\n",
              "      <td>2.0</td>\n",
              "      <td>34</td>\n",
              "      <td>3</td>\n",
              "    </tr>\n",
              "    <tr>\n",
              "      <th>4</th>\n",
              "      <td>fit</td>\n",
              "      <td>151944</td>\n",
              "      <td>616682</td>\n",
              "      <td>145.000000</td>\n",
              "      <td>10.0</td>\n",
              "      <td>wedding</td>\n",
              "      <td>athletic</td>\n",
              "      <td>gown</td>\n",
              "      <td>175.26</td>\n",
              "      <td>12</td>\n",
              "      <td>0.0</td>\n",
              "      <td>34</td>\n",
              "      <td>2</td>\n",
              "    </tr>\n",
              "    <tr>\n",
              "      <th>5</th>\n",
              "      <td>fit</td>\n",
              "      <td>734848</td>\n",
              "      <td>364092</td>\n",
              "      <td>138.000000</td>\n",
              "      <td>8.0</td>\n",
              "      <td>date</td>\n",
              "      <td>athletic</td>\n",
              "      <td>dress</td>\n",
              "      <td>172.72</td>\n",
              "      <td>8</td>\n",
              "      <td>4.0</td>\n",
              "      <td>32</td>\n",
              "      <td>2</td>\n",
              "    </tr>\n",
              "    <tr>\n",
              "      <th>...</th>\n",
              "      <td>...</td>\n",
              "      <td>...</td>\n",
              "      <td>...</td>\n",
              "      <td>...</td>\n",
              "      <td>...</td>\n",
              "      <td>...</td>\n",
              "      <td>...</td>\n",
              "      <td>...</td>\n",
              "      <td>...</td>\n",
              "      <td>...</td>\n",
              "      <td>...</td>\n",
              "      <td>...</td>\n",
              "      <td>...</td>\n",
              "    </tr>\n",
              "    <tr>\n",
              "      <th>18364</th>\n",
              "      <td>fit</td>\n",
              "      <td>644536</td>\n",
              "      <td>183194</td>\n",
              "      <td>137.389208</td>\n",
              "      <td>8.0</td>\n",
              "      <td>wedding</td>\n",
              "      <td>pear</td>\n",
              "      <td>dress</td>\n",
              "      <td>172.72</td>\n",
              "      <td>8</td>\n",
              "      <td>1.0</td>\n",
              "      <td>34</td>\n",
              "      <td>3</td>\n",
              "    </tr>\n",
              "    <tr>\n",
              "      <th>18366</th>\n",
              "      <td>fit</td>\n",
              "      <td>958848</td>\n",
              "      <td>152836</td>\n",
              "      <td>110.000000</td>\n",
              "      <td>10.0</td>\n",
              "      <td>party</td>\n",
              "      <td>petite</td>\n",
              "      <td>mini</td>\n",
              "      <td>160.02</td>\n",
              "      <td>1</td>\n",
              "      <td>2.0</td>\n",
              "      <td>34</td>\n",
              "      <td>2</td>\n",
              "    </tr>\n",
              "    <tr>\n",
              "      <th>18368</th>\n",
              "      <td>fit</td>\n",
              "      <td>78599</td>\n",
              "      <td>672419</td>\n",
              "      <td>136.000000</td>\n",
              "      <td>10.0</td>\n",
              "      <td>party</td>\n",
              "      <td>hourglass</td>\n",
              "      <td>gown</td>\n",
              "      <td>160.02</td>\n",
              "      <td>12</td>\n",
              "      <td>3.0</td>\n",
              "      <td>34</td>\n",
              "      <td>3</td>\n",
              "    </tr>\n",
              "    <tr>\n",
              "      <th>18370</th>\n",
              "      <td>small</td>\n",
              "      <td>449110</td>\n",
              "      <td>914136</td>\n",
              "      <td>137.389208</td>\n",
              "      <td>8.0</td>\n",
              "      <td>wedding</td>\n",
              "      <td>full bust</td>\n",
              "      <td>dress</td>\n",
              "      <td>157.48</td>\n",
              "      <td>16</td>\n",
              "      <td>1.0</td>\n",
              "      <td>34</td>\n",
              "      <td>3</td>\n",
              "    </tr>\n",
              "    <tr>\n",
              "      <th>18371</th>\n",
              "      <td>small</td>\n",
              "      <td>391237</td>\n",
              "      <td>1695279</td>\n",
              "      <td>245.000000</td>\n",
              "      <td>8.0</td>\n",
              "      <td>wedding</td>\n",
              "      <td>straight &amp; narrow</td>\n",
              "      <td>sheath</td>\n",
              "      <td>172.72</td>\n",
              "      <td>57</td>\n",
              "      <td>2.0</td>\n",
              "      <td>34</td>\n",
              "      <td>2</td>\n",
              "    </tr>\n",
              "  </tbody>\n",
              "</table>\n",
              "<p>177502 rows × 13 columns</p>\n",
              "</div>"
            ],
            "text/plain": [
              "         fit  user_id  item_id  ...  age_percentiles  bust Size1 bust1\n",
              "0        fit   420272  2260466  ...              0.0          34     4\n",
              "1        fit   273551   153475  ...              3.0          34     2\n",
              "3        fit   909926   126335  ...              2.0          34     3\n",
              "4        fit   151944   616682  ...              0.0          34     2\n",
              "5        fit   734848   364092  ...              4.0          32     2\n",
              "...      ...      ...      ...  ...              ...         ...   ...\n",
              "18364    fit   644536   183194  ...              1.0          34     3\n",
              "18366    fit   958848   152836  ...              2.0          34     2\n",
              "18368    fit    78599   672419  ...              3.0          34     3\n",
              "18370  small   449110   914136  ...              1.0          34     3\n",
              "18371  small   391237  1695279  ...              2.0          34     2\n",
              "\n",
              "[177502 rows x 13 columns]"
            ]
          },
          "metadata": {
            "tags": []
          },
          "execution_count": 23
        }
      ]
    },
    {
      "cell_type": "markdown",
      "metadata": {
        "id": "vqLk6EsYJIme"
      },
      "source": [
        "# Save model"
      ],
      "id": "vqLk6EsYJIme"
    },
    {
      "cell_type": "code",
      "metadata": {
        "id": "N1lEA9RLJH9o"
      },
      "source": [
        "# save the model to disk\n",
        "filename = 'body_type_classifier_model.pkl'\n",
        "pickle.dump(rf, open(filename, 'wb'))"
      ],
      "id": "N1lEA9RLJH9o",
      "execution_count": 24,
      "outputs": []
    },
    {
      "cell_type": "markdown",
      "metadata": {
        "id": "41fa80b6"
      },
      "source": [
        "# Customer Segmentation"
      ],
      "id": "41fa80b6"
    },
    {
      "cell_type": "markdown",
      "metadata": {
        "id": "d5522e59"
      },
      "source": [
        "# Clustering Based on body type and rented for"
      ],
      "id": "d5522e59"
    },
    {
      "cell_type": "markdown",
      "metadata": {
        "id": "4453b3d5"
      },
      "source": [
        "# Encoding Categorical features"
      ],
      "id": "4453b3d5"
    },
    {
      "cell_type": "code",
      "metadata": {
        "id": "c5bc915a"
      },
      "source": [
        "data=df['body type']\n",
        "values = np.array(data)\n",
        "# integer encode\n",
        "label_encoder = LabelEncoder()\n",
        "integer_encoded = label_encoder.fit_transform(values)\n",
        "# binary encode\n",
        "onehot_encoder = OneHotEncoder(sparse=False,drop='first')\n",
        "integer_encoded = integer_encoded.reshape(len(integer_encoded), 1)\n",
        "onehot_encoded = onehot_encoder.fit_transform(integer_encoded)\n",
        "df1=pd.DataFrame(onehot_encoded)\n",
        "data=df['rented for']\n",
        "values = np.array(data)\n",
        "# integer encode\n",
        "label_encoder = LabelEncoder()\n",
        "integer_encoded = label_encoder.fit_transform(values)\n",
        "# binary encode\n",
        "onehot_encoder = OneHotEncoder(sparse=False,drop='first')\n",
        "integer_encoded = integer_encoded.reshape(len(integer_encoded), 1)\n",
        "onehot_encoded = onehot_encoder.fit_transform(integer_encoded)\n",
        "df2=pd.DataFrame(onehot_encoded)\n",
        "df3=pd.concat([df1,df2],axis=1)"
      ],
      "id": "c5bc915a",
      "execution_count": 25,
      "outputs": []
    },
    {
      "cell_type": "code",
      "metadata": {
        "colab": {
          "base_uri": "https://localhost:8080/",
          "height": 419
        },
        "id": "632af4d9",
        "outputId": "70e3440b-b334-4095-f273-686205d26bf1"
      },
      "source": [
        "df3"
      ],
      "id": "632af4d9",
      "execution_count": 26,
      "outputs": [
        {
          "output_type": "execute_result",
          "data": {
            "text/html": [
              "<div>\n",
              "<style scoped>\n",
              "    .dataframe tbody tr th:only-of-type {\n",
              "        vertical-align: middle;\n",
              "    }\n",
              "\n",
              "    .dataframe tbody tr th {\n",
              "        vertical-align: top;\n",
              "    }\n",
              "\n",
              "    .dataframe thead th {\n",
              "        text-align: right;\n",
              "    }\n",
              "</style>\n",
              "<table border=\"1\" class=\"dataframe\">\n",
              "  <thead>\n",
              "    <tr style=\"text-align: right;\">\n",
              "      <th></th>\n",
              "      <th>0</th>\n",
              "      <th>1</th>\n",
              "      <th>2</th>\n",
              "      <th>3</th>\n",
              "      <th>4</th>\n",
              "      <th>5</th>\n",
              "      <th>0</th>\n",
              "      <th>1</th>\n",
              "      <th>2</th>\n",
              "      <th>3</th>\n",
              "      <th>4</th>\n",
              "      <th>5</th>\n",
              "      <th>6</th>\n",
              "      <th>7</th>\n",
              "    </tr>\n",
              "  </thead>\n",
              "  <tbody>\n",
              "    <tr>\n",
              "      <th>0</th>\n",
              "      <td>0.0</td>\n",
              "      <td>0.0</td>\n",
              "      <td>1.0</td>\n",
              "      <td>0.0</td>\n",
              "      <td>0.0</td>\n",
              "      <td>0.0</td>\n",
              "      <td>0.0</td>\n",
              "      <td>0.0</td>\n",
              "      <td>0.0</td>\n",
              "      <td>0.0</td>\n",
              "      <td>0.0</td>\n",
              "      <td>1.0</td>\n",
              "      <td>0.0</td>\n",
              "      <td>0.0</td>\n",
              "    </tr>\n",
              "    <tr>\n",
              "      <th>1</th>\n",
              "      <td>0.0</td>\n",
              "      <td>0.0</td>\n",
              "      <td>0.0</td>\n",
              "      <td>0.0</td>\n",
              "      <td>0.0</td>\n",
              "      <td>1.0</td>\n",
              "      <td>0.0</td>\n",
              "      <td>0.0</td>\n",
              "      <td>1.0</td>\n",
              "      <td>0.0</td>\n",
              "      <td>0.0</td>\n",
              "      <td>0.0</td>\n",
              "      <td>0.0</td>\n",
              "      <td>0.0</td>\n",
              "    </tr>\n",
              "    <tr>\n",
              "      <th>2</th>\n",
              "      <td>0.0</td>\n",
              "      <td>0.0</td>\n",
              "      <td>0.0</td>\n",
              "      <td>1.0</td>\n",
              "      <td>0.0</td>\n",
              "      <td>0.0</td>\n",
              "      <td>0.0</td>\n",
              "      <td>1.0</td>\n",
              "      <td>0.0</td>\n",
              "      <td>0.0</td>\n",
              "      <td>0.0</td>\n",
              "      <td>0.0</td>\n",
              "      <td>0.0</td>\n",
              "      <td>0.0</td>\n",
              "    </tr>\n",
              "    <tr>\n",
              "      <th>3</th>\n",
              "      <td>1.0</td>\n",
              "      <td>0.0</td>\n",
              "      <td>0.0</td>\n",
              "      <td>0.0</td>\n",
              "      <td>0.0</td>\n",
              "      <td>0.0</td>\n",
              "      <td>0.0</td>\n",
              "      <td>0.0</td>\n",
              "      <td>0.0</td>\n",
              "      <td>0.0</td>\n",
              "      <td>0.0</td>\n",
              "      <td>0.0</td>\n",
              "      <td>1.0</td>\n",
              "      <td>0.0</td>\n",
              "    </tr>\n",
              "    <tr>\n",
              "      <th>4</th>\n",
              "      <td>1.0</td>\n",
              "      <td>0.0</td>\n",
              "      <td>0.0</td>\n",
              "      <td>0.0</td>\n",
              "      <td>0.0</td>\n",
              "      <td>0.0</td>\n",
              "      <td>0.0</td>\n",
              "      <td>0.0</td>\n",
              "      <td>0.0</td>\n",
              "      <td>0.0</td>\n",
              "      <td>0.0</td>\n",
              "      <td>0.0</td>\n",
              "      <td>0.0</td>\n",
              "      <td>0.0</td>\n",
              "    </tr>\n",
              "    <tr>\n",
              "      <th>...</th>\n",
              "      <td>...</td>\n",
              "      <td>...</td>\n",
              "      <td>...</td>\n",
              "      <td>...</td>\n",
              "      <td>...</td>\n",
              "      <td>...</td>\n",
              "      <td>...</td>\n",
              "      <td>...</td>\n",
              "      <td>...</td>\n",
              "      <td>...</td>\n",
              "      <td>...</td>\n",
              "      <td>...</td>\n",
              "      <td>...</td>\n",
              "      <td>...</td>\n",
              "    </tr>\n",
              "    <tr>\n",
              "      <th>177497</th>\n",
              "      <td>0.0</td>\n",
              "      <td>0.0</td>\n",
              "      <td>0.0</td>\n",
              "      <td>1.0</td>\n",
              "      <td>0.0</td>\n",
              "      <td>0.0</td>\n",
              "      <td>0.0</td>\n",
              "      <td>0.0</td>\n",
              "      <td>0.0</td>\n",
              "      <td>0.0</td>\n",
              "      <td>0.0</td>\n",
              "      <td>0.0</td>\n",
              "      <td>1.0</td>\n",
              "      <td>0.0</td>\n",
              "    </tr>\n",
              "    <tr>\n",
              "      <th>177498</th>\n",
              "      <td>0.0</td>\n",
              "      <td>0.0</td>\n",
              "      <td>0.0</td>\n",
              "      <td>0.0</td>\n",
              "      <td>1.0</td>\n",
              "      <td>0.0</td>\n",
              "      <td>0.0</td>\n",
              "      <td>0.0</td>\n",
              "      <td>0.0</td>\n",
              "      <td>1.0</td>\n",
              "      <td>0.0</td>\n",
              "      <td>0.0</td>\n",
              "      <td>0.0</td>\n",
              "      <td>0.0</td>\n",
              "    </tr>\n",
              "    <tr>\n",
              "      <th>177499</th>\n",
              "      <td>0.0</td>\n",
              "      <td>0.0</td>\n",
              "      <td>1.0</td>\n",
              "      <td>0.0</td>\n",
              "      <td>0.0</td>\n",
              "      <td>0.0</td>\n",
              "      <td>0.0</td>\n",
              "      <td>0.0</td>\n",
              "      <td>0.0</td>\n",
              "      <td>1.0</td>\n",
              "      <td>0.0</td>\n",
              "      <td>0.0</td>\n",
              "      <td>0.0</td>\n",
              "      <td>0.0</td>\n",
              "    </tr>\n",
              "    <tr>\n",
              "      <th>177500</th>\n",
              "      <td>0.0</td>\n",
              "      <td>1.0</td>\n",
              "      <td>0.0</td>\n",
              "      <td>0.0</td>\n",
              "      <td>0.0</td>\n",
              "      <td>0.0</td>\n",
              "      <td>0.0</td>\n",
              "      <td>0.0</td>\n",
              "      <td>0.0</td>\n",
              "      <td>0.0</td>\n",
              "      <td>0.0</td>\n",
              "      <td>0.0</td>\n",
              "      <td>1.0</td>\n",
              "      <td>0.0</td>\n",
              "    </tr>\n",
              "    <tr>\n",
              "      <th>177501</th>\n",
              "      <td>0.0</td>\n",
              "      <td>0.0</td>\n",
              "      <td>0.0</td>\n",
              "      <td>0.0</td>\n",
              "      <td>0.0</td>\n",
              "      <td>1.0</td>\n",
              "      <td>0.0</td>\n",
              "      <td>0.0</td>\n",
              "      <td>0.0</td>\n",
              "      <td>0.0</td>\n",
              "      <td>0.0</td>\n",
              "      <td>0.0</td>\n",
              "      <td>1.0</td>\n",
              "      <td>0.0</td>\n",
              "    </tr>\n",
              "  </tbody>\n",
              "</table>\n",
              "<p>177502 rows × 14 columns</p>\n",
              "</div>"
            ],
            "text/plain": [
              "          0    1    2    3    4    5    0    1    2    3    4    5    6    7\n",
              "0       0.0  0.0  1.0  0.0  0.0  0.0  0.0  0.0  0.0  0.0  0.0  1.0  0.0  0.0\n",
              "1       0.0  0.0  0.0  0.0  0.0  1.0  0.0  0.0  1.0  0.0  0.0  0.0  0.0  0.0\n",
              "2       0.0  0.0  0.0  1.0  0.0  0.0  0.0  1.0  0.0  0.0  0.0  0.0  0.0  0.0\n",
              "3       1.0  0.0  0.0  0.0  0.0  0.0  0.0  0.0  0.0  0.0  0.0  0.0  1.0  0.0\n",
              "4       1.0  0.0  0.0  0.0  0.0  0.0  0.0  0.0  0.0  0.0  0.0  0.0  0.0  0.0\n",
              "...     ...  ...  ...  ...  ...  ...  ...  ...  ...  ...  ...  ...  ...  ...\n",
              "177497  0.0  0.0  0.0  1.0  0.0  0.0  0.0  0.0  0.0  0.0  0.0  0.0  1.0  0.0\n",
              "177498  0.0  0.0  0.0  0.0  1.0  0.0  0.0  0.0  0.0  1.0  0.0  0.0  0.0  0.0\n",
              "177499  0.0  0.0  1.0  0.0  0.0  0.0  0.0  0.0  0.0  1.0  0.0  0.0  0.0  0.0\n",
              "177500  0.0  1.0  0.0  0.0  0.0  0.0  0.0  0.0  0.0  0.0  0.0  0.0  1.0  0.0\n",
              "177501  0.0  0.0  0.0  0.0  0.0  1.0  0.0  0.0  0.0  0.0  0.0  0.0  1.0  0.0\n",
              "\n",
              "[177502 rows x 14 columns]"
            ]
          },
          "metadata": {
            "tags": []
          },
          "execution_count": 26
        }
      ]
    },
    {
      "cell_type": "markdown",
      "metadata": {
        "id": "-v485PQ6b01b"
      },
      "source": [
        "# K - means Clustering "
      ],
      "id": "-v485PQ6b01b"
    },
    {
      "cell_type": "markdown",
      "metadata": {
        "id": "73p3iIztcoKf"
      },
      "source": [
        "# Using the elbow method to find the optimal number of clusters"
      ],
      "id": "73p3iIztcoKf"
    },
    {
      "cell_type": "code",
      "metadata": {
        "colab": {
          "base_uri": "https://localhost:8080/",
          "height": 295
        },
        "id": "873b5559",
        "outputId": "b07dc265-2c85-436b-a9df-0004d4dc116f"
      },
      "source": [
        "wcss = []\n",
        "for i in range(1, 11):\n",
        "    kmeans = KMeans(n_clusters = i, init = 'k-means++', random_state = 42)\n",
        "    kmeans.fit(df3)\n",
        "    wcss.append(kmeans.inertia_)\n",
        "plt.plot(range(1, 11), wcss)\n",
        "plt.title('The Elbow Method')\n",
        "plt.xlabel('Number of clusters')\n",
        "plt.ylabel('WCSS')\n",
        "plt.show()\n",
        "num_of_clusters=5"
      ],
      "id": "873b5559",
      "execution_count": 27,
      "outputs": [
        {
          "output_type": "display_data",
          "data": {
            "image/png": "[encoded data removed]",
            "text/plain": [
              "<Figure size 432x288 with 1 Axes>"
            ]
          },
          "metadata": {
            "tags": [],
            "needs_background": "light"
          }
        }
      ]
    },
    {
      "cell_type": "markdown",
      "metadata": {
        "id": "dnHmLebjcvQq"
      },
      "source": [
        "# Training the K-Means model on the dataset"
      ],
      "id": "dnHmLebjcvQq"
    },
    {
      "cell_type": "code",
      "metadata": {
        "id": "cff00630"
      },
      "source": [
        "kmeans = KMeans(n_clusters = num_of_clusters, init = 'k-means++', random_state = 42)\n",
        "y_kmeans = kmeans.fit_predict(df3)\n",
        "df['cluster']=y_kmeans\n",
        "del y_kmeans , wcss , df1 , df2 , df3 , integer_encoded , onehot_encoded , label_encoder"
      ],
      "id": "cff00630",
      "execution_count": 28,
      "outputs": []
    },
    {
      "cell_type": "code",
      "metadata": {
        "colab": {
          "base_uri": "https://localhost:8080/",
          "height": 507
        },
        "id": "daa99ec4",
        "outputId": "63f384dc-d788-403c-978b-37480893e87f"
      },
      "source": [
        "df"
      ],
      "id": "daa99ec4",
      "execution_count": 29,
      "outputs": [
        {
          "output_type": "execute_result",
          "data": {
            "text/html": [
              "<div>\n",
              "<style scoped>\n",
              "    .dataframe tbody tr th:only-of-type {\n",
              "        vertical-align: middle;\n",
              "    }\n",
              "\n",
              "    .dataframe tbody tr th {\n",
              "        vertical-align: top;\n",
              "    }\n",
              "\n",
              "    .dataframe thead th {\n",
              "        text-align: right;\n",
              "    }\n",
              "</style>\n",
              "<table border=\"1\" class=\"dataframe\">\n",
              "  <thead>\n",
              "    <tr style=\"text-align: right;\">\n",
              "      <th></th>\n",
              "      <th>fit</th>\n",
              "      <th>user_id</th>\n",
              "      <th>item_id</th>\n",
              "      <th>weight</th>\n",
              "      <th>rating</th>\n",
              "      <th>rented for</th>\n",
              "      <th>body type</th>\n",
              "      <th>category</th>\n",
              "      <th>height</th>\n",
              "      <th>size</th>\n",
              "      <th>age_percentiles</th>\n",
              "      <th>bust Size1</th>\n",
              "      <th>bust1</th>\n",
              "      <th>cluster</th>\n",
              "    </tr>\n",
              "  </thead>\n",
              "  <tbody>\n",
              "    <tr>\n",
              "      <th>0</th>\n",
              "      <td>fit</td>\n",
              "      <td>420272</td>\n",
              "      <td>2260466</td>\n",
              "      <td>137.000000</td>\n",
              "      <td>10.0</td>\n",
              "      <td>vacation</td>\n",
              "      <td>hourglass</td>\n",
              "      <td>romper</td>\n",
              "      <td>172.72</td>\n",
              "      <td>14</td>\n",
              "      <td>0.0</td>\n",
              "      <td>34</td>\n",
              "      <td>4</td>\n",
              "      <td>1</td>\n",
              "    </tr>\n",
              "    <tr>\n",
              "      <th>1</th>\n",
              "      <td>fit</td>\n",
              "      <td>273551</td>\n",
              "      <td>153475</td>\n",
              "      <td>132.000000</td>\n",
              "      <td>10.0</td>\n",
              "      <td>other</td>\n",
              "      <td>straight &amp; narrow</td>\n",
              "      <td>gown</td>\n",
              "      <td>167.64</td>\n",
              "      <td>12</td>\n",
              "      <td>3.0</td>\n",
              "      <td>34</td>\n",
              "      <td>2</td>\n",
              "      <td>3</td>\n",
              "    </tr>\n",
              "    <tr>\n",
              "      <th>3</th>\n",
              "      <td>fit</td>\n",
              "      <td>909926</td>\n",
              "      <td>126335</td>\n",
              "      <td>135.000000</td>\n",
              "      <td>8.0</td>\n",
              "      <td>formal affair</td>\n",
              "      <td>pear</td>\n",
              "      <td>dress</td>\n",
              "      <td>165.10</td>\n",
              "      <td>8</td>\n",
              "      <td>2.0</td>\n",
              "      <td>34</td>\n",
              "      <td>3</td>\n",
              "      <td>4</td>\n",
              "    </tr>\n",
              "    <tr>\n",
              "      <th>4</th>\n",
              "      <td>fit</td>\n",
              "      <td>151944</td>\n",
              "      <td>616682</td>\n",
              "      <td>145.000000</td>\n",
              "      <td>10.0</td>\n",
              "      <td>wedding</td>\n",
              "      <td>athletic</td>\n",
              "      <td>gown</td>\n",
              "      <td>175.26</td>\n",
              "      <td>12</td>\n",
              "      <td>0.0</td>\n",
              "      <td>34</td>\n",
              "      <td>2</td>\n",
              "      <td>0</td>\n",
              "    </tr>\n",
              "    <tr>\n",
              "      <th>5</th>\n",
              "      <td>fit</td>\n",
              "      <td>734848</td>\n",
              "      <td>364092</td>\n",
              "      <td>138.000000</td>\n",
              "      <td>8.0</td>\n",
              "      <td>date</td>\n",
              "      <td>athletic</td>\n",
              "      <td>dress</td>\n",
              "      <td>172.72</td>\n",
              "      <td>8</td>\n",
              "      <td>4.0</td>\n",
              "      <td>32</td>\n",
              "      <td>2</td>\n",
              "      <td>0</td>\n",
              "    </tr>\n",
              "    <tr>\n",
              "      <th>...</th>\n",
              "      <td>...</td>\n",
              "      <td>...</td>\n",
              "      <td>...</td>\n",
              "      <td>...</td>\n",
              "      <td>...</td>\n",
              "      <td>...</td>\n",
              "      <td>...</td>\n",
              "      <td>...</td>\n",
              "      <td>...</td>\n",
              "      <td>...</td>\n",
              "      <td>...</td>\n",
              "      <td>...</td>\n",
              "      <td>...</td>\n",
              "      <td>...</td>\n",
              "    </tr>\n",
              "    <tr>\n",
              "      <th>18364</th>\n",
              "      <td>fit</td>\n",
              "      <td>644536</td>\n",
              "      <td>183194</td>\n",
              "      <td>137.389208</td>\n",
              "      <td>8.0</td>\n",
              "      <td>wedding</td>\n",
              "      <td>pear</td>\n",
              "      <td>dress</td>\n",
              "      <td>172.72</td>\n",
              "      <td>8</td>\n",
              "      <td>1.0</td>\n",
              "      <td>34</td>\n",
              "      <td>3</td>\n",
              "      <td>4</td>\n",
              "    </tr>\n",
              "    <tr>\n",
              "      <th>18366</th>\n",
              "      <td>fit</td>\n",
              "      <td>958848</td>\n",
              "      <td>152836</td>\n",
              "      <td>110.000000</td>\n",
              "      <td>10.0</td>\n",
              "      <td>party</td>\n",
              "      <td>petite</td>\n",
              "      <td>mini</td>\n",
              "      <td>160.02</td>\n",
              "      <td>1</td>\n",
              "      <td>2.0</td>\n",
              "      <td>34</td>\n",
              "      <td>2</td>\n",
              "      <td>2</td>\n",
              "    </tr>\n",
              "    <tr>\n",
              "      <th>18368</th>\n",
              "      <td>fit</td>\n",
              "      <td>78599</td>\n",
              "      <td>672419</td>\n",
              "      <td>136.000000</td>\n",
              "      <td>10.0</td>\n",
              "      <td>party</td>\n",
              "      <td>hourglass</td>\n",
              "      <td>gown</td>\n",
              "      <td>160.02</td>\n",
              "      <td>12</td>\n",
              "      <td>3.0</td>\n",
              "      <td>34</td>\n",
              "      <td>3</td>\n",
              "      <td>1</td>\n",
              "    </tr>\n",
              "    <tr>\n",
              "      <th>18370</th>\n",
              "      <td>small</td>\n",
              "      <td>449110</td>\n",
              "      <td>914136</td>\n",
              "      <td>137.389208</td>\n",
              "      <td>8.0</td>\n",
              "      <td>wedding</td>\n",
              "      <td>full bust</td>\n",
              "      <td>dress</td>\n",
              "      <td>157.48</td>\n",
              "      <td>16</td>\n",
              "      <td>1.0</td>\n",
              "      <td>34</td>\n",
              "      <td>3</td>\n",
              "      <td>3</td>\n",
              "    </tr>\n",
              "    <tr>\n",
              "      <th>18371</th>\n",
              "      <td>small</td>\n",
              "      <td>391237</td>\n",
              "      <td>1695279</td>\n",
              "      <td>245.000000</td>\n",
              "      <td>8.0</td>\n",
              "      <td>wedding</td>\n",
              "      <td>straight &amp; narrow</td>\n",
              "      <td>sheath</td>\n",
              "      <td>172.72</td>\n",
              "      <td>57</td>\n",
              "      <td>2.0</td>\n",
              "      <td>34</td>\n",
              "      <td>2</td>\n",
              "      <td>3</td>\n",
              "    </tr>\n",
              "  </tbody>\n",
              "</table>\n",
              "<p>177502 rows × 14 columns</p>\n",
              "</div>"
            ],
            "text/plain": [
              "         fit  user_id  item_id  ...  bust Size1  bust1 cluster\n",
              "0        fit   420272  2260466  ...          34      4       1\n",
              "1        fit   273551   153475  ...          34      2       3\n",
              "3        fit   909926   126335  ...          34      3       4\n",
              "4        fit   151944   616682  ...          34      2       0\n",
              "5        fit   734848   364092  ...          32      2       0\n",
              "...      ...      ...      ...  ...         ...    ...     ...\n",
              "18364    fit   644536   183194  ...          34      3       4\n",
              "18366    fit   958848   152836  ...          34      2       2\n",
              "18368    fit    78599   672419  ...          34      3       1\n",
              "18370  small   449110   914136  ...          34      3       3\n",
              "18371  small   391237  1695279  ...          34      2       3\n",
              "\n",
              "[177502 rows x 14 columns]"
            ]
          },
          "metadata": {
            "tags": []
          },
          "execution_count": 29
        }
      ]
    },
    {
      "cell_type": "markdown",
      "metadata": {
        "id": "0fttLM3pj1UD"
      },
      "source": [
        "# Collaborative filtering"
      ],
      "id": "0fttLM3pj1UD"
    },
    {
      "cell_type": "code",
      "metadata": {
        "colab": {
          "base_uri": "https://localhost:8080/",
          "height": 1000
        },
        "id": "4c9e930d",
        "outputId": "24ef2ed0-f7cd-4812-e10a-52962c92dec3"
      },
      "source": [
        "grp=df.groupby('cluster')\n",
        "ratio=0.6\n",
        "rec=pd.DataFrame()\n",
        "for i in range (0,num_of_clusters):\n",
        "  data = tc.SFrame(grp.get_group(i))\n",
        "  feature=data['user_id','fit', 'weight','height', 'size', 'age_percentiles', 'bust Size1', 'bust1']\n",
        "  m = tc.ranking_factorization_recommender.create(data, 'user_id', 'item_id','rating',user_data=feature,solver='sgd')\n",
        "  temp=tc.SFrame.to_dataframe(m.recommend(k=1))\n",
        "  rec=rec.append(temp)\n",
        "  #save model \n",
        "  model_name=\"cluster\"+str(i)\n",
        "  m.save(\"model_name.model\")"
      ],
      "id": "4c9e930d",
      "execution_count": 30,
      "outputs": [
        {
          "output_type": "display_data",
          "data": {
            "text/html": [
              "<pre>Preparing data set.</pre>"
            ],
            "text/plain": [
              "Preparing data set."
            ]
          },
          "metadata": {
            "tags": []
          }
        },
        {
          "output_type": "display_data",
          "data": {
            "text/html": [
              "<pre>    Data has 43579 observations with 23796 users and 4758 items.</pre>"
            ],
            "text/plain": [
              "    Data has 43579 observations with 23796 users and 4758 items."
            ]
          },
          "metadata": {
            "tags": []
          }
        },
        {
          "output_type": "display_data",
          "data": {
            "text/html": [
              "<pre>    Data prepared in: 0.232043s</pre>"
            ],
            "text/plain": [
              "    Data prepared in: 0.232043s"
            ]
          },
          "metadata": {
            "tags": []
          }
        },
        {
          "output_type": "display_data",
          "data": {
            "text/html": [
              "<pre>Training ranking_factorization_recommender for recommendations.</pre>"
            ],
            "text/plain": [
              "Training ranking_factorization_recommender for recommendations."
            ]
          },
          "metadata": {
            "tags": []
          }
        },
        {
          "output_type": "display_data",
          "data": {
            "text/html": [
              "<pre>+--------------------------------+--------------------------------------------------+----------+</pre>"
            ],
            "text/plain": [
              "+--------------------------------+--------------------------------------------------+----------+"
            ]
          },
          "metadata": {
            "tags": []
          }
        },
        {
          "output_type": "display_data",
          "data": {
            "text/html": [
              "<pre>| Parameter                      | Description                                      | Value    |</pre>"
            ],
            "text/plain": [
              "| Parameter                      | Description                                      | Value    |"
            ]
          },
          "metadata": {
            "tags": []
          }
        },
        {
          "output_type": "display_data",
          "data": {
            "text/html": [
              "<pre>+--------------------------------+--------------------------------------------------+----------+</pre>"
            ],
            "text/plain": [
              "+--------------------------------+--------------------------------------------------+----------+"
            ]
          },
          "metadata": {
            "tags": []
          }
        },
        {
          "output_type": "display_data",
          "data": {
            "text/html": [
              "<pre>| num_factors                    | Factor Dimension                                 | 32       |</pre>"
            ],
            "text/plain": [
              "| num_factors                    | Factor Dimension                                 | 32       |"
            ]
          },
          "metadata": {
            "tags": []
          }
        },
        {
          "output_type": "display_data",
          "data": {
            "text/html": [
              "<pre>| regularization                 | L2 Regularization on Factors                     | 1e-09    |</pre>"
            ],
            "text/plain": [
              "| regularization                 | L2 Regularization on Factors                     | 1e-09    |"
            ]
          },
          "metadata": {
            "tags": []
          }
        },
        {
          "output_type": "display_data",
          "data": {
            "text/html": [
              "<pre>| solver                         | Solver used for training                         | sgd      |</pre>"
            ],
            "text/plain": [
              "| solver                         | Solver used for training                         | sgd      |"
            ]
          },
          "metadata": {
            "tags": []
          }
        },
        {
          "output_type": "display_data",
          "data": {
            "text/html": [
              "<pre>| linear_regularization          | L2 Regularization on Linear Coefficients         | 1e-09    |</pre>"
            ],
            "text/plain": [
              "| linear_regularization          | L2 Regularization on Linear Coefficients         | 1e-09    |"
            ]
          },
          "metadata": {
            "tags": []
          }
        },
        {
          "output_type": "display_data",
          "data": {
            "text/html": [
              "<pre>| ranking_regularization         | Rank-based Regularization Weight                 | 0.25     |</pre>"
            ],
            "text/plain": [
              "| ranking_regularization         | Rank-based Regularization Weight                 | 0.25     |"
            ]
          },
          "metadata": {
            "tags": []
          }
        },
        {
          "output_type": "display_data",
          "data": {
            "text/html": [
              "<pre>| side_data_factorization        | Assign Factors for Side Data                     | True     |</pre>"
            ],
            "text/plain": [
              "| side_data_factorization        | Assign Factors for Side Data                     | True     |"
            ]
          },
          "metadata": {
            "tags": []
          }
        },
        {
          "output_type": "display_data",
          "data": {
            "text/html": [
              "<pre>| max_iterations                 | Maximum Number of Iterations                     | 25       |</pre>"
            ],
            "text/plain": [
              "| max_iterations                 | Maximum Number of Iterations                     | 25       |"
            ]
          },
          "metadata": {
            "tags": []
          }
        },
        {
          "output_type": "display_data",
          "data": {
            "text/html": [
              "<pre>+--------------------------------+--------------------------------------------------+----------+</pre>"
            ],
            "text/plain": [
              "+--------------------------------+--------------------------------------------------+----------+"
            ]
          },
          "metadata": {
            "tags": []
          }
        },
        {
          "output_type": "display_data",
          "data": {
            "text/html": [
              "<pre>  Optimizing model using SGD; tuning step size.</pre>"
            ],
            "text/plain": [
              "  Optimizing model using SGD; tuning step size."
            ]
          },
          "metadata": {
            "tags": []
          }
        },
        {
          "output_type": "display_data",
          "data": {
            "text/html": [
              "<pre>  Using 10000 / 43579 points for tuning the step size.</pre>"
            ],
            "text/plain": [
              "  Using 10000 / 43579 points for tuning the step size."
            ]
          },
          "metadata": {
            "tags": []
          }
        },
        {
          "output_type": "display_data",
          "data": {
            "text/html": [
              "<pre>+---------+-------------------+------------------------------------------+</pre>"
            ],
            "text/plain": [
              "+---------+-------------------+------------------------------------------+"
            ]
          },
          "metadata": {
            "tags": []
          }
        },
        {
          "output_type": "display_data",
          "data": {
            "text/html": [
              "<pre>| Attempt | Initial Step Size | Estimated Objective Value                |</pre>"
            ],
            "text/plain": [
              "| Attempt | Initial Step Size | Estimated Objective Value                |"
            ]
          },
          "metadata": {
            "tags": []
          }
        },
        {
          "output_type": "display_data",
          "data": {
            "text/html": [
              "<pre>+---------+-------------------+------------------------------------------+</pre>"
            ],
            "text/plain": [
              "+---------+-------------------+------------------------------------------+"
            ]
          },
          "metadata": {
            "tags": []
          }
        },
        {
          "output_type": "display_data",
          "data": {
            "text/html": [
              "<pre>| 0       | 2.5               | Not Viable                               |</pre>"
            ],
            "text/plain": [
              "| 0       | 2.5               | Not Viable                               |"
            ]
          },
          "metadata": {
            "tags": []
          }
        },
        {
          "output_type": "display_data",
          "data": {
            "text/html": [
              "<pre>| 1       | 0.625             | Not Viable                               |</pre>"
            ],
            "text/plain": [
              "| 1       | 0.625             | Not Viable                               |"
            ]
          },
          "metadata": {
            "tags": []
          }
        },
        {
          "output_type": "display_data",
          "data": {
            "text/html": [
              "<pre>| 2       | 0.15625           | Not Viable                               |</pre>"
            ],
            "text/plain": [
              "| 2       | 0.15625           | Not Viable                               |"
            ]
          },
          "metadata": {
            "tags": []
          }
        },
        {
          "output_type": "display_data",
          "data": {
            "text/html": [
              "<pre>| 3       | 0.0390625         | Not Viable                               |</pre>"
            ],
            "text/plain": [
              "| 3       | 0.0390625         | Not Viable                               |"
            ]
          },
          "metadata": {
            "tags": []
          }
        },
        {
          "output_type": "display_data",
          "data": {
            "text/html": [
              "<pre>| 4       | 0.00976562        | Not Viable                               |</pre>"
            ],
            "text/plain": [
              "| 4       | 0.00976562        | Not Viable                               |"
            ]
          },
          "metadata": {
            "tags": []
          }
        },
        {
          "output_type": "display_data",
          "data": {
            "text/html": [
              "<pre>| 5       | 0.00244141        | 3.23644                                  |</pre>"
            ],
            "text/plain": [
              "| 5       | 0.00244141        | 3.23644                                  |"
            ]
          },
          "metadata": {
            "tags": []
          }
        },
        {
          "output_type": "display_data",
          "data": {
            "text/html": [
              "<pre>| 6       | 0.0012207         | 3.28808                                  |</pre>"
            ],
            "text/plain": [
              "| 6       | 0.0012207         | 3.28808                                  |"
            ]
          },
          "metadata": {
            "tags": []
          }
        },
        {
          "output_type": "display_data",
          "data": {
            "text/html": [
              "<pre>| 7       | 0.000610352       | 3.31661                                  |</pre>"
            ],
            "text/plain": [
              "| 7       | 0.000610352       | 3.31661                                  |"
            ]
          },
          "metadata": {
            "tags": []
          }
        },
        {
          "output_type": "display_data",
          "data": {
            "text/html": [
              "<pre>| 8       | 0.000305176       | 3.32899                                  |</pre>"
            ],
            "text/plain": [
              "| 8       | 0.000305176       | 3.32899                                  |"
            ]
          },
          "metadata": {
            "tags": []
          }
        },
        {
          "output_type": "display_data",
          "data": {
            "text/html": [
              "<pre>+---------+-------------------+------------------------------------------+</pre>"
            ],
            "text/plain": [
              "+---------+-------------------+------------------------------------------+"
            ]
          },
          "metadata": {
            "tags": []
          }
        },
        {
          "output_type": "display_data",
          "data": {
            "text/html": [
              "<pre>| Final   | 0.00244141        | 3.23644                                  |</pre>"
            ],
            "text/plain": [
              "| Final   | 0.00244141        | 3.23644                                  |"
            ]
          },
          "metadata": {
            "tags": []
          }
        },
        {
          "output_type": "display_data",
          "data": {
            "text/html": [
              "<pre>+---------+-------------------+------------------------------------------+</pre>"
            ],
            "text/plain": [
              "+---------+-------------------+------------------------------------------+"
            ]
          },
          "metadata": {
            "tags": []
          }
        },
        {
          "output_type": "display_data",
          "data": {
            "text/html": [
              "<pre>Starting Optimization.</pre>"
            ],
            "text/plain": [
              "Starting Optimization."
            ]
          },
          "metadata": {
            "tags": []
          }
        },
        {
          "output_type": "display_data",
          "data": {
            "text/html": [
              "<pre>+---------+--------------+-------------------+-----------------------+-------------+</pre>"
            ],
            "text/plain": [
              "+---------+--------------+-------------------+-----------------------+-------------+"
            ]
          },
          "metadata": {
            "tags": []
          }
        },
        {
          "output_type": "display_data",
          "data": {
            "text/html": [
              "<pre>| Iter.   | Elapsed Time | Approx. Objective | Approx. Training RMSE | Step Size   |</pre>"
            ],
            "text/plain": [
              "| Iter.   | Elapsed Time | Approx. Objective | Approx. Training RMSE | Step Size   |"
            ]
          },
          "metadata": {
            "tags": []
          }
        },
        {
          "output_type": "display_data",
          "data": {
            "text/html": [
              "<pre>+---------+--------------+-------------------+-----------------------+-------------+</pre>"
            ],
            "text/plain": [
              "+---------+--------------+-------------------+-----------------------+-------------+"
            ]
          },
          "metadata": {
            "tags": []
          }
        },
        {
          "output_type": "display_data",
          "data": {
            "text/html": [
              "<pre>| Initial | 97us         | 3.87869           | 1.40656               |             |</pre>"
            ],
            "text/plain": [
              "| Initial | 97us         | 3.87869           | 1.40656               |             |"
            ]
          },
          "metadata": {
            "tags": []
          }
        },
        {
          "output_type": "display_data",
          "data": {
            "text/html": [
              "<pre>+---------+--------------+-------------------+-----------------------+-------------+</pre>"
            ],
            "text/plain": [
              "+---------+--------------+-------------------+-----------------------+-------------+"
            ]
          },
          "metadata": {
            "tags": []
          }
        },
        {
          "output_type": "display_data",
          "data": {
            "text/html": [
              "<pre>| 1       | 372.707ms    | 3.46004           | 1.48698               | 0.00244141  |</pre>"
            ],
            "text/plain": [
              "| 1       | 372.707ms    | 3.46004           | 1.48698               | 0.00244141  |"
            ]
          },
          "metadata": {
            "tags": []
          }
        },
        {
          "output_type": "display_data",
          "data": {
            "text/html": [
              "<pre>| 2       | 744.815ms    | 3.36019           | 1.464                 | 0.00145167  |</pre>"
            ],
            "text/plain": [
              "| 2       | 744.815ms    | 3.36019           | 1.464                 | 0.00145167  |"
            ]
          },
          "metadata": {
            "tags": []
          }
        },
        {
          "output_type": "display_data",
          "data": {
            "text/html": [
              "<pre>| 3       | 1.09s        | 3.31675           | 1.45366               | 0.00107102  |</pre>"
            ],
            "text/plain": [
              "| 3       | 1.09s        | 3.31675           | 1.45366               | 0.00107102  |"
            ]
          },
          "metadata": {
            "tags": []
          }
        },
        {
          "output_type": "display_data",
          "data": {
            "text/html": [
              "<pre>| 4       | 1.44s        | 3.29129           | 1.44687               | 0.000863167 |</pre>"
            ],
            "text/plain": [
              "| 4       | 1.44s        | 3.29129           | 1.44687               | 0.000863167 |"
            ]
          },
          "metadata": {
            "tags": []
          }
        },
        {
          "output_type": "display_data",
          "data": {
            "text/html": [
              "<pre>| 5       | 1.81s        | 3.27056           | 1.4422                | 0.000730151 |</pre>"
            ],
            "text/plain": [
              "| 5       | 1.81s        | 3.27056           | 1.4422                | 0.000730151 |"
            ]
          },
          "metadata": {
            "tags": []
          }
        },
        {
          "output_type": "display_data",
          "data": {
            "text/html": [
              "<pre>| 10      | 3.60s        | 3.21756           | 1.42699               | 0.00043415  |</pre>"
            ],
            "text/plain": [
              "| 10      | 3.60s        | 3.21756           | 1.42699               | 0.00043415  |"
            ]
          },
          "metadata": {
            "tags": []
          }
        },
        {
          "output_type": "display_data",
          "data": {
            "text/html": [
              "<pre>| 20      | 7.13s        | 3.17159           | 1.41421               | 0.000153495 |</pre>"
            ],
            "text/plain": [
              "| 20      | 7.13s        | 3.17159           | 1.41421               | 0.000153495 |"
            ]
          },
          "metadata": {
            "tags": []
          }
        },
        {
          "output_type": "display_data",
          "data": {
            "text/html": [
              "<pre>| 25      | 8.91s        | 3.17208           | 1.41492               | 9.18116e-05 |</pre>"
            ],
            "text/plain": [
              "| 25      | 8.91s        | 3.17208           | 1.41492               | 9.18116e-05 |"
            ]
          },
          "metadata": {
            "tags": []
          }
        },
        {
          "output_type": "display_data",
          "data": {
            "text/html": [
              "<pre>+---------+--------------+-------------------+-----------------------+-------------+</pre>"
            ],
            "text/plain": [
              "+---------+--------------+-------------------+-----------------------+-------------+"
            ]
          },
          "metadata": {
            "tags": []
          }
        },
        {
          "output_type": "display_data",
          "data": {
            "text/html": [
              "<pre>Optimization Complete: Maximum number of passes through the data reached.</pre>"
            ],
            "text/plain": [
              "Optimization Complete: Maximum number of passes through the data reached."
            ]
          },
          "metadata": {
            "tags": []
          }
        },
        {
          "output_type": "display_data",
          "data": {
            "text/html": [
              "<pre>Computing final objective value and training RMSE.</pre>"
            ],
            "text/plain": [
              "Computing final objective value and training RMSE."
            ]
          },
          "metadata": {
            "tags": []
          }
        },
        {
          "output_type": "display_data",
          "data": {
            "text/html": [
              "<pre>       Final objective value: 3.16838</pre>"
            ],
            "text/plain": [
              "       Final objective value: 3.16838"
            ]
          },
          "metadata": {
            "tags": []
          }
        },
        {
          "output_type": "display_data",
          "data": {
            "text/html": [
              "<pre>       Final training RMSE: 1.41548</pre>"
            ],
            "text/plain": [
              "       Final training RMSE: 1.41548"
            ]
          },
          "metadata": {
            "tags": []
          }
        },
        {
          "output_type": "display_data",
          "data": {
            "text/html": [
              "<pre>recommendations finished on 1000/23796 queries. users per second: 673.646</pre>"
            ],
            "text/plain": [
              "recommendations finished on 1000/23796 queries. users per second: 673.646"
            ]
          },
          "metadata": {
            "tags": []
          }
        },
        {
          "output_type": "display_data",
          "data": {
            "text/html": [
              "<pre>recommendations finished on 2000/23796 queries. users per second: 673.101</pre>"
            ],
            "text/plain": [
              "recommendations finished on 2000/23796 queries. users per second: 673.101"
            ]
          },
          "metadata": {
            "tags": []
          }
        },
        {
          "output_type": "display_data",
          "data": {
            "text/html": [
              "<pre>recommendations finished on 3000/23796 queries. users per second: 671.348</pre>"
            ],
            "text/plain": [
              "recommendations finished on 3000/23796 queries. users per second: 671.348"
            ]
          },
          "metadata": {
            "tags": []
          }
        },
        {
          "output_type": "display_data",
          "data": {
            "text/html": [
              "<pre>recommendations finished on 4000/23796 queries. users per second: 671.497</pre>"
            ],
            "text/plain": [
              "recommendations finished on 4000/23796 queries. users per second: 671.497"
            ]
          },
          "metadata": {
            "tags": []
          }
        },
        {
          "output_type": "display_data",
          "data": {
            "text/html": [
              "<pre>recommendations finished on 5000/23796 queries. users per second: 672.518</pre>"
            ],
            "text/plain": [
              "recommendations finished on 5000/23796 queries. users per second: 672.518"
            ]
          },
          "metadata": {
            "tags": []
          }
        },
        {
          "output_type": "display_data",
          "data": {
            "text/html": [
              "<pre>recommendations finished on 6000/23796 queries. users per second: 672.037</pre>"
            ],
            "text/plain": [
              "recommendations finished on 6000/23796 queries. users per second: 672.037"
            ]
          },
          "metadata": {
            "tags": []
          }
        },
        {
          "output_type": "display_data",
          "data": {
            "text/html": [
              "<pre>recommendations finished on 7000/23796 queries. users per second: 672.436</pre>"
            ],
            "text/plain": [
              "recommendations finished on 7000/23796 queries. users per second: 672.436"
            ]
          },
          "metadata": {
            "tags": []
          }
        },
        {
          "output_type": "display_data",
          "data": {
            "text/html": [
              "<pre>recommendations finished on 8000/23796 queries. users per second: 672.005</pre>"
            ],
            "text/plain": [
              "recommendations finished on 8000/23796 queries. users per second: 672.005"
            ]
          },
          "metadata": {
            "tags": []
          }
        },
        {
          "output_type": "display_data",
          "data": {
            "text/html": [
              "<pre>recommendations finished on 9000/23796 queries. users per second: 672.194</pre>"
            ],
            "text/plain": [
              "recommendations finished on 9000/23796 queries. users per second: 672.194"
            ]
          },
          "metadata": {
            "tags": []
          }
        },
        {
          "output_type": "display_data",
          "data": {
            "text/html": [
              "<pre>recommendations finished on 10000/23796 queries. users per second: 672.047</pre>"
            ],
            "text/plain": [
              "recommendations finished on 10000/23796 queries. users per second: 672.047"
            ]
          },
          "metadata": {
            "tags": []
          }
        },
        {
          "output_type": "display_data",
          "data": {
            "text/html": [
              "<pre>recommendations finished on 11000/23796 queries. users per second: 672.24</pre>"
            ],
            "text/plain": [
              "recommendations finished on 11000/23796 queries. users per second: 672.24"
            ]
          },
          "metadata": {
            "tags": []
          }
        },
        {
          "output_type": "display_data",
          "data": {
            "text/html": [
              "<pre>recommendations finished on 12000/23796 queries. users per second: 672.299</pre>"
            ],
            "text/plain": [
              "recommendations finished on 12000/23796 queries. users per second: 672.299"
            ]
          },
          "metadata": {
            "tags": []
          }
        },
        {
          "output_type": "display_data",
          "data": {
            "text/html": [
              "<pre>recommendations finished on 13000/23796 queries. users per second: 671.929</pre>"
            ],
            "text/plain": [
              "recommendations finished on 13000/23796 queries. users per second: 671.929"
            ]
          },
          "metadata": {
            "tags": []
          }
        },
        {
          "output_type": "display_data",
          "data": {
            "text/html": [
              "<pre>recommendations finished on 14000/23796 queries. users per second: 671.925</pre>"
            ],
            "text/plain": [
              "recommendations finished on 14000/23796 queries. users per second: 671.925"
            ]
          },
          "metadata": {
            "tags": []
          }
        },
        {
          "output_type": "display_data",
          "data": {
            "text/html": [
              "<pre>recommendations finished on 15000/23796 queries. users per second: 671.843</pre>"
            ],
            "text/plain": [
              "recommendations finished on 15000/23796 queries. users per second: 671.843"
            ]
          },
          "metadata": {
            "tags": []
          }
        },
        {
          "output_type": "display_data",
          "data": {
            "text/html": [
              "<pre>recommendations finished on 16000/23796 queries. users per second: 671.677</pre>"
            ],
            "text/plain": [
              "recommendations finished on 16000/23796 queries. users per second: 671.677"
            ]
          },
          "metadata": {
            "tags": []
          }
        },
        {
          "output_type": "display_data",
          "data": {
            "text/html": [
              "<pre>recommendations finished on 17000/23796 queries. users per second: 671.651</pre>"
            ],
            "text/plain": [
              "recommendations finished on 17000/23796 queries. users per second: 671.651"
            ]
          },
          "metadata": {
            "tags": []
          }
        },
        {
          "output_type": "display_data",
          "data": {
            "text/html": [
              "<pre>recommendations finished on 18000/23796 queries. users per second: 671.573</pre>"
            ],
            "text/plain": [
              "recommendations finished on 18000/23796 queries. users per second: 671.573"
            ]
          },
          "metadata": {
            "tags": []
          }
        },
        {
          "output_type": "display_data",
          "data": {
            "text/html": [
              "<pre>recommendations finished on 19000/23796 queries. users per second: 671.516</pre>"
            ],
            "text/plain": [
              "recommendations finished on 19000/23796 queries. users per second: 671.516"
            ]
          },
          "metadata": {
            "tags": []
          }
        },
        {
          "output_type": "display_data",
          "data": {
            "text/html": [
              "<pre>recommendations finished on 20000/23796 queries. users per second: 671.598</pre>"
            ],
            "text/plain": [
              "recommendations finished on 20000/23796 queries. users per second: 671.598"
            ]
          },
          "metadata": {
            "tags": []
          }
        },
        {
          "output_type": "display_data",
          "data": {
            "text/html": [
              "<pre>recommendations finished on 21000/23796 queries. users per second: 671.006</pre>"
            ],
            "text/plain": [
              "recommendations finished on 21000/23796 queries. users per second: 671.006"
            ]
          },
          "metadata": {
            "tags": []
          }
        },
        {
          "output_type": "display_data",
          "data": {
            "text/html": [
              "<pre>recommendations finished on 22000/23796 queries. users per second: 671.151</pre>"
            ],
            "text/plain": [
              "recommendations finished on 22000/23796 queries. users per second: 671.151"
            ]
          },
          "metadata": {
            "tags": []
          }
        },
        {
          "output_type": "display_data",
          "data": {
            "text/html": [
              "<pre>recommendations finished on 23000/23796 queries. users per second: 671.222</pre>"
            ],
            "text/plain": [
              "recommendations finished on 23000/23796 queries. users per second: 671.222"
            ]
          },
          "metadata": {
            "tags": []
          }
        },
        {
          "output_type": "display_data",
          "data": {
            "text/html": [
              "<pre>Preparing data set.</pre>"
            ],
            "text/plain": [
              "Preparing data set."
            ]
          },
          "metadata": {
            "tags": []
          }
        },
        {
          "output_type": "display_data",
          "data": {
            "text/html": [
              "<pre>    Data has 55216 observations with 29677 users and 5094 items.</pre>"
            ],
            "text/plain": [
              "    Data has 55216 observations with 29677 users and 5094 items."
            ]
          },
          "metadata": {
            "tags": []
          }
        },
        {
          "output_type": "display_data",
          "data": {
            "text/html": [
              "<pre>    Data prepared in: 0.312698s</pre>"
            ],
            "text/plain": [
              "    Data prepared in: 0.312698s"
            ]
          },
          "metadata": {
            "tags": []
          }
        },
        {
          "output_type": "display_data",
          "data": {
            "text/html": [
              "<pre>Training ranking_factorization_recommender for recommendations.</pre>"
            ],
            "text/plain": [
              "Training ranking_factorization_recommender for recommendations."
            ]
          },
          "metadata": {
            "tags": []
          }
        },
        {
          "output_type": "display_data",
          "data": {
            "text/html": [
              "<pre>+--------------------------------+--------------------------------------------------+----------+</pre>"
            ],
            "text/plain": [
              "+--------------------------------+--------------------------------------------------+----------+"
            ]
          },
          "metadata": {
            "tags": []
          }
        },
        {
          "output_type": "display_data",
          "data": {
            "text/html": [
              "<pre>| Parameter                      | Description                                      | Value    |</pre>"
            ],
            "text/plain": [
              "| Parameter                      | Description                                      | Value    |"
            ]
          },
          "metadata": {
            "tags": []
          }
        },
        {
          "output_type": "display_data",
          "data": {
            "text/html": [
              "<pre>+--------------------------------+--------------------------------------------------+----------+</pre>"
            ],
            "text/plain": [
              "+--------------------------------+--------------------------------------------------+----------+"
            ]
          },
          "metadata": {
            "tags": []
          }
        },
        {
          "output_type": "display_data",
          "data": {
            "text/html": [
              "<pre>| num_factors                    | Factor Dimension                                 | 32       |</pre>"
            ],
            "text/plain": [
              "| num_factors                    | Factor Dimension                                 | 32       |"
            ]
          },
          "metadata": {
            "tags": []
          }
        },
        {
          "output_type": "display_data",
          "data": {
            "text/html": [
              "<pre>| regularization                 | L2 Regularization on Factors                     | 1e-09    |</pre>"
            ],
            "text/plain": [
              "| regularization                 | L2 Regularization on Factors                     | 1e-09    |"
            ]
          },
          "metadata": {
            "tags": []
          }
        },
        {
          "output_type": "display_data",
          "data": {
            "text/html": [
              "<pre>| solver                         | Solver used for training                         | sgd      |</pre>"
            ],
            "text/plain": [
              "| solver                         | Solver used for training                         | sgd      |"
            ]
          },
          "metadata": {
            "tags": []
          }
        },
        {
          "output_type": "display_data",
          "data": {
            "text/html": [
              "<pre>| linear_regularization          | L2 Regularization on Linear Coefficients         | 1e-09    |</pre>"
            ],
            "text/plain": [
              "| linear_regularization          | L2 Regularization on Linear Coefficients         | 1e-09    |"
            ]
          },
          "metadata": {
            "tags": []
          }
        },
        {
          "output_type": "display_data",
          "data": {
            "text/html": [
              "<pre>| ranking_regularization         | Rank-based Regularization Weight                 | 0.25     |</pre>"
            ],
            "text/plain": [
              "| ranking_regularization         | Rank-based Regularization Weight                 | 0.25     |"
            ]
          },
          "metadata": {
            "tags": []
          }
        },
        {
          "output_type": "display_data",
          "data": {
            "text/html": [
              "<pre>| side_data_factorization        | Assign Factors for Side Data                     | True     |</pre>"
            ],
            "text/plain": [
              "| side_data_factorization        | Assign Factors for Side Data                     | True     |"
            ]
          },
          "metadata": {
            "tags": []
          }
        },
        {
          "output_type": "display_data",
          "data": {
            "text/html": [
              "<pre>| max_iterations                 | Maximum Number of Iterations                     | 25       |</pre>"
            ],
            "text/plain": [
              "| max_iterations                 | Maximum Number of Iterations                     | 25       |"
            ]
          },
          "metadata": {
            "tags": []
          }
        },
        {
          "output_type": "display_data",
          "data": {
            "text/html": [
              "<pre>+--------------------------------+--------------------------------------------------+----------+</pre>"
            ],
            "text/plain": [
              "+--------------------------------+--------------------------------------------------+----------+"
            ]
          },
          "metadata": {
            "tags": []
          }
        },
        {
          "output_type": "display_data",
          "data": {
            "text/html": [
              "<pre>  Optimizing model using SGD; tuning step size.</pre>"
            ],
            "text/plain": [
              "  Optimizing model using SGD; tuning step size."
            ]
          },
          "metadata": {
            "tags": []
          }
        },
        {
          "output_type": "display_data",
          "data": {
            "text/html": [
              "<pre>  Using 10000 / 55216 points for tuning the step size.</pre>"
            ],
            "text/plain": [
              "  Using 10000 / 55216 points for tuning the step size."
            ]
          },
          "metadata": {
            "tags": []
          }
        },
        {
          "output_type": "display_data",
          "data": {
            "text/html": [
              "<pre>+---------+-------------------+------------------------------------------+</pre>"
            ],
            "text/plain": [
              "+---------+-------------------+------------------------------------------+"
            ]
          },
          "metadata": {
            "tags": []
          }
        },
        {
          "output_type": "display_data",
          "data": {
            "text/html": [
              "<pre>| Attempt | Initial Step Size | Estimated Objective Value                |</pre>"
            ],
            "text/plain": [
              "| Attempt | Initial Step Size | Estimated Objective Value                |"
            ]
          },
          "metadata": {
            "tags": []
          }
        },
        {
          "output_type": "display_data",
          "data": {
            "text/html": [
              "<pre>+---------+-------------------+------------------------------------------+</pre>"
            ],
            "text/plain": [
              "+---------+-------------------+------------------------------------------+"
            ]
          },
          "metadata": {
            "tags": []
          }
        },
        {
          "output_type": "display_data",
          "data": {
            "text/html": [
              "<pre>| 0       | 2.5               | Not Viable                               |</pre>"
            ],
            "text/plain": [
              "| 0       | 2.5               | Not Viable                               |"
            ]
          },
          "metadata": {
            "tags": []
          }
        },
        {
          "output_type": "display_data",
          "data": {
            "text/html": [
              "<pre>| 1       | 0.625             | Not Viable                               |</pre>"
            ],
            "text/plain": [
              "| 1       | 0.625             | Not Viable                               |"
            ]
          },
          "metadata": {
            "tags": []
          }
        },
        {
          "output_type": "display_data",
          "data": {
            "text/html": [
              "<pre>| 2       | 0.15625           | Not Viable                               |</pre>"
            ],
            "text/plain": [
              "| 2       | 0.15625           | Not Viable                               |"
            ]
          },
          "metadata": {
            "tags": []
          }
        },
        {
          "output_type": "display_data",
          "data": {
            "text/html": [
              "<pre>| 3       | 0.0390625         | Not Viable                               |</pre>"
            ],
            "text/plain": [
              "| 3       | 0.0390625         | Not Viable                               |"
            ]
          },
          "metadata": {
            "tags": []
          }
        },
        {
          "output_type": "display_data",
          "data": {
            "text/html": [
              "<pre>| 4       | 0.00976562        | Not Viable                               |</pre>"
            ],
            "text/plain": [
              "| 4       | 0.00976562        | Not Viable                               |"
            ]
          },
          "metadata": {
            "tags": []
          }
        },
        {
          "output_type": "display_data",
          "data": {
            "text/html": [
              "<pre>| 5       | 0.00244141        | 3.4448                                   |</pre>"
            ],
            "text/plain": [
              "| 5       | 0.00244141        | 3.4448                                   |"
            ]
          },
          "metadata": {
            "tags": []
          }
        },
        {
          "output_type": "display_data",
          "data": {
            "text/html": [
              "<pre>| 6       | 0.0012207         | 3.50441                                  |</pre>"
            ],
            "text/plain": [
              "| 6       | 0.0012207         | 3.50441                                  |"
            ]
          },
          "metadata": {
            "tags": []
          }
        },
        {
          "output_type": "display_data",
          "data": {
            "text/html": [
              "<pre>| 7       | 0.000610352       | 3.51844                                  |</pre>"
            ],
            "text/plain": [
              "| 7       | 0.000610352       | 3.51844                                  |"
            ]
          },
          "metadata": {
            "tags": []
          }
        },
        {
          "output_type": "display_data",
          "data": {
            "text/html": [
              "<pre>| 8       | 0.000305176       | 3.5298                                   |</pre>"
            ],
            "text/plain": [
              "| 8       | 0.000305176       | 3.5298                                   |"
            ]
          },
          "metadata": {
            "tags": []
          }
        },
        {
          "output_type": "display_data",
          "data": {
            "text/html": [
              "<pre>+---------+-------------------+------------------------------------------+</pre>"
            ],
            "text/plain": [
              "+---------+-------------------+------------------------------------------+"
            ]
          },
          "metadata": {
            "tags": []
          }
        },
        {
          "output_type": "display_data",
          "data": {
            "text/html": [
              "<pre>| Final   | 0.00244141        | 3.4448                                   |</pre>"
            ],
            "text/plain": [
              "| Final   | 0.00244141        | 3.4448                                   |"
            ]
          },
          "metadata": {
            "tags": []
          }
        },
        {
          "output_type": "display_data",
          "data": {
            "text/html": [
              "<pre>+---------+-------------------+------------------------------------------+</pre>"
            ],
            "text/plain": [
              "+---------+-------------------+------------------------------------------+"
            ]
          },
          "metadata": {
            "tags": []
          }
        },
        {
          "output_type": "display_data",
          "data": {
            "text/html": [
              "<pre>Starting Optimization.</pre>"
            ],
            "text/plain": [
              "Starting Optimization."
            ]
          },
          "metadata": {
            "tags": []
          }
        },
        {
          "output_type": "display_data",
          "data": {
            "text/html": [
              "<pre>+---------+--------------+-------------------+-----------------------+-------------+</pre>"
            ],
            "text/plain": [
              "+---------+--------------+-------------------+-----------------------+-------------+"
            ]
          },
          "metadata": {
            "tags": []
          }
        },
        {
          "output_type": "display_data",
          "data": {
            "text/html": [
              "<pre>| Iter.   | Elapsed Time | Approx. Objective | Approx. Training RMSE | Step Size   |</pre>"
            ],
            "text/plain": [
              "| Iter.   | Elapsed Time | Approx. Objective | Approx. Training RMSE | Step Size   |"
            ]
          },
          "metadata": {
            "tags": []
          }
        },
        {
          "output_type": "display_data",
          "data": {
            "text/html": [
              "<pre>+---------+--------------+-------------------+-----------------------+-------------+</pre>"
            ],
            "text/plain": [
              "+---------+--------------+-------------------+-----------------------+-------------+"
            ]
          },
          "metadata": {
            "tags": []
          }
        },
        {
          "output_type": "display_data",
          "data": {
            "text/html": [
              "<pre>| Initial | 119us        | 4.06578           | 1.44021               |             |</pre>"
            ],
            "text/plain": [
              "| Initial | 119us        | 4.06578           | 1.44021               |             |"
            ]
          },
          "metadata": {
            "tags": []
          }
        },
        {
          "output_type": "display_data",
          "data": {
            "text/html": [
              "<pre>+---------+--------------+-------------------+-----------------------+-------------+</pre>"
            ],
            "text/plain": [
              "+---------+--------------+-------------------+-----------------------+-------------+"
            ]
          },
          "metadata": {
            "tags": []
          }
        },
        {
          "output_type": "display_data",
          "data": {
            "text/html": [
              "<pre>| 1       | 489.537ms    | 3.63053           | 1.52734               | 0.00244141  |</pre>"
            ],
            "text/plain": [
              "| 1       | 489.537ms    | 3.63053           | 1.52734               | 0.00244141  |"
            ]
          },
          "metadata": {
            "tags": []
          }
        },
        {
          "output_type": "display_data",
          "data": {
            "text/html": [
              "<pre>| 2       | 970.805ms    | 3.52172           | 1.50505               | 0.00145167  |</pre>"
            ],
            "text/plain": [
              "| 2       | 970.805ms    | 3.52172           | 1.50505               | 0.00145167  |"
            ]
          },
          "metadata": {
            "tags": []
          }
        },
        {
          "output_type": "display_data",
          "data": {
            "text/html": [
              "<pre>| 3       | 1.44s        | 3.4815            | 1.49609               | 0.00107102  |</pre>"
            ],
            "text/plain": [
              "| 3       | 1.44s        | 3.4815            | 1.49609               | 0.00107102  |"
            ]
          },
          "metadata": {
            "tags": []
          }
        },
        {
          "output_type": "display_data",
          "data": {
            "text/html": [
              "<pre>| 4       | 1.90s        | 3.45206           | 1.48856               | 0.000863167 |</pre>"
            ],
            "text/plain": [
              "| 4       | 1.90s        | 3.45206           | 1.48856               | 0.000863167 |"
            ]
          },
          "metadata": {
            "tags": []
          }
        },
        {
          "output_type": "display_data",
          "data": {
            "text/html": [
              "<pre>| 5       | 2.36s        | 3.43204           | 1.48414               | 0.000730151 |</pre>"
            ],
            "text/plain": [
              "| 5       | 2.36s        | 3.43204           | 1.48414               | 0.000730151 |"
            ]
          },
          "metadata": {
            "tags": []
          }
        },
        {
          "output_type": "display_data",
          "data": {
            "text/html": [
              "<pre>| 10      | 4.62s        | 3.37175           | 1.46863               | 0.00043415  |</pre>"
            ],
            "text/plain": [
              "| 10      | 4.62s        | 3.37175           | 1.46863               | 0.00043415  |"
            ]
          },
          "metadata": {
            "tags": []
          }
        },
        {
          "output_type": "display_data",
          "data": {
            "text/html": [
              "<pre>| 20      | 9.13s        | 3.30408           | 1.45053               | 0.000258147 |</pre>"
            ],
            "text/plain": [
              "| 20      | 9.13s        | 3.30408           | 1.45053               | 0.000258147 |"
            ]
          },
          "metadata": {
            "tags": []
          }
        },
        {
          "output_type": "display_data",
          "data": {
            "text/html": [
              "<pre>| 25      | 11.39s       | 3.28378           | 1.44661               | 0.000129841 |</pre>"
            ],
            "text/plain": [
              "| 25      | 11.39s       | 3.28378           | 1.44661               | 0.000129841 |"
            ]
          },
          "metadata": {
            "tags": []
          }
        },
        {
          "output_type": "display_data",
          "data": {
            "text/html": [
              "<pre>+---------+--------------+-------------------+-----------------------+-------------+</pre>"
            ],
            "text/plain": [
              "+---------+--------------+-------------------+-----------------------+-------------+"
            ]
          },
          "metadata": {
            "tags": []
          }
        },
        {
          "output_type": "display_data",
          "data": {
            "text/html": [
              "<pre>Optimization Complete: Maximum number of passes through the data reached.</pre>"
            ],
            "text/plain": [
              "Optimization Complete: Maximum number of passes through the data reached."
            ]
          },
          "metadata": {
            "tags": []
          }
        },
        {
          "output_type": "display_data",
          "data": {
            "text/html": [
              "<pre>Computing final objective value and training RMSE.</pre>"
            ],
            "text/plain": [
              "Computing final objective value and training RMSE."
            ]
          },
          "metadata": {
            "tags": []
          }
        },
        {
          "output_type": "display_data",
          "data": {
            "text/html": [
              "<pre>       Final objective value: 3.30072</pre>"
            ],
            "text/plain": [
              "       Final objective value: 3.30072"
            ]
          },
          "metadata": {
            "tags": []
          }
        },
        {
          "output_type": "display_data",
          "data": {
            "text/html": [
              "<pre>       Final training RMSE: 1.44683</pre>"
            ],
            "text/plain": [
              "       Final training RMSE: 1.44683"
            ]
          },
          "metadata": {
            "tags": []
          }
        },
        {
          "output_type": "display_data",
          "data": {
            "text/html": [
              "<pre>recommendations finished on 1000/29677 queries. users per second: 625.639</pre>"
            ],
            "text/plain": [
              "recommendations finished on 1000/29677 queries. users per second: 625.639"
            ]
          },
          "metadata": {
            "tags": []
          }
        },
        {
          "output_type": "display_data",
          "data": {
            "text/html": [
              "<pre>recommendations finished on 2000/29677 queries. users per second: 626.572</pre>"
            ],
            "text/plain": [
              "recommendations finished on 2000/29677 queries. users per second: 626.572"
            ]
          },
          "metadata": {
            "tags": []
          }
        },
        {
          "output_type": "display_data",
          "data": {
            "text/html": [
              "<pre>recommendations finished on 3000/29677 queries. users per second: 624.837</pre>"
            ],
            "text/plain": [
              "recommendations finished on 3000/29677 queries. users per second: 624.837"
            ]
          },
          "metadata": {
            "tags": []
          }
        },
        {
          "output_type": "display_data",
          "data": {
            "text/html": [
              "<pre>recommendations finished on 4000/29677 queries. users per second: 624.936</pre>"
            ],
            "text/plain": [
              "recommendations finished on 4000/29677 queries. users per second: 624.936"
            ]
          },
          "metadata": {
            "tags": []
          }
        },
        {
          "output_type": "display_data",
          "data": {
            "text/html": [
              "<pre>recommendations finished on 5000/29677 queries. users per second: 625.842</pre>"
            ],
            "text/plain": [
              "recommendations finished on 5000/29677 queries. users per second: 625.842"
            ]
          },
          "metadata": {
            "tags": []
          }
        },
        {
          "output_type": "display_data",
          "data": {
            "text/html": [
              "<pre>recommendations finished on 6000/29677 queries. users per second: 626.23</pre>"
            ],
            "text/plain": [
              "recommendations finished on 6000/29677 queries. users per second: 626.23"
            ]
          },
          "metadata": {
            "tags": []
          }
        },
        {
          "output_type": "display_data",
          "data": {
            "text/html": [
              "<pre>recommendations finished on 7000/29677 queries. users per second: 627.107</pre>"
            ],
            "text/plain": [
              "recommendations finished on 7000/29677 queries. users per second: 627.107"
            ]
          },
          "metadata": {
            "tags": []
          }
        },
        {
          "output_type": "display_data",
          "data": {
            "text/html": [
              "<pre>recommendations finished on 8000/29677 queries. users per second: 627.297</pre>"
            ],
            "text/plain": [
              "recommendations finished on 8000/29677 queries. users per second: 627.297"
            ]
          },
          "metadata": {
            "tags": []
          }
        },
        {
          "output_type": "display_data",
          "data": {
            "text/html": [
              "<pre>recommendations finished on 9000/29677 queries. users per second: 627.815</pre>"
            ],
            "text/plain": [
              "recommendations finished on 9000/29677 queries. users per second: 627.815"
            ]
          },
          "metadata": {
            "tags": []
          }
        },
        {
          "output_type": "display_data",
          "data": {
            "text/html": [
              "<pre>recommendations finished on 10000/29677 queries. users per second: 627.892</pre>"
            ],
            "text/plain": [
              "recommendations finished on 10000/29677 queries. users per second: 627.892"
            ]
          },
          "metadata": {
            "tags": []
          }
        },
        {
          "output_type": "display_data",
          "data": {
            "text/html": [
              "<pre>recommendations finished on 11000/29677 queries. users per second: 627.92</pre>"
            ],
            "text/plain": [
              "recommendations finished on 11000/29677 queries. users per second: 627.92"
            ]
          },
          "metadata": {
            "tags": []
          }
        },
        {
          "output_type": "display_data",
          "data": {
            "text/html": [
              "<pre>recommendations finished on 12000/29677 queries. users per second: 628.351</pre>"
            ],
            "text/plain": [
              "recommendations finished on 12000/29677 queries. users per second: 628.351"
            ]
          },
          "metadata": {
            "tags": []
          }
        },
        {
          "output_type": "display_data",
          "data": {
            "text/html": [
              "<pre>recommendations finished on 13000/29677 queries. users per second: 627.572</pre>"
            ],
            "text/plain": [
              "recommendations finished on 13000/29677 queries. users per second: 627.572"
            ]
          },
          "metadata": {
            "tags": []
          }
        },
        {
          "output_type": "display_data",
          "data": {
            "text/html": [
              "<pre>recommendations finished on 14000/29677 queries. users per second: 627.819</pre>"
            ],
            "text/plain": [
              "recommendations finished on 14000/29677 queries. users per second: 627.819"
            ]
          },
          "metadata": {
            "tags": []
          }
        },
        {
          "output_type": "display_data",
          "data": {
            "text/html": [
              "<pre>recommendations finished on 15000/29677 queries. users per second: 627.991</pre>"
            ],
            "text/plain": [
              "recommendations finished on 15000/29677 queries. users per second: 627.991"
            ]
          },
          "metadata": {
            "tags": []
          }
        },
        {
          "output_type": "display_data",
          "data": {
            "text/html": [
              "<pre>recommendations finished on 16000/29677 queries. users per second: 628.099</pre>"
            ],
            "text/plain": [
              "recommendations finished on 16000/29677 queries. users per second: 628.099"
            ]
          },
          "metadata": {
            "tags": []
          }
        },
        {
          "output_type": "display_data",
          "data": {
            "text/html": [
              "<pre>recommendations finished on 17000/29677 queries. users per second: 627.994</pre>"
            ],
            "text/plain": [
              "recommendations finished on 17000/29677 queries. users per second: 627.994"
            ]
          },
          "metadata": {
            "tags": []
          }
        },
        {
          "output_type": "display_data",
          "data": {
            "text/html": [
              "<pre>recommendations finished on 18000/29677 queries. users per second: 628.13</pre>"
            ],
            "text/plain": [
              "recommendations finished on 18000/29677 queries. users per second: 628.13"
            ]
          },
          "metadata": {
            "tags": []
          }
        },
        {
          "output_type": "display_data",
          "data": {
            "text/html": [
              "<pre>recommendations finished on 19000/29677 queries. users per second: 628.2</pre>"
            ],
            "text/plain": [
              "recommendations finished on 19000/29677 queries. users per second: 628.2"
            ]
          },
          "metadata": {
            "tags": []
          }
        },
        {
          "output_type": "display_data",
          "data": {
            "text/html": [
              "<pre>recommendations finished on 20000/29677 queries. users per second: 628.036</pre>"
            ],
            "text/plain": [
              "recommendations finished on 20000/29677 queries. users per second: 628.036"
            ]
          },
          "metadata": {
            "tags": []
          }
        },
        {
          "output_type": "display_data",
          "data": {
            "text/html": [
              "<pre>recommendations finished on 21000/29677 queries. users per second: 627.964</pre>"
            ],
            "text/plain": [
              "recommendations finished on 21000/29677 queries. users per second: 627.964"
            ]
          },
          "metadata": {
            "tags": []
          }
        },
        {
          "output_type": "display_data",
          "data": {
            "text/html": [
              "<pre>recommendations finished on 22000/29677 queries. users per second: 627.796</pre>"
            ],
            "text/plain": [
              "recommendations finished on 22000/29677 queries. users per second: 627.796"
            ]
          },
          "metadata": {
            "tags": []
          }
        },
        {
          "output_type": "display_data",
          "data": {
            "text/html": [
              "<pre>recommendations finished on 23000/29677 queries. users per second: 627.906</pre>"
            ],
            "text/plain": [
              "recommendations finished on 23000/29677 queries. users per second: 627.906"
            ]
          },
          "metadata": {
            "tags": []
          }
        },
        {
          "output_type": "display_data",
          "data": {
            "text/html": [
              "<pre>recommendations finished on 24000/29677 queries. users per second: 627.826</pre>"
            ],
            "text/plain": [
              "recommendations finished on 24000/29677 queries. users per second: 627.826"
            ]
          },
          "metadata": {
            "tags": []
          }
        },
        {
          "output_type": "display_data",
          "data": {
            "text/html": [
              "<pre>recommendations finished on 25000/29677 queries. users per second: 627.734</pre>"
            ],
            "text/plain": [
              "recommendations finished on 25000/29677 queries. users per second: 627.734"
            ]
          },
          "metadata": {
            "tags": []
          }
        },
        {
          "output_type": "display_data",
          "data": {
            "text/html": [
              "<pre>recommendations finished on 26000/29677 queries. users per second: 627.744</pre>"
            ],
            "text/plain": [
              "recommendations finished on 26000/29677 queries. users per second: 627.744"
            ]
          },
          "metadata": {
            "tags": []
          }
        },
        {
          "output_type": "display_data",
          "data": {
            "text/html": [
              "<pre>recommendations finished on 27000/29677 queries. users per second: 627.91</pre>"
            ],
            "text/plain": [
              "recommendations finished on 27000/29677 queries. users per second: 627.91"
            ]
          },
          "metadata": {
            "tags": []
          }
        },
        {
          "output_type": "display_data",
          "data": {
            "text/html": [
              "<pre>recommendations finished on 28000/29677 queries. users per second: 627.86</pre>"
            ],
            "text/plain": [
              "recommendations finished on 28000/29677 queries. users per second: 627.86"
            ]
          },
          "metadata": {
            "tags": []
          }
        },
        {
          "output_type": "display_data",
          "data": {
            "text/html": [
              "<pre>recommendations finished on 29000/29677 queries. users per second: 627.799</pre>"
            ],
            "text/plain": [
              "recommendations finished on 29000/29677 queries. users per second: 627.799"
            ]
          },
          "metadata": {
            "tags": []
          }
        },
        {
          "output_type": "display_data",
          "data": {
            "text/html": [
              "<pre>Preparing data set.</pre>"
            ],
            "text/plain": [
              "Preparing data set."
            ]
          },
          "metadata": {
            "tags": []
          }
        },
        {
          "output_type": "display_data",
          "data": {
            "text/html": [
              "<pre>    Data has 22092 observations with 12197 users and 3913 items.</pre>"
            ],
            "text/plain": [
              "    Data has 22092 observations with 12197 users and 3913 items."
            ]
          },
          "metadata": {
            "tags": []
          }
        },
        {
          "output_type": "display_data",
          "data": {
            "text/html": [
              "<pre>    Data prepared in: 0.128873s</pre>"
            ],
            "text/plain": [
              "    Data prepared in: 0.128873s"
            ]
          },
          "metadata": {
            "tags": []
          }
        },
        {
          "output_type": "display_data",
          "data": {
            "text/html": [
              "<pre>Training ranking_factorization_recommender for recommendations.</pre>"
            ],
            "text/plain": [
              "Training ranking_factorization_recommender for recommendations."
            ]
          },
          "metadata": {
            "tags": []
          }
        },
        {
          "output_type": "display_data",
          "data": {
            "text/html": [
              "<pre>+--------------------------------+--------------------------------------------------+----------+</pre>"
            ],
            "text/plain": [
              "+--------------------------------+--------------------------------------------------+----------+"
            ]
          },
          "metadata": {
            "tags": []
          }
        },
        {
          "output_type": "display_data",
          "data": {
            "text/html": [
              "<pre>| Parameter                      | Description                                      | Value    |</pre>"
            ],
            "text/plain": [
              "| Parameter                      | Description                                      | Value    |"
            ]
          },
          "metadata": {
            "tags": []
          }
        },
        {
          "output_type": "display_data",
          "data": {
            "text/html": [
              "<pre>+--------------------------------+--------------------------------------------------+----------+</pre>"
            ],
            "text/plain": [
              "+--------------------------------+--------------------------------------------------+----------+"
            ]
          },
          "metadata": {
            "tags": []
          }
        },
        {
          "output_type": "display_data",
          "data": {
            "text/html": [
              "<pre>| num_factors                    | Factor Dimension                                 | 32       |</pre>"
            ],
            "text/plain": [
              "| num_factors                    | Factor Dimension                                 | 32       |"
            ]
          },
          "metadata": {
            "tags": []
          }
        },
        {
          "output_type": "display_data",
          "data": {
            "text/html": [
              "<pre>| regularization                 | L2 Regularization on Factors                     | 1e-09    |</pre>"
            ],
            "text/plain": [
              "| regularization                 | L2 Regularization on Factors                     | 1e-09    |"
            ]
          },
          "metadata": {
            "tags": []
          }
        },
        {
          "output_type": "display_data",
          "data": {
            "text/html": [
              "<pre>| solver                         | Solver used for training                         | sgd      |</pre>"
            ],
            "text/plain": [
              "| solver                         | Solver used for training                         | sgd      |"
            ]
          },
          "metadata": {
            "tags": []
          }
        },
        {
          "output_type": "display_data",
          "data": {
            "text/html": [
              "<pre>| linear_regularization          | L2 Regularization on Linear Coefficients         | 1e-09    |</pre>"
            ],
            "text/plain": [
              "| linear_regularization          | L2 Regularization on Linear Coefficients         | 1e-09    |"
            ]
          },
          "metadata": {
            "tags": []
          }
        },
        {
          "output_type": "display_data",
          "data": {
            "text/html": [
              "<pre>| ranking_regularization         | Rank-based Regularization Weight                 | 0.25     |</pre>"
            ],
            "text/plain": [
              "| ranking_regularization         | Rank-based Regularization Weight                 | 0.25     |"
            ]
          },
          "metadata": {
            "tags": []
          }
        },
        {
          "output_type": "display_data",
          "data": {
            "text/html": [
              "<pre>| side_data_factorization        | Assign Factors for Side Data                     | True     |</pre>"
            ],
            "text/plain": [
              "| side_data_factorization        | Assign Factors for Side Data                     | True     |"
            ]
          },
          "metadata": {
            "tags": []
          }
        },
        {
          "output_type": "display_data",
          "data": {
            "text/html": [
              "<pre>| max_iterations                 | Maximum Number of Iterations                     | 25       |</pre>"
            ],
            "text/plain": [
              "| max_iterations                 | Maximum Number of Iterations                     | 25       |"
            ]
          },
          "metadata": {
            "tags": []
          }
        },
        {
          "output_type": "display_data",
          "data": {
            "text/html": [
              "<pre>+--------------------------------+--------------------------------------------------+----------+</pre>"
            ],
            "text/plain": [
              "+--------------------------------+--------------------------------------------------+----------+"
            ]
          },
          "metadata": {
            "tags": []
          }
        },
        {
          "output_type": "display_data",
          "data": {
            "text/html": [
              "<pre>  Optimizing model using SGD; tuning step size.</pre>"
            ],
            "text/plain": [
              "  Optimizing model using SGD; tuning step size."
            ]
          },
          "metadata": {
            "tags": []
          }
        },
        {
          "output_type": "display_data",
          "data": {
            "text/html": [
              "<pre>  Using 10000 / 22092 points for tuning the step size.</pre>"
            ],
            "text/plain": [
              "  Using 10000 / 22092 points for tuning the step size."
            ]
          },
          "metadata": {
            "tags": []
          }
        },
        {
          "output_type": "display_data",
          "data": {
            "text/html": [
              "<pre>+---------+-------------------+------------------------------------------+</pre>"
            ],
            "text/plain": [
              "+---------+-------------------+------------------------------------------+"
            ]
          },
          "metadata": {
            "tags": []
          }
        },
        {
          "output_type": "display_data",
          "data": {
            "text/html": [
              "<pre>| Attempt | Initial Step Size | Estimated Objective Value                |</pre>"
            ],
            "text/plain": [
              "| Attempt | Initial Step Size | Estimated Objective Value                |"
            ]
          },
          "metadata": {
            "tags": []
          }
        },
        {
          "output_type": "display_data",
          "data": {
            "text/html": [
              "<pre>+---------+-------------------+------------------------------------------+</pre>"
            ],
            "text/plain": [
              "+---------+-------------------+------------------------------------------+"
            ]
          },
          "metadata": {
            "tags": []
          }
        },
        {
          "output_type": "display_data",
          "data": {
            "text/html": [
              "<pre>| 0       | 2.5               | Not Viable                               |</pre>"
            ],
            "text/plain": [
              "| 0       | 2.5               | Not Viable                               |"
            ]
          },
          "metadata": {
            "tags": []
          }
        },
        {
          "output_type": "display_data",
          "data": {
            "text/html": [
              "<pre>| 1       | 0.625             | Not Viable                               |</pre>"
            ],
            "text/plain": [
              "| 1       | 0.625             | Not Viable                               |"
            ]
          },
          "metadata": {
            "tags": []
          }
        },
        {
          "output_type": "display_data",
          "data": {
            "text/html": [
              "<pre>| 2       | 0.15625           | Not Viable                               |</pre>"
            ],
            "text/plain": [
              "| 2       | 0.15625           | Not Viable                               |"
            ]
          },
          "metadata": {
            "tags": []
          }
        },
        {
          "output_type": "display_data",
          "data": {
            "text/html": [
              "<pre>| 3       | 0.0390625         | Not Viable                               |</pre>"
            ],
            "text/plain": [
              "| 3       | 0.0390625         | Not Viable                               |"
            ]
          },
          "metadata": {
            "tags": []
          }
        },
        {
          "output_type": "display_data",
          "data": {
            "text/html": [
              "<pre>| 4       | 0.00976562        | Not Viable                               |</pre>"
            ],
            "text/plain": [
              "| 4       | 0.00976562        | Not Viable                               |"
            ]
          },
          "metadata": {
            "tags": []
          }
        },
        {
          "output_type": "display_data",
          "data": {
            "text/html": [
              "<pre>| 5       | 0.00244141        | 3.54136                                  |</pre>"
            ],
            "text/plain": [
              "| 5       | 0.00244141        | 3.54136                                  |"
            ]
          },
          "metadata": {
            "tags": []
          }
        },
        {
          "output_type": "display_data",
          "data": {
            "text/html": [
              "<pre>| 6       | 0.0012207         | 3.57937                                  |</pre>"
            ],
            "text/plain": [
              "| 6       | 0.0012207         | 3.57937                                  |"
            ]
          },
          "metadata": {
            "tags": []
          }
        },
        {
          "output_type": "display_data",
          "data": {
            "text/html": [
              "<pre>| 7       | 0.000610352       | 3.60143                                  |</pre>"
            ],
            "text/plain": [
              "| 7       | 0.000610352       | 3.60143                                  |"
            ]
          },
          "metadata": {
            "tags": []
          }
        },
        {
          "output_type": "display_data",
          "data": {
            "text/html": [
              "<pre>| 8       | 0.000305176       | 3.61623                                  |</pre>"
            ],
            "text/plain": [
              "| 8       | 0.000305176       | 3.61623                                  |"
            ]
          },
          "metadata": {
            "tags": []
          }
        },
        {
          "output_type": "display_data",
          "data": {
            "text/html": [
              "<pre>+---------+-------------------+------------------------------------------+</pre>"
            ],
            "text/plain": [
              "+---------+-------------------+------------------------------------------+"
            ]
          },
          "metadata": {
            "tags": []
          }
        },
        {
          "output_type": "display_data",
          "data": {
            "text/html": [
              "<pre>| Final   | 0.00244141        | 3.54136                                  |</pre>"
            ],
            "text/plain": [
              "| Final   | 0.00244141        | 3.54136                                  |"
            ]
          },
          "metadata": {
            "tags": []
          }
        },
        {
          "output_type": "display_data",
          "data": {
            "text/html": [
              "<pre>+---------+-------------------+------------------------------------------+</pre>"
            ],
            "text/plain": [
              "+---------+-------------------+------------------------------------------+"
            ]
          },
          "metadata": {
            "tags": []
          }
        },
        {
          "output_type": "display_data",
          "data": {
            "text/html": [
              "<pre>Starting Optimization.</pre>"
            ],
            "text/plain": [
              "Starting Optimization."
            ]
          },
          "metadata": {
            "tags": []
          }
        },
        {
          "output_type": "display_data",
          "data": {
            "text/html": [
              "<pre>+---------+--------------+-------------------+-----------------------+-------------+</pre>"
            ],
            "text/plain": [
              "+---------+--------------+-------------------+-----------------------+-------------+"
            ]
          },
          "metadata": {
            "tags": []
          }
        },
        {
          "output_type": "display_data",
          "data": {
            "text/html": [
              "<pre>| Iter.   | Elapsed Time | Approx. Objective | Approx. Training RMSE | Step Size   |</pre>"
            ],
            "text/plain": [
              "| Iter.   | Elapsed Time | Approx. Objective | Approx. Training RMSE | Step Size   |"
            ]
          },
          "metadata": {
            "tags": []
          }
        },
        {
          "output_type": "display_data",
          "data": {
            "text/html": [
              "<pre>+---------+--------------+-------------------+-----------------------+-------------+</pre>"
            ],
            "text/plain": [
              "+---------+--------------+-------------------+-----------------------+-------------+"
            ]
          },
          "metadata": {
            "tags": []
          }
        },
        {
          "output_type": "display_data",
          "data": {
            "text/html": [
              "<pre>| Initial | 128us        | 4.17274           | 1.45893               |             |</pre>"
            ],
            "text/plain": [
              "| Initial | 128us        | 4.17274           | 1.45893               |             |"
            ]
          },
          "metadata": {
            "tags": []
          }
        },
        {
          "output_type": "display_data",
          "data": {
            "text/html": [
              "<pre>+---------+--------------+-------------------+-----------------------+-------------+</pre>"
            ],
            "text/plain": [
              "+---------+--------------+-------------------+-----------------------+-------------+"
            ]
          },
          "metadata": {
            "tags": []
          }
        },
        {
          "output_type": "display_data",
          "data": {
            "text/html": [
              "<pre>| 1       | 228.717ms    | 3.66945           | 1.51708               | 0.00244141  |</pre>"
            ],
            "text/plain": [
              "| 1       | 228.717ms    | 3.66945           | 1.51708               | 0.00244141  |"
            ]
          },
          "metadata": {
            "tags": []
          }
        },
        {
          "output_type": "display_data",
          "data": {
            "text/html": [
              "<pre>| 2       | 408.565ms    | 3.56105           | 1.49334               | 0.00145167  |</pre>"
            ],
            "text/plain": [
              "| 2       | 408.565ms    | 3.56105           | 1.49334               | 0.00145167  |"
            ]
          },
          "metadata": {
            "tags": []
          }
        },
        {
          "output_type": "display_data",
          "data": {
            "text/html": [
              "<pre>| 3       | 594.646ms    | 3.51193           | 1.48074               | 0.00107102  |</pre>"
            ],
            "text/plain": [
              "| 3       | 594.646ms    | 3.51193           | 1.48074               | 0.00107102  |"
            ]
          },
          "metadata": {
            "tags": []
          }
        },
        {
          "output_type": "display_data",
          "data": {
            "text/html": [
              "<pre>| 4       | 782.72ms     | 3.48444           | 1.47511               | 0.000863167 |</pre>"
            ],
            "text/plain": [
              "| 4       | 782.72ms     | 3.48444           | 1.47511               | 0.000863167 |"
            ]
          },
          "metadata": {
            "tags": []
          }
        },
        {
          "output_type": "display_data",
          "data": {
            "text/html": [
              "<pre>| 5       | 965.691ms    | 3.46475           | 1.46871               | 0.000730151 |</pre>"
            ],
            "text/plain": [
              "| 5       | 965.691ms    | 3.46475           | 1.46871               | 0.000730151 |"
            ]
          },
          "metadata": {
            "tags": []
          }
        },
        {
          "output_type": "display_data",
          "data": {
            "text/html": [
              "<pre>| 10      | 1.89s        | 3.41285           | 1.45627               | 0.00043415  |</pre>"
            ],
            "text/plain": [
              "| 10      | 1.89s        | 3.41285           | 1.45627               | 0.00043415  |"
            ]
          },
          "metadata": {
            "tags": []
          }
        },
        {
          "output_type": "display_data",
          "data": {
            "text/html": [
              "<pre>| 25      | 4.57s        | 3.33301           | 1.43281               | 0.000218366 |</pre>"
            ],
            "text/plain": [
              "| 25      | 4.57s        | 3.33301           | 1.43281               | 0.000218366 |"
            ]
          },
          "metadata": {
            "tags": []
          }
        },
        {
          "output_type": "display_data",
          "data": {
            "text/html": [
              "<pre>+---------+--------------+-------------------+-----------------------+-------------+</pre>"
            ],
            "text/plain": [
              "+---------+--------------+-------------------+-----------------------+-------------+"
            ]
          },
          "metadata": {
            "tags": []
          }
        },
        {
          "output_type": "display_data",
          "data": {
            "text/html": [
              "<pre>Optimization Complete: Maximum number of passes through the data reached.</pre>"
            ],
            "text/plain": [
              "Optimization Complete: Maximum number of passes through the data reached."
            ]
          },
          "metadata": {
            "tags": []
          }
        },
        {
          "output_type": "display_data",
          "data": {
            "text/html": [
              "<pre>Computing final objective value and training RMSE.</pre>"
            ],
            "text/plain": [
              "Computing final objective value and training RMSE."
            ]
          },
          "metadata": {
            "tags": []
          }
        },
        {
          "output_type": "display_data",
          "data": {
            "text/html": [
              "<pre>       Final objective value: 3.32393</pre>"
            ],
            "text/plain": [
              "       Final objective value: 3.32393"
            ]
          },
          "metadata": {
            "tags": []
          }
        },
        {
          "output_type": "display_data",
          "data": {
            "text/html": [
              "<pre>       Final training RMSE: 1.41908</pre>"
            ],
            "text/plain": [
              "       Final training RMSE: 1.41908"
            ]
          },
          "metadata": {
            "tags": []
          }
        },
        {
          "output_type": "display_data",
          "data": {
            "text/html": [
              "<pre>recommendations finished on 1000/12197 queries. users per second: 812.591</pre>"
            ],
            "text/plain": [
              "recommendations finished on 1000/12197 queries. users per second: 812.591"
            ]
          },
          "metadata": {
            "tags": []
          }
        },
        {
          "output_type": "display_data",
          "data": {
            "text/html": [
              "<pre>recommendations finished on 2000/12197 queries. users per second: 813.516</pre>"
            ],
            "text/plain": [
              "recommendations finished on 2000/12197 queries. users per second: 813.516"
            ]
          },
          "metadata": {
            "tags": []
          }
        },
        {
          "output_type": "display_data",
          "data": {
            "text/html": [
              "<pre>recommendations finished on 3000/12197 queries. users per second: 815.451</pre>"
            ],
            "text/plain": [
              "recommendations finished on 3000/12197 queries. users per second: 815.451"
            ]
          },
          "metadata": {
            "tags": []
          }
        },
        {
          "output_type": "display_data",
          "data": {
            "text/html": [
              "<pre>recommendations finished on 4000/12197 queries. users per second: 816.294</pre>"
            ],
            "text/plain": [
              "recommendations finished on 4000/12197 queries. users per second: 816.294"
            ]
          },
          "metadata": {
            "tags": []
          }
        },
        {
          "output_type": "display_data",
          "data": {
            "text/html": [
              "<pre>recommendations finished on 5000/12197 queries. users per second: 816.308</pre>"
            ],
            "text/plain": [
              "recommendations finished on 5000/12197 queries. users per second: 816.308"
            ]
          },
          "metadata": {
            "tags": []
          }
        },
        {
          "output_type": "display_data",
          "data": {
            "text/html": [
              "<pre>recommendations finished on 6000/12197 queries. users per second: 817.112</pre>"
            ],
            "text/plain": [
              "recommendations finished on 6000/12197 queries. users per second: 817.112"
            ]
          },
          "metadata": {
            "tags": []
          }
        },
        {
          "output_type": "display_data",
          "data": {
            "text/html": [
              "<pre>recommendations finished on 7000/12197 queries. users per second: 817.589</pre>"
            ],
            "text/plain": [
              "recommendations finished on 7000/12197 queries. users per second: 817.589"
            ]
          },
          "metadata": {
            "tags": []
          }
        },
        {
          "output_type": "display_data",
          "data": {
            "text/html": [
              "<pre>recommendations finished on 8000/12197 queries. users per second: 816.429</pre>"
            ],
            "text/plain": [
              "recommendations finished on 8000/12197 queries. users per second: 816.429"
            ]
          },
          "metadata": {
            "tags": []
          }
        },
        {
          "output_type": "display_data",
          "data": {
            "text/html": [
              "<pre>recommendations finished on 9000/12197 queries. users per second: 816.708</pre>"
            ],
            "text/plain": [
              "recommendations finished on 9000/12197 queries. users per second: 816.708"
            ]
          },
          "metadata": {
            "tags": []
          }
        },
        {
          "output_type": "display_data",
          "data": {
            "text/html": [
              "<pre>recommendations finished on 10000/12197 queries. users per second: 816.158</pre>"
            ],
            "text/plain": [
              "recommendations finished on 10000/12197 queries. users per second: 816.158"
            ]
          },
          "metadata": {
            "tags": []
          }
        },
        {
          "output_type": "display_data",
          "data": {
            "text/html": [
              "<pre>recommendations finished on 11000/12197 queries. users per second: 816.51</pre>"
            ],
            "text/plain": [
              "recommendations finished on 11000/12197 queries. users per second: 816.51"
            ]
          },
          "metadata": {
            "tags": []
          }
        },
        {
          "output_type": "display_data",
          "data": {
            "text/html": [
              "<pre>recommendations finished on 12000/12197 queries. users per second: 816.756</pre>"
            ],
            "text/plain": [
              "recommendations finished on 12000/12197 queries. users per second: 816.756"
            ]
          },
          "metadata": {
            "tags": []
          }
        },
        {
          "output_type": "display_data",
          "data": {
            "text/html": [
              "<pre>Preparing data set.</pre>"
            ],
            "text/plain": [
              "Preparing data set."
            ]
          },
          "metadata": {
            "tags": []
          }
        },
        {
          "output_type": "display_data",
          "data": {
            "text/html": [
              "<pre>    Data has 34536 observations with 18288 users and 4783 items.</pre>"
            ],
            "text/plain": [
              "    Data has 34536 observations with 18288 users and 4783 items."
            ]
          },
          "metadata": {
            "tags": []
          }
        },
        {
          "output_type": "display_data",
          "data": {
            "text/html": [
              "<pre>    Data prepared in: 0.18314s</pre>"
            ],
            "text/plain": [
              "    Data prepared in: 0.18314s"
            ]
          },
          "metadata": {
            "tags": []
          }
        },
        {
          "output_type": "display_data",
          "data": {
            "text/html": [
              "<pre>Training ranking_factorization_recommender for recommendations.</pre>"
            ],
            "text/plain": [
              "Training ranking_factorization_recommender for recommendations."
            ]
          },
          "metadata": {
            "tags": []
          }
        },
        {
          "output_type": "display_data",
          "data": {
            "text/html": [
              "<pre>+--------------------------------+--------------------------------------------------+----------+</pre>"
            ],
            "text/plain": [
              "+--------------------------------+--------------------------------------------------+----------+"
            ]
          },
          "metadata": {
            "tags": []
          }
        },
        {
          "output_type": "display_data",
          "data": {
            "text/html": [
              "<pre>| Parameter                      | Description                                      | Value    |</pre>"
            ],
            "text/plain": [
              "| Parameter                      | Description                                      | Value    |"
            ]
          },
          "metadata": {
            "tags": []
          }
        },
        {
          "output_type": "display_data",
          "data": {
            "text/html": [
              "<pre>+--------------------------------+--------------------------------------------------+----------+</pre>"
            ],
            "text/plain": [
              "+--------------------------------+--------------------------------------------------+----------+"
            ]
          },
          "metadata": {
            "tags": []
          }
        },
        {
          "output_type": "display_data",
          "data": {
            "text/html": [
              "<pre>| num_factors                    | Factor Dimension                                 | 32       |</pre>"
            ],
            "text/plain": [
              "| num_factors                    | Factor Dimension                                 | 32       |"
            ]
          },
          "metadata": {
            "tags": []
          }
        },
        {
          "output_type": "display_data",
          "data": {
            "text/html": [
              "<pre>| regularization                 | L2 Regularization on Factors                     | 1e-09    |</pre>"
            ],
            "text/plain": [
              "| regularization                 | L2 Regularization on Factors                     | 1e-09    |"
            ]
          },
          "metadata": {
            "tags": []
          }
        },
        {
          "output_type": "display_data",
          "data": {
            "text/html": [
              "<pre>| solver                         | Solver used for training                         | sgd      |</pre>"
            ],
            "text/plain": [
              "| solver                         | Solver used for training                         | sgd      |"
            ]
          },
          "metadata": {
            "tags": []
          }
        },
        {
          "output_type": "display_data",
          "data": {
            "text/html": [
              "<pre>| linear_regularization          | L2 Regularization on Linear Coefficients         | 1e-09    |</pre>"
            ],
            "text/plain": [
              "| linear_regularization          | L2 Regularization on Linear Coefficients         | 1e-09    |"
            ]
          },
          "metadata": {
            "tags": []
          }
        },
        {
          "output_type": "display_data",
          "data": {
            "text/html": [
              "<pre>| ranking_regularization         | Rank-based Regularization Weight                 | 0.25     |</pre>"
            ],
            "text/plain": [
              "| ranking_regularization         | Rank-based Regularization Weight                 | 0.25     |"
            ]
          },
          "metadata": {
            "tags": []
          }
        },
        {
          "output_type": "display_data",
          "data": {
            "text/html": [
              "<pre>| side_data_factorization        | Assign Factors for Side Data                     | True     |</pre>"
            ],
            "text/plain": [
              "| side_data_factorization        | Assign Factors for Side Data                     | True     |"
            ]
          },
          "metadata": {
            "tags": []
          }
        },
        {
          "output_type": "display_data",
          "data": {
            "text/html": [
              "<pre>| max_iterations                 | Maximum Number of Iterations                     | 25       |</pre>"
            ],
            "text/plain": [
              "| max_iterations                 | Maximum Number of Iterations                     | 25       |"
            ]
          },
          "metadata": {
            "tags": []
          }
        },
        {
          "output_type": "display_data",
          "data": {
            "text/html": [
              "<pre>+--------------------------------+--------------------------------------------------+----------+</pre>"
            ],
            "text/plain": [
              "+--------------------------------+--------------------------------------------------+----------+"
            ]
          },
          "metadata": {
            "tags": []
          }
        },
        {
          "output_type": "display_data",
          "data": {
            "text/html": [
              "<pre>  Optimizing model using SGD; tuning step size.</pre>"
            ],
            "text/plain": [
              "  Optimizing model using SGD; tuning step size."
            ]
          },
          "metadata": {
            "tags": []
          }
        },
        {
          "output_type": "display_data",
          "data": {
            "text/html": [
              "<pre>  Using 10000 / 34536 points for tuning the step size.</pre>"
            ],
            "text/plain": [
              "  Using 10000 / 34536 points for tuning the step size."
            ]
          },
          "metadata": {
            "tags": []
          }
        },
        {
          "output_type": "display_data",
          "data": {
            "text/html": [
              "<pre>+---------+-------------------+------------------------------------------+</pre>"
            ],
            "text/plain": [
              "+---------+-------------------+------------------------------------------+"
            ]
          },
          "metadata": {
            "tags": []
          }
        },
        {
          "output_type": "display_data",
          "data": {
            "text/html": [
              "<pre>| Attempt | Initial Step Size | Estimated Objective Value                |</pre>"
            ],
            "text/plain": [
              "| Attempt | Initial Step Size | Estimated Objective Value                |"
            ]
          },
          "metadata": {
            "tags": []
          }
        },
        {
          "output_type": "display_data",
          "data": {
            "text/html": [
              "<pre>+---------+-------------------+------------------------------------------+</pre>"
            ],
            "text/plain": [
              "+---------+-------------------+------------------------------------------+"
            ]
          },
          "metadata": {
            "tags": []
          }
        },
        {
          "output_type": "display_data",
          "data": {
            "text/html": [
              "<pre>| 0       | 2.5               | Not Viable                               |</pre>"
            ],
            "text/plain": [
              "| 0       | 2.5               | Not Viable                               |"
            ]
          },
          "metadata": {
            "tags": []
          }
        },
        {
          "output_type": "display_data",
          "data": {
            "text/html": [
              "<pre>| 1       | 0.625             | Not Viable                               |</pre>"
            ],
            "text/plain": [
              "| 1       | 0.625             | Not Viable                               |"
            ]
          },
          "metadata": {
            "tags": []
          }
        },
        {
          "output_type": "display_data",
          "data": {
            "text/html": [
              "<pre>| 2       | 0.15625           | Not Viable                               |</pre>"
            ],
            "text/plain": [
              "| 2       | 0.15625           | Not Viable                               |"
            ]
          },
          "metadata": {
            "tags": []
          }
        },
        {
          "output_type": "display_data",
          "data": {
            "text/html": [
              "<pre>| 3       | 0.0390625         | Not Viable                               |</pre>"
            ],
            "text/plain": [
              "| 3       | 0.0390625         | Not Viable                               |"
            ]
          },
          "metadata": {
            "tags": []
          }
        },
        {
          "output_type": "display_data",
          "data": {
            "text/html": [
              "<pre>| 4       | 0.00976562        | Not Viable                               |</pre>"
            ],
            "text/plain": [
              "| 4       | 0.00976562        | Not Viable                               |"
            ]
          },
          "metadata": {
            "tags": []
          }
        },
        {
          "output_type": "display_data",
          "data": {
            "text/html": [
              "<pre>| 5       | 0.00244141        | 3.52676                                  |</pre>"
            ],
            "text/plain": [
              "| 5       | 0.00244141        | 3.52676                                  |"
            ]
          },
          "metadata": {
            "tags": []
          }
        },
        {
          "output_type": "display_data",
          "data": {
            "text/html": [
              "<pre>| 6       | 0.0012207         | 3.56713                                  |</pre>"
            ],
            "text/plain": [
              "| 6       | 0.0012207         | 3.56713                                  |"
            ]
          },
          "metadata": {
            "tags": []
          }
        },
        {
          "output_type": "display_data",
          "data": {
            "text/html": [
              "<pre>| 7       | 0.000610352       | 3.59907                                  |</pre>"
            ],
            "text/plain": [
              "| 7       | 0.000610352       | 3.59907                                  |"
            ]
          },
          "metadata": {
            "tags": []
          }
        },
        {
          "output_type": "display_data",
          "data": {
            "text/html": [
              "<pre>| 8       | 0.000305176       | 3.60552                                  |</pre>"
            ],
            "text/plain": [
              "| 8       | 0.000305176       | 3.60552                                  |"
            ]
          },
          "metadata": {
            "tags": []
          }
        },
        {
          "output_type": "display_data",
          "data": {
            "text/html": [
              "<pre>+---------+-------------------+------------------------------------------+</pre>"
            ],
            "text/plain": [
              "+---------+-------------------+------------------------------------------+"
            ]
          },
          "metadata": {
            "tags": []
          }
        },
        {
          "output_type": "display_data",
          "data": {
            "text/html": [
              "<pre>| Final   | 0.00244141        | 3.52676                                  |</pre>"
            ],
            "text/plain": [
              "| Final   | 0.00244141        | 3.52676                                  |"
            ]
          },
          "metadata": {
            "tags": []
          }
        },
        {
          "output_type": "display_data",
          "data": {
            "text/html": [
              "<pre>+---------+-------------------+------------------------------------------+</pre>"
            ],
            "text/plain": [
              "+---------+-------------------+------------------------------------------+"
            ]
          },
          "metadata": {
            "tags": []
          }
        },
        {
          "output_type": "display_data",
          "data": {
            "text/html": [
              "<pre>Starting Optimization.</pre>"
            ],
            "text/plain": [
              "Starting Optimization."
            ]
          },
          "metadata": {
            "tags": []
          }
        },
        {
          "output_type": "display_data",
          "data": {
            "text/html": [
              "<pre>+---------+--------------+-------------------+-----------------------+-------------+</pre>"
            ],
            "text/plain": [
              "+---------+--------------+-------------------+-----------------------+-------------+"
            ]
          },
          "metadata": {
            "tags": []
          }
        },
        {
          "output_type": "display_data",
          "data": {
            "text/html": [
              "<pre>| Iter.   | Elapsed Time | Approx. Objective | Approx. Training RMSE | Step Size   |</pre>"
            ],
            "text/plain": [
              "| Iter.   | Elapsed Time | Approx. Objective | Approx. Training RMSE | Step Size   |"
            ]
          },
          "metadata": {
            "tags": []
          }
        },
        {
          "output_type": "display_data",
          "data": {
            "text/html": [
              "<pre>+---------+--------------+-------------------+-----------------------+-------------+</pre>"
            ],
            "text/plain": [
              "+---------+--------------+-------------------+-----------------------+-------------+"
            ]
          },
          "metadata": {
            "tags": []
          }
        },
        {
          "output_type": "display_data",
          "data": {
            "text/html": [
              "<pre>| Initial | 119us        | 4.18686           | 1.46135               |             |</pre>"
            ],
            "text/plain": [
              "| Initial | 119us        | 4.18686           | 1.46135               |             |"
            ]
          },
          "metadata": {
            "tags": []
          }
        },
        {
          "output_type": "display_data",
          "data": {
            "text/html": [
              "<pre>+---------+--------------+-------------------+-----------------------+-------------+</pre>"
            ],
            "text/plain": [
              "+---------+--------------+-------------------+-----------------------+-------------+"
            ]
          },
          "metadata": {
            "tags": []
          }
        },
        {
          "output_type": "display_data",
          "data": {
            "text/html": [
              "<pre>| 1       | 321.514ms    | 3.73585           | 1.54214               | 0.00244141  |</pre>"
            ],
            "text/plain": [
              "| 1       | 321.514ms    | 3.73585           | 1.54214               | 0.00244141  |"
            ]
          },
          "metadata": {
            "tags": []
          }
        },
        {
          "output_type": "display_data",
          "data": {
            "text/html": [
              "<pre>| 2       | 604.042ms    | 3.63094           | 1.52142               | 0.00145167  |</pre>"
            ],
            "text/plain": [
              "| 2       | 604.042ms    | 3.63094           | 1.52142               | 0.00145167  |"
            ]
          },
          "metadata": {
            "tags": []
          }
        },
        {
          "output_type": "display_data",
          "data": {
            "text/html": [
              "<pre>| 3       | 891.526ms    | 3.58447           | 1.50772               | 0.00107102  |</pre>"
            ],
            "text/plain": [
              "| 3       | 891.526ms    | 3.58447           | 1.50772               | 0.00107102  |"
            ]
          },
          "metadata": {
            "tags": []
          }
        },
        {
          "output_type": "display_data",
          "data": {
            "text/html": [
              "<pre>| 4       | 1.17s        | 3.56162           | 1.50457               | 0.000863167 |</pre>"
            ],
            "text/plain": [
              "| 4       | 1.17s        | 3.56162           | 1.50457               | 0.000863167 |"
            ]
          },
          "metadata": {
            "tags": []
          }
        },
        {
          "output_type": "display_data",
          "data": {
            "text/html": [
              "<pre>| 5       | 1.45s        | 3.53708           | 1.49763               | 0.000730151 |</pre>"
            ],
            "text/plain": [
              "| 5       | 1.45s        | 3.53708           | 1.49763               | 0.000730151 |"
            ]
          },
          "metadata": {
            "tags": []
          }
        },
        {
          "output_type": "display_data",
          "data": {
            "text/html": [
              "<pre>| 10      | 2.85s        | 3.4824            | 1.48402               | 0.000365075 |</pre>"
            ],
            "text/plain": [
              "| 10      | 2.85s        | 3.4824            | 1.48402               | 0.000365075 |"
            ]
          },
          "metadata": {
            "tags": []
          }
        },
        {
          "output_type": "display_data",
          "data": {
            "text/html": [
              "<pre>| 25      | 7.03s        | 3.53607           | 1.49729               | 1.2207e-06  |</pre>"
            ],
            "text/plain": [
              "| 25      | 7.03s        | 3.53607           | 1.49729               | 1.2207e-06  |"
            ]
          },
          "metadata": {
            "tags": []
          }
        },
        {
          "output_type": "display_data",
          "data": {
            "text/html": [
              "<pre>+---------+--------------+-------------------+-----------------------+-------------+</pre>"
            ],
            "text/plain": [
              "+---------+--------------+-------------------+-----------------------+-------------+"
            ]
          },
          "metadata": {
            "tags": []
          }
        },
        {
          "output_type": "display_data",
          "data": {
            "text/html": [
              "<pre>Optimization Complete: Maximum number of passes through the data reached.</pre>"
            ],
            "text/plain": [
              "Optimization Complete: Maximum number of passes through the data reached."
            ]
          },
          "metadata": {
            "tags": []
          }
        },
        {
          "output_type": "display_data",
          "data": {
            "text/html": [
              "<pre>Computing final objective value and training RMSE.</pre>"
            ],
            "text/plain": [
              "Computing final objective value and training RMSE."
            ]
          },
          "metadata": {
            "tags": []
          }
        },
        {
          "output_type": "display_data",
          "data": {
            "text/html": [
              "<pre>       Final objective value: 3.53666</pre>"
            ],
            "text/plain": [
              "       Final objective value: 3.53666"
            ]
          },
          "metadata": {
            "tags": []
          }
        },
        {
          "output_type": "display_data",
          "data": {
            "text/html": [
              "<pre>       Final training RMSE: 1.49695</pre>"
            ],
            "text/plain": [
              "       Final training RMSE: 1.49695"
            ]
          },
          "metadata": {
            "tags": []
          }
        },
        {
          "output_type": "display_data",
          "data": {
            "text/html": [
              "<pre>recommendations finished on 1000/18288 queries. users per second: 668.339</pre>"
            ],
            "text/plain": [
              "recommendations finished on 1000/18288 queries. users per second: 668.339"
            ]
          },
          "metadata": {
            "tags": []
          }
        },
        {
          "output_type": "display_data",
          "data": {
            "text/html": [
              "<pre>recommendations finished on 2000/18288 queries. users per second: 666.873</pre>"
            ],
            "text/plain": [
              "recommendations finished on 2000/18288 queries. users per second: 666.873"
            ]
          },
          "metadata": {
            "tags": []
          }
        },
        {
          "output_type": "display_data",
          "data": {
            "text/html": [
              "<pre>recommendations finished on 3000/18288 queries. users per second: 668.7</pre>"
            ],
            "text/plain": [
              "recommendations finished on 3000/18288 queries. users per second: 668.7"
            ]
          },
          "metadata": {
            "tags": []
          }
        },
        {
          "output_type": "display_data",
          "data": {
            "text/html": [
              "<pre>recommendations finished on 4000/18288 queries. users per second: 667.784</pre>"
            ],
            "text/plain": [
              "recommendations finished on 4000/18288 queries. users per second: 667.784"
            ]
          },
          "metadata": {
            "tags": []
          }
        },
        {
          "output_type": "display_data",
          "data": {
            "text/html": [
              "<pre>recommendations finished on 5000/18288 queries. users per second: 668.74</pre>"
            ],
            "text/plain": [
              "recommendations finished on 5000/18288 queries. users per second: 668.74"
            ]
          },
          "metadata": {
            "tags": []
          }
        },
        {
          "output_type": "display_data",
          "data": {
            "text/html": [
              "<pre>recommendations finished on 6000/18288 queries. users per second: 668.283</pre>"
            ],
            "text/plain": [
              "recommendations finished on 6000/18288 queries. users per second: 668.283"
            ]
          },
          "metadata": {
            "tags": []
          }
        },
        {
          "output_type": "display_data",
          "data": {
            "text/html": [
              "<pre>recommendations finished on 7000/18288 queries. users per second: 668.898</pre>"
            ],
            "text/plain": [
              "recommendations finished on 7000/18288 queries. users per second: 668.898"
            ]
          },
          "metadata": {
            "tags": []
          }
        },
        {
          "output_type": "display_data",
          "data": {
            "text/html": [
              "<pre>recommendations finished on 8000/18288 queries. users per second: 667.981</pre>"
            ],
            "text/plain": [
              "recommendations finished on 8000/18288 queries. users per second: 667.981"
            ]
          },
          "metadata": {
            "tags": []
          }
        },
        {
          "output_type": "display_data",
          "data": {
            "text/html": [
              "<pre>recommendations finished on 9000/18288 queries. users per second: 667.998</pre>"
            ],
            "text/plain": [
              "recommendations finished on 9000/18288 queries. users per second: 667.998"
            ]
          },
          "metadata": {
            "tags": []
          }
        },
        {
          "output_type": "display_data",
          "data": {
            "text/html": [
              "<pre>recommendations finished on 10000/18288 queries. users per second: 667.694</pre>"
            ],
            "text/plain": [
              "recommendations finished on 10000/18288 queries. users per second: 667.694"
            ]
          },
          "metadata": {
            "tags": []
          }
        },
        {
          "output_type": "display_data",
          "data": {
            "text/html": [
              "<pre>recommendations finished on 11000/18288 queries. users per second: 668.039</pre>"
            ],
            "text/plain": [
              "recommendations finished on 11000/18288 queries. users per second: 668.039"
            ]
          },
          "metadata": {
            "tags": []
          }
        },
        {
          "output_type": "display_data",
          "data": {
            "text/html": [
              "<pre>recommendations finished on 12000/18288 queries. users per second: 667.615</pre>"
            ],
            "text/plain": [
              "recommendations finished on 12000/18288 queries. users per second: 667.615"
            ]
          },
          "metadata": {
            "tags": []
          }
        },
        {
          "output_type": "display_data",
          "data": {
            "text/html": [
              "<pre>recommendations finished on 13000/18288 queries. users per second: 667.414</pre>"
            ],
            "text/plain": [
              "recommendations finished on 13000/18288 queries. users per second: 667.414"
            ]
          },
          "metadata": {
            "tags": []
          }
        },
        {
          "output_type": "display_data",
          "data": {
            "text/html": [
              "<pre>recommendations finished on 14000/18288 queries. users per second: 667.333</pre>"
            ],
            "text/plain": [
              "recommendations finished on 14000/18288 queries. users per second: 667.333"
            ]
          },
          "metadata": {
            "tags": []
          }
        },
        {
          "output_type": "display_data",
          "data": {
            "text/html": [
              "<pre>recommendations finished on 15000/18288 queries. users per second: 667.516</pre>"
            ],
            "text/plain": [
              "recommendations finished on 15000/18288 queries. users per second: 667.516"
            ]
          },
          "metadata": {
            "tags": []
          }
        },
        {
          "output_type": "display_data",
          "data": {
            "text/html": [
              "<pre>recommendations finished on 16000/18288 queries. users per second: 667.744</pre>"
            ],
            "text/plain": [
              "recommendations finished on 16000/18288 queries. users per second: 667.744"
            ]
          },
          "metadata": {
            "tags": []
          }
        },
        {
          "output_type": "display_data",
          "data": {
            "text/html": [
              "<pre>recommendations finished on 17000/18288 queries. users per second: 667.694</pre>"
            ],
            "text/plain": [
              "recommendations finished on 17000/18288 queries. users per second: 667.694"
            ]
          },
          "metadata": {
            "tags": []
          }
        },
        {
          "output_type": "display_data",
          "data": {
            "text/html": [
              "<pre>recommendations finished on 18000/18288 queries. users per second: 667.62</pre>"
            ],
            "text/plain": [
              "recommendations finished on 18000/18288 queries. users per second: 667.62"
            ]
          },
          "metadata": {
            "tags": []
          }
        },
        {
          "output_type": "display_data",
          "data": {
            "text/html": [
              "<pre>Preparing data set.</pre>"
            ],
            "text/plain": [
              "Preparing data set."
            ]
          },
          "metadata": {
            "tags": []
          }
        },
        {
          "output_type": "display_data",
          "data": {
            "text/html": [
              "<pre>    Data has 22079 observations with 11871 users and 4113 items.</pre>"
            ],
            "text/plain": [
              "    Data has 22079 observations with 11871 users and 4113 items."
            ]
          },
          "metadata": {
            "tags": []
          }
        },
        {
          "output_type": "display_data",
          "data": {
            "text/html": [
              "<pre>    Data prepared in: 0.130173s</pre>"
            ],
            "text/plain": [
              "    Data prepared in: 0.130173s"
            ]
          },
          "metadata": {
            "tags": []
          }
        },
        {
          "output_type": "display_data",
          "data": {
            "text/html": [
              "<pre>Training ranking_factorization_recommender for recommendations.</pre>"
            ],
            "text/plain": [
              "Training ranking_factorization_recommender for recommendations."
            ]
          },
          "metadata": {
            "tags": []
          }
        },
        {
          "output_type": "display_data",
          "data": {
            "text/html": [
              "<pre>+--------------------------------+--------------------------------------------------+----------+</pre>"
            ],
            "text/plain": [
              "+--------------------------------+--------------------------------------------------+----------+"
            ]
          },
          "metadata": {
            "tags": []
          }
        },
        {
          "output_type": "display_data",
          "data": {
            "text/html": [
              "<pre>| Parameter                      | Description                                      | Value    |</pre>"
            ],
            "text/plain": [
              "| Parameter                      | Description                                      | Value    |"
            ]
          },
          "metadata": {
            "tags": []
          }
        },
        {
          "output_type": "display_data",
          "data": {
            "text/html": [
              "<pre>+--------------------------------+--------------------------------------------------+----------+</pre>"
            ],
            "text/plain": [
              "+--------------------------------+--------------------------------------------------+----------+"
            ]
          },
          "metadata": {
            "tags": []
          }
        },
        {
          "output_type": "display_data",
          "data": {
            "text/html": [
              "<pre>| num_factors                    | Factor Dimension                                 | 32       |</pre>"
            ],
            "text/plain": [
              "| num_factors                    | Factor Dimension                                 | 32       |"
            ]
          },
          "metadata": {
            "tags": []
          }
        },
        {
          "output_type": "display_data",
          "data": {
            "text/html": [
              "<pre>| regularization                 | L2 Regularization on Factors                     | 1e-09    |</pre>"
            ],
            "text/plain": [
              "| regularization                 | L2 Regularization on Factors                     | 1e-09    |"
            ]
          },
          "metadata": {
            "tags": []
          }
        },
        {
          "output_type": "display_data",
          "data": {
            "text/html": [
              "<pre>| solver                         | Solver used for training                         | sgd      |</pre>"
            ],
            "text/plain": [
              "| solver                         | Solver used for training                         | sgd      |"
            ]
          },
          "metadata": {
            "tags": []
          }
        },
        {
          "output_type": "display_data",
          "data": {
            "text/html": [
              "<pre>| linear_regularization          | L2 Regularization on Linear Coefficients         | 1e-09    |</pre>"
            ],
            "text/plain": [
              "| linear_regularization          | L2 Regularization on Linear Coefficients         | 1e-09    |"
            ]
          },
          "metadata": {
            "tags": []
          }
        },
        {
          "output_type": "display_data",
          "data": {
            "text/html": [
              "<pre>| ranking_regularization         | Rank-based Regularization Weight                 | 0.25     |</pre>"
            ],
            "text/plain": [
              "| ranking_regularization         | Rank-based Regularization Weight                 | 0.25     |"
            ]
          },
          "metadata": {
            "tags": []
          }
        },
        {
          "output_type": "display_data",
          "data": {
            "text/html": [
              "<pre>| side_data_factorization        | Assign Factors for Side Data                     | True     |</pre>"
            ],
            "text/plain": [
              "| side_data_factorization        | Assign Factors for Side Data                     | True     |"
            ]
          },
          "metadata": {
            "tags": []
          }
        },
        {
          "output_type": "display_data",
          "data": {
            "text/html": [
              "<pre>| max_iterations                 | Maximum Number of Iterations                     | 25       |</pre>"
            ],
            "text/plain": [
              "| max_iterations                 | Maximum Number of Iterations                     | 25       |"
            ]
          },
          "metadata": {
            "tags": []
          }
        },
        {
          "output_type": "display_data",
          "data": {
            "text/html": [
              "<pre>+--------------------------------+--------------------------------------------------+----------+</pre>"
            ],
            "text/plain": [
              "+--------------------------------+--------------------------------------------------+----------+"
            ]
          },
          "metadata": {
            "tags": []
          }
        },
        {
          "output_type": "display_data",
          "data": {
            "text/html": [
              "<pre>  Optimizing model using SGD; tuning step size.</pre>"
            ],
            "text/plain": [
              "  Optimizing model using SGD; tuning step size."
            ]
          },
          "metadata": {
            "tags": []
          }
        },
        {
          "output_type": "display_data",
          "data": {
            "text/html": [
              "<pre>  Using 10000 / 22079 points for tuning the step size.</pre>"
            ],
            "text/plain": [
              "  Using 10000 / 22079 points for tuning the step size."
            ]
          },
          "metadata": {
            "tags": []
          }
        },
        {
          "output_type": "display_data",
          "data": {
            "text/html": [
              "<pre>+---------+-------------------+------------------------------------------+</pre>"
            ],
            "text/plain": [
              "+---------+-------------------+------------------------------------------+"
            ]
          },
          "metadata": {
            "tags": []
          }
        },
        {
          "output_type": "display_data",
          "data": {
            "text/html": [
              "<pre>| Attempt | Initial Step Size | Estimated Objective Value                |</pre>"
            ],
            "text/plain": [
              "| Attempt | Initial Step Size | Estimated Objective Value                |"
            ]
          },
          "metadata": {
            "tags": []
          }
        },
        {
          "output_type": "display_data",
          "data": {
            "text/html": [
              "<pre>+---------+-------------------+------------------------------------------+</pre>"
            ],
            "text/plain": [
              "+---------+-------------------+------------------------------------------+"
            ]
          },
          "metadata": {
            "tags": []
          }
        },
        {
          "output_type": "display_data",
          "data": {
            "text/html": [
              "<pre>| 0       | 2.5               | Not Viable                               |</pre>"
            ],
            "text/plain": [
              "| 0       | 2.5               | Not Viable                               |"
            ]
          },
          "metadata": {
            "tags": []
          }
        },
        {
          "output_type": "display_data",
          "data": {
            "text/html": [
              "<pre>| 1       | 0.625             | Not Viable                               |</pre>"
            ],
            "text/plain": [
              "| 1       | 0.625             | Not Viable                               |"
            ]
          },
          "metadata": {
            "tags": []
          }
        },
        {
          "output_type": "display_data",
          "data": {
            "text/html": [
              "<pre>| 2       | 0.15625           | Not Viable                               |</pre>"
            ],
            "text/plain": [
              "| 2       | 0.15625           | Not Viable                               |"
            ]
          },
          "metadata": {
            "tags": []
          }
        },
        {
          "output_type": "display_data",
          "data": {
            "text/html": [
              "<pre>| 3       | 0.0390625         | Not Viable                               |</pre>"
            ],
            "text/plain": [
              "| 3       | 0.0390625         | Not Viable                               |"
            ]
          },
          "metadata": {
            "tags": []
          }
        },
        {
          "output_type": "display_data",
          "data": {
            "text/html": [
              "<pre>| 4       | 0.00976562        | Not Viable                               |</pre>"
            ],
            "text/plain": [
              "| 4       | 0.00976562        | Not Viable                               |"
            ]
          },
          "metadata": {
            "tags": []
          }
        },
        {
          "output_type": "display_data",
          "data": {
            "text/html": [
              "<pre>| 5       | 0.00244141        | 3.34395                                  |</pre>"
            ],
            "text/plain": [
              "| 5       | 0.00244141        | 3.34395                                  |"
            ]
          },
          "metadata": {
            "tags": []
          }
        },
        {
          "output_type": "display_data",
          "data": {
            "text/html": [
              "<pre>| 6       | 0.0012207         | 3.40288                                  |</pre>"
            ],
            "text/plain": [
              "| 6       | 0.0012207         | 3.40288                                  |"
            ]
          },
          "metadata": {
            "tags": []
          }
        },
        {
          "output_type": "display_data",
          "data": {
            "text/html": [
              "<pre>| 7       | 0.000610352       | 3.41165                                  |</pre>"
            ],
            "text/plain": [
              "| 7       | 0.000610352       | 3.41165                                  |"
            ]
          },
          "metadata": {
            "tags": []
          }
        },
        {
          "output_type": "display_data",
          "data": {
            "text/html": [
              "<pre>| 8       | 0.000305176       | 3.42803                                  |</pre>"
            ],
            "text/plain": [
              "| 8       | 0.000305176       | 3.42803                                  |"
            ]
          },
          "metadata": {
            "tags": []
          }
        },
        {
          "output_type": "display_data",
          "data": {
            "text/html": [
              "<pre>+---------+-------------------+------------------------------------------+</pre>"
            ],
            "text/plain": [
              "+---------+-------------------+------------------------------------------+"
            ]
          },
          "metadata": {
            "tags": []
          }
        },
        {
          "output_type": "display_data",
          "data": {
            "text/html": [
              "<pre>| Final   | 0.00244141        | 3.34395                                  |</pre>"
            ],
            "text/plain": [
              "| Final   | 0.00244141        | 3.34395                                  |"
            ]
          },
          "metadata": {
            "tags": []
          }
        },
        {
          "output_type": "display_data",
          "data": {
            "text/html": [
              "<pre>+---------+-------------------+------------------------------------------+</pre>"
            ],
            "text/plain": [
              "+---------+-------------------+------------------------------------------+"
            ]
          },
          "metadata": {
            "tags": []
          }
        },
        {
          "output_type": "display_data",
          "data": {
            "text/html": [
              "<pre>Starting Optimization.</pre>"
            ],
            "text/plain": [
              "Starting Optimization."
            ]
          },
          "metadata": {
            "tags": []
          }
        },
        {
          "output_type": "display_data",
          "data": {
            "text/html": [
              "<pre>+---------+--------------+-------------------+-----------------------+-------------+</pre>"
            ],
            "text/plain": [
              "+---------+--------------+-------------------+-----------------------+-------------+"
            ]
          },
          "metadata": {
            "tags": []
          }
        },
        {
          "output_type": "display_data",
          "data": {
            "text/html": [
              "<pre>| Iter.   | Elapsed Time | Approx. Objective | Approx. Training RMSE | Step Size   |</pre>"
            ],
            "text/plain": [
              "| Iter.   | Elapsed Time | Approx. Objective | Approx. Training RMSE | Step Size   |"
            ]
          },
          "metadata": {
            "tags": []
          }
        },
        {
          "output_type": "display_data",
          "data": {
            "text/html": [
              "<pre>+---------+--------------+-------------------+-----------------------+-------------+</pre>"
            ],
            "text/plain": [
              "+---------+--------------+-------------------+-----------------------+-------------+"
            ]
          },
          "metadata": {
            "tags": []
          }
        },
        {
          "output_type": "display_data",
          "data": {
            "text/html": [
              "<pre>| Initial | 131us        | 4.00006           | 1.42836               |             |</pre>"
            ],
            "text/plain": [
              "| Initial | 131us        | 4.00006           | 1.42836               |             |"
            ]
          },
          "metadata": {
            "tags": []
          }
        },
        {
          "output_type": "display_data",
          "data": {
            "text/html": [
              "<pre>+---------+--------------+-------------------+-----------------------+-------------+</pre>"
            ],
            "text/plain": [
              "+---------+--------------+-------------------+-----------------------+-------------+"
            ]
          },
          "metadata": {
            "tags": []
          }
        },
        {
          "output_type": "display_data",
          "data": {
            "text/html": [
              "<pre>| 1       | 221.802ms    | 3.58594           | 1.51185               | 0.00244141  |</pre>"
            ],
            "text/plain": [
              "| 1       | 221.802ms    | 3.58594           | 1.51185               | 0.00244141  |"
            ]
          },
          "metadata": {
            "tags": []
          }
        },
        {
          "output_type": "display_data",
          "data": {
            "text/html": [
              "<pre>| 2       | 426.259ms    | 3.48383           | 1.48817               | 0.00145167  |</pre>"
            ],
            "text/plain": [
              "| 2       | 426.259ms    | 3.48383           | 1.48817               | 0.00145167  |"
            ]
          },
          "metadata": {
            "tags": []
          }
        },
        {
          "output_type": "display_data",
          "data": {
            "text/html": [
              "<pre>| 3       | 610.938ms    | 3.43821           | 1.4774                | 0.00107102  |</pre>"
            ],
            "text/plain": [
              "| 3       | 610.938ms    | 3.43821           | 1.4774                | 0.00107102  |"
            ]
          },
          "metadata": {
            "tags": []
          }
        },
        {
          "output_type": "display_data",
          "data": {
            "text/html": [
              "<pre>| 4       | 804.221ms    | 3.41268           | 1.47086               | 0.000863167 |</pre>"
            ],
            "text/plain": [
              "| 4       | 804.221ms    | 3.41268           | 1.47086               | 0.000863167 |"
            ]
          },
          "metadata": {
            "tags": []
          }
        },
        {
          "output_type": "display_data",
          "data": {
            "text/html": [
              "<pre>| 5       | 991.555ms    | 3.39179           | 1.46451               | 0.000730151 |</pre>"
            ],
            "text/plain": [
              "| 5       | 991.555ms    | 3.39179           | 1.46451               | 0.000730151 |"
            ]
          },
          "metadata": {
            "tags": []
          }
        },
        {
          "output_type": "display_data",
          "data": {
            "text/html": [
              "<pre>| 10      | 1.92s        | 3.3392            | 1.45126               | 0.00043415  |</pre>"
            ],
            "text/plain": [
              "| 10      | 1.92s        | 3.3392            | 1.45126               | 0.00043415  |"
            ]
          },
          "metadata": {
            "tags": []
          }
        },
        {
          "output_type": "display_data",
          "data": {
            "text/html": [
              "<pre>| 25      | 4.65s        | 3.26548           | 1.42787               | 0.000218366 |</pre>"
            ],
            "text/plain": [
              "| 25      | 4.65s        | 3.26548           | 1.42787               | 0.000218366 |"
            ]
          },
          "metadata": {
            "tags": []
          }
        },
        {
          "output_type": "display_data",
          "data": {
            "text/html": [
              "<pre>+---------+--------------+-------------------+-----------------------+-------------+</pre>"
            ],
            "text/plain": [
              "+---------+--------------+-------------------+-----------------------+-------------+"
            ]
          },
          "metadata": {
            "tags": []
          }
        },
        {
          "output_type": "display_data",
          "data": {
            "text/html": [
              "<pre>Optimization Complete: Maximum number of passes through the data reached.</pre>"
            ],
            "text/plain": [
              "Optimization Complete: Maximum number of passes through the data reached."
            ]
          },
          "metadata": {
            "tags": []
          }
        },
        {
          "output_type": "display_data",
          "data": {
            "text/html": [
              "<pre>Computing final objective value and training RMSE.</pre>"
            ],
            "text/plain": [
              "Computing final objective value and training RMSE."
            ]
          },
          "metadata": {
            "tags": []
          }
        },
        {
          "output_type": "display_data",
          "data": {
            "text/html": [
              "<pre>       Final objective value: 3.25523</pre>"
            ],
            "text/plain": [
              "       Final objective value: 3.25523"
            ]
          },
          "metadata": {
            "tags": []
          }
        },
        {
          "output_type": "display_data",
          "data": {
            "text/html": [
              "<pre>       Final training RMSE: 1.41527</pre>"
            ],
            "text/plain": [
              "       Final training RMSE: 1.41527"
            ]
          },
          "metadata": {
            "tags": []
          }
        },
        {
          "output_type": "display_data",
          "data": {
            "text/html": [
              "<pre>recommendations finished on 1000/11871 queries. users per second: 778.16</pre>"
            ],
            "text/plain": [
              "recommendations finished on 1000/11871 queries. users per second: 778.16"
            ]
          },
          "metadata": {
            "tags": []
          }
        },
        {
          "output_type": "display_data",
          "data": {
            "text/html": [
              "<pre>recommendations finished on 2000/11871 queries. users per second: 776.805</pre>"
            ],
            "text/plain": [
              "recommendations finished on 2000/11871 queries. users per second: 776.805"
            ]
          },
          "metadata": {
            "tags": []
          }
        },
        {
          "output_type": "display_data",
          "data": {
            "text/html": [
              "<pre>recommendations finished on 3000/11871 queries. users per second: 775.454</pre>"
            ],
            "text/plain": [
              "recommendations finished on 3000/11871 queries. users per second: 775.454"
            ]
          },
          "metadata": {
            "tags": []
          }
        },
        {
          "output_type": "display_data",
          "data": {
            "text/html": [
              "<pre>recommendations finished on 4000/11871 queries. users per second: 774.693</pre>"
            ],
            "text/plain": [
              "recommendations finished on 4000/11871 queries. users per second: 774.693"
            ]
          },
          "metadata": {
            "tags": []
          }
        },
        {
          "output_type": "display_data",
          "data": {
            "text/html": [
              "<pre>recommendations finished on 5000/11871 queries. users per second: 774.825</pre>"
            ],
            "text/plain": [
              "recommendations finished on 5000/11871 queries. users per second: 774.825"
            ]
          },
          "metadata": {
            "tags": []
          }
        },
        {
          "output_type": "display_data",
          "data": {
            "text/html": [
              "<pre>recommendations finished on 6000/11871 queries. users per second: 773.195</pre>"
            ],
            "text/plain": [
              "recommendations finished on 6000/11871 queries. users per second: 773.195"
            ]
          },
          "metadata": {
            "tags": []
          }
        },
        {
          "output_type": "display_data",
          "data": {
            "text/html": [
              "<pre>recommendations finished on 7000/11871 queries. users per second: 772.57</pre>"
            ],
            "text/plain": [
              "recommendations finished on 7000/11871 queries. users per second: 772.57"
            ]
          },
          "metadata": {
            "tags": []
          }
        },
        {
          "output_type": "display_data",
          "data": {
            "text/html": [
              "<pre>recommendations finished on 8000/11871 queries. users per second: 772.786</pre>"
            ],
            "text/plain": [
              "recommendations finished on 8000/11871 queries. users per second: 772.786"
            ]
          },
          "metadata": {
            "tags": []
          }
        },
        {
          "output_type": "display_data",
          "data": {
            "text/html": [
              "<pre>recommendations finished on 9000/11871 queries. users per second: 772.919</pre>"
            ],
            "text/plain": [
              "recommendations finished on 9000/11871 queries. users per second: 772.919"
            ]
          },
          "metadata": {
            "tags": []
          }
        },
        {
          "output_type": "display_data",
          "data": {
            "text/html": [
              "<pre>recommendations finished on 10000/11871 queries. users per second: 772.441</pre>"
            ],
            "text/plain": [
              "recommendations finished on 10000/11871 queries. users per second: 772.441"
            ]
          },
          "metadata": {
            "tags": []
          }
        },
        {
          "output_type": "display_data",
          "data": {
            "text/html": [
              "<pre>recommendations finished on 11000/11871 queries. users per second: 772.896</pre>"
            ],
            "text/plain": [
              "recommendations finished on 11000/11871 queries. users per second: 772.896"
            ]
          },
          "metadata": {
            "tags": []
          }
        }
      ]
    },
    {
      "cell_type": "markdown",
      "metadata": {
        "id": "Cnz8xcwBKTdz"
      },
      "source": [
        "# Recommendations"
      ],
      "id": "Cnz8xcwBKTdz"
    },
    {
      "cell_type": "code",
      "metadata": {
        "colab": {
          "base_uri": "https://localhost:8080/",
          "height": 419
        },
        "id": "4a9dd212",
        "outputId": "8f55c79f-41de-4eef-b217-16718c107141"
      },
      "source": [
        "rec"
      ],
      "id": "4a9dd212",
      "execution_count": 31,
      "outputs": [
        {
          "output_type": "execute_result",
          "data": {
            "text/html": [
              "<div>\n",
              "<style scoped>\n",
              "    .dataframe tbody tr th:only-of-type {\n",
              "        vertical-align: middle;\n",
              "    }\n",
              "\n",
              "    .dataframe tbody tr th {\n",
              "        vertical-align: top;\n",
              "    }\n",
              "\n",
              "    .dataframe thead th {\n",
              "        text-align: right;\n",
              "    }\n",
              "</style>\n",
              "<table border=\"1\" class=\"dataframe\">\n",
              "  <thead>\n",
              "    <tr style=\"text-align: right;\">\n",
              "      <th></th>\n",
              "      <th>user_id</th>\n",
              "      <th>item_id</th>\n",
              "      <th>score</th>\n",
              "      <th>rank</th>\n",
              "    </tr>\n",
              "  </thead>\n",
              "  <tbody>\n",
              "    <tr>\n",
              "      <th>0</th>\n",
              "      <td>151944</td>\n",
              "      <td>123793</td>\n",
              "      <td>10.002439</td>\n",
              "      <td>1</td>\n",
              "    </tr>\n",
              "    <tr>\n",
              "      <th>1</th>\n",
              "      <td>734848</td>\n",
              "      <td>123793</td>\n",
              "      <td>9.862911</td>\n",
              "      <td>1</td>\n",
              "    </tr>\n",
              "    <tr>\n",
              "      <th>2</th>\n",
              "      <td>185966</td>\n",
              "      <td>123793</td>\n",
              "      <td>9.931020</td>\n",
              "      <td>1</td>\n",
              "    </tr>\n",
              "    <tr>\n",
              "      <th>3</th>\n",
              "      <td>721308</td>\n",
              "      <td>1064397</td>\n",
              "      <td>9.890133</td>\n",
              "      <td>1</td>\n",
              "    </tr>\n",
              "    <tr>\n",
              "      <th>4</th>\n",
              "      <td>339899</td>\n",
              "      <td>123793</td>\n",
              "      <td>9.916655</td>\n",
              "      <td>1</td>\n",
              "    </tr>\n",
              "    <tr>\n",
              "      <th>...</th>\n",
              "      <td>...</td>\n",
              "      <td>...</td>\n",
              "      <td>...</td>\n",
              "      <td>...</td>\n",
              "    </tr>\n",
              "    <tr>\n",
              "      <th>11866</th>\n",
              "      <td>96831</td>\n",
              "      <td>131533</td>\n",
              "      <td>9.849148</td>\n",
              "      <td>1</td>\n",
              "    </tr>\n",
              "    <tr>\n",
              "      <th>11867</th>\n",
              "      <td>481818</td>\n",
              "      <td>131533</td>\n",
              "      <td>9.689202</td>\n",
              "      <td>1</td>\n",
              "    </tr>\n",
              "    <tr>\n",
              "      <th>11868</th>\n",
              "      <td>783677</td>\n",
              "      <td>131533</td>\n",
              "      <td>9.733516</td>\n",
              "      <td>1</td>\n",
              "    </tr>\n",
              "    <tr>\n",
              "      <th>11869</th>\n",
              "      <td>222319</td>\n",
              "      <td>131533</td>\n",
              "      <td>9.822624</td>\n",
              "      <td>1</td>\n",
              "    </tr>\n",
              "    <tr>\n",
              "      <th>11870</th>\n",
              "      <td>134614</td>\n",
              "      <td>132738</td>\n",
              "      <td>9.762197</td>\n",
              "      <td>1</td>\n",
              "    </tr>\n",
              "  </tbody>\n",
              "</table>\n",
              "<p>95829 rows × 4 columns</p>\n",
              "</div>"
            ],
            "text/plain": [
              "       user_id  item_id      score  rank\n",
              "0       151944   123793  10.002439     1\n",
              "1       734848   123793   9.862911     1\n",
              "2       185966   123793   9.931020     1\n",
              "3       721308  1064397   9.890133     1\n",
              "4       339899   123793   9.916655     1\n",
              "...        ...      ...        ...   ...\n",
              "11866    96831   131533   9.849148     1\n",
              "11867   481818   131533   9.689202     1\n",
              "11868   783677   131533   9.733516     1\n",
              "11869   222319   131533   9.822624     1\n",
              "11870   134614   132738   9.762197     1\n",
              "\n",
              "[95829 rows x 4 columns]"
            ]
          },
          "metadata": {
            "tags": []
          },
          "execution_count": 31
        }
      ]
    }
  ]
}